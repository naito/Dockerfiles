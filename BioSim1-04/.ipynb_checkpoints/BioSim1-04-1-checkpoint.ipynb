{
 "cells": [
  {
   "cell_type": "markdown",
   "metadata": {},
   "source": [
    "# モデルを考察する（１）"
   ]
  },
  {
   "cell_type": "markdown",
   "metadata": {},
   "source": [
    "モデルの振る舞いを観察し、その動作原理を考察します。\n"
   ]
  },
  {
   "cell_type": "markdown",
   "metadata": {},
   "source": [
    "### お決まりの準備作業"
   ]
  },
  {
   "cell_type": "code",
   "execution_count": null,
   "metadata": {},
   "outputs": [],
   "source": [
    "import numpy as np\n",
    "\n",
    "%matplotlib inline\n",
    "import matplotlib.pyplot as plt"
   ]
  },
  {
   "cell_type": "code",
   "execution_count": null,
   "metadata": {},
   "outputs": [],
   "source": [
    "import biosim_course"
   ]
  },
  {
   "cell_type": "markdown",
   "metadata": {},
   "source": [
    "## モデルの構造を参考に、シミュレーション結果の意味を考える"
   ]
  },
  {
   "cell_type": "markdown",
   "metadata": {},
   "source": [
    "### 状態遷移図"
   ]
  },
  {
   "cell_type": "markdown",
   "metadata": {},
   "source": [
    "* 下図は、論文を参考に、モデル内の反応をまとめた **状態遷移図** です。\n",
    "* 着色されている文字は、モデル中での `Variable` 名です。\n",
    "* 白抜きの番号は反応の番号で、数字は、`Process` 名 `Rn` の _n_ に相当します。\n",
    "\n",
    "![Model](./Lec-11-Tyson1991.png)\n",
    "\n",
    "* `CT` は cdc2 の総量（`C2` + `CP` + `pM` + `M`） です。\n",
    "    * cdc2 については、モデル中に合成・分解は表現されていません。つまり、`CT` は一定（定数）です。\n",
    "    * すなわちこのモデルでは、cdc2 はつねに一定量存在するように、合成・分解が調整されていると仮定しているといえます。\n",
    "* `YT` は cyclin の総量（`Y` + `YP` + `pM` + `M`） です。\n"
   ]
  },
  {
   "cell_type": "markdown",
   "metadata": {},
   "source": [
    "### 微分方程式"
   ]
  },
  {
   "cell_type": "markdown",
   "metadata": {},
   "source": [
    "* 以下に、各反応の微分方程式を示します。反応４以外は、マルサスの人口モデルと同じ考え方に基づく質量作用則（Mass Action）で表現されています。\n",
    "* 反応４に含まれる関数 _f_ の内容を、最下段に示しています。\n",
    "* 反応４には、`M` によるポジティブフィードバックが表現されています。\n",
    "\n",
    "![Model](./Lec-11-Eqns.png)\n",
    "\n",
    "* _k_<sub>_1_</sub> 〜 _k_<sub>_9_</sub>, _k'_<sub>_4_</sub> は速度定数で、実験による計測などで決まります。\n"
   ]
  },
  {
   "cell_type": "markdown",
   "metadata": {},
   "source": [
    "### `Tyson1991.em` で用いられているパラメータの値"
   ]
  },
  {
   "cell_type": "markdown",
   "metadata": {},
   "source": [
    "* 具体的なパラメータの値は下の表の通りです。\n",
    "\n",
    "![Parameters](./Lec-11-Param.png)\n",
    "\n",
    "* _k_<sub>_2_</sub>, _k_<sub>_5_</sub> をゼロとみなしています。\n",
    "* _k_<sub>_8_</sub>[P] >> _k_<sub>_9_</sub> >> _k_<sub>_6_</sub> としています。\n",
    "    * すなわち、cdc2 の合成・分解に関わる反応では、`M` が分解する反応（`R6`）よりも、単量体の cdc2 のリン酸化（`R8`）・脱リン酸化（`R9`）の方が圧倒的に速いと仮定しています。\n",
    "    * cdc2 のリン酸化（`R8`）・脱リン酸化（`R9`）では、リン酸化の方が圧倒的に速いと仮定しています。\n",
    "    * これらを総合すると、`M` が分解してできた cdc2（`C2`） は、高速にリン酸化されて `CP` になり、`C2` の状態で存在している cdc2 はほとんど存在しないことを仮定しているといえます。\n",
    "\n",
    "* _k_<sub>_4_</sub>, _k_<sub>_6_</sub> は、カッコ内の数値の範囲内で変更可能なパラメータです。\n"
   ]
  },
  {
   "cell_type": "code",
   "execution_count": null,
   "metadata": {},
   "outputs": [],
   "source": [
    "EM = '''\n",
    "Stepper ODEStepper( ODE ) {}\n",
    "Stepper PassiveStepper( PSV ) {}\n",
    "\n",
    "System System( / )\n",
    "{\n",
    "    StepperID  ODE;\n",
    "    Name  default;\n",
    "}\n",
    "\n",
    "System System( /Cell )\n",
    "{\n",
    "    StepperID  ODE;\n",
    "\n",
    "    Variable Variable( SIZE )\n",
    "    {\n",
    "        Value  1.0;\n",
    "    }\n",
    "    \n",
    "    Variable Variable( C2 )\n",
    "    {\n",
    "        Name  cdc2k;\n",
    "        Value  0.0;\n",
    "    }\n",
    "    \n",
    "    Variable Variable( CP )\n",
    "    {\n",
    "        Name  \"cdc2k-P\";\n",
    "        Value  0.75;\n",
    "    }\n",
    "    \n",
    "    Variable Variable( M )\n",
    "    {\n",
    "        Name  \"p-cyclin_cdc2\";\n",
    "        Value  0.0;\n",
    "    }\n",
    "    \n",
    "    Variable Variable( pM )\n",
    "    {\n",
    "        Name  \"p-cyclin_cdc2-p\";\n",
    "        Value  0.25;\n",
    "    }\n",
    "    \n",
    "    Variable Variable( Y )\n",
    "    {\n",
    "        Name  cyclin;\n",
    "        Value  0.0;\n",
    "    }\n",
    "    \n",
    "    Variable Variable( YP )\n",
    "    {\n",
    "        Name  \"p-cyclin\";\n",
    "        Value  0.0;\n",
    "    }\n",
    "    \n",
    "    Variable Variable( YT )\n",
    "    {\n",
    "        Name  total_cyclin;\n",
    "        Value  0.25;\n",
    "    }\n",
    "    \n",
    "    Variable Variable( CT )\n",
    "    {\n",
    "        Name  total_cdc2;\n",
    "        Value  1.0;\n",
    "    }\n",
    "\n",
    "### Reactions ###\n",
    "\n",
    "    Process ExpressionFluxProcess( R1 )\n",
    "    {\n",
    "        Name  \"cyclin biosynthesis\";\n",
    "        k1aa  0.015;\n",
    "        Expression  \"k1aa / CT.Value\";\n",
    "        VariableReferenceList\n",
    "            [ Y    :.:Y   1 ]\n",
    "            [ CT   :.:CT  0 ];\n",
    "    }\n",
    "    \n",
    "    Process ExpressionFluxProcess( R2 )\n",
    "    {\n",
    "        Name  \"default degradation of cyclin\";\n",
    "        k2  0.0;\n",
    "        Expression  \"k2 * Y.Value\";\n",
    "        VariableReferenceList\n",
    "            [ Y   :.:Y  -1 ];\n",
    "    }\n",
    "    \n",
    "    Process ExpressionFluxProcess( R3 )\n",
    "    {\n",
    "        Name  \"cyclin cdc2k-p association\";\n",
    "        k3  200.0;\n",
    "        Expression  \"k3 * CP.Value * Y.Value / CT.Value\";\n",
    "        VariableReferenceList\n",
    "            [ CP   :.:CP  -1 ]\n",
    "            [ Y    :.:Y   -1 ]\n",
    "            [ pM   :.:pM   1 ]\n",
    "            [ CT   :.:CT   0 ];\n",
    "    }\n",
    "    \n",
    "    Process ExpressionFluxProcess( R4 )\n",
    "    {\n",
    "        Name  \"activation of cdc2 kinase\";\n",
    "        k4  180.0;\n",
    "        k4prime  0.018;\n",
    "        Expression  \"pM.Value * (k4prime + k4 * pow(M.Value / CT.Value, 2))\";\n",
    "        VariableReferenceList\n",
    "            [ pM   :.:pM  -1 ]\n",
    "            [ M    :.:M    1 ]\n",
    "            [ CT   :.:CT   0 ];\n",
    "    }\n",
    "    \n",
    "    Process ExpressionFluxProcess( R5 )\n",
    "    {\n",
    "        Name  \"deactivation of cdc2 kinase\";\n",
    "        k5_P  0.0;\n",
    "        Expression  \"k5_P * M.Value\";\n",
    "        VariableReferenceList\n",
    "            [ M    :.:M   -1 ]\n",
    "            [ pM   :.:pM   1 ];\n",
    "    }\n",
    "    \n",
    "    Process ExpressionFluxProcess( R6 )\n",
    "    {\n",
    "        Name  \"cyclin_cdc2k dissociation\";\n",
    "        k6  1.0;\n",
    "        Expression  \"k6 * M.Value\";\n",
    "        VariableReferenceList\n",
    "            [ M    :.:M   -1 ]\n",
    "            [ C2   :.:C2   1 ]\n",
    "            [ YP   :.:YP   1 ];\n",
    "    }\n",
    "    \n",
    "    Process ExpressionFluxProcess( R7 )\n",
    "    {\n",
    "        Name  \"cdc2 kinase triggered degration of cyclin\";\n",
    "        k7  0.6;\n",
    "        Expression  \"k7 * YP.Value\";\n",
    "        VariableReferenceList\n",
    "            [ YP   :.:YP  -1 ];\n",
    "    }\n",
    "    \n",
    "    Process ExpressionFluxProcess( R8 )\n",
    "    {\n",
    "        Name  \"cdc2k phosphorylation\";\n",
    "        k8_P  1000000.0;\n",
    "        Expression  \"C2.Value * k8_P\";\n",
    "        VariableReferenceList\n",
    "            [ C2   :.:C2  -1 ]\n",
    "            [ CP   :.:CP   1 ];\n",
    "    }\n",
    "    \n",
    "    Process ExpressionFluxProcess( R9 )\n",
    "    {\n",
    "        Name  \"cdc2k dephosphorylation\";\n",
    "        k9  1000.0;\n",
    "        Expression  \"CP.Value * k9\";\n",
    "        VariableReferenceList\n",
    "            [ CP   :.:CP  -1 ]\n",
    "            [ C2   :.:C2   1 ];\n",
    "    }\n",
    "\n",
    "### Assignment total ammounts ###\n",
    "\n",
    "    Process ExpressionAssignmentProcess( YT )\n",
    "    {\n",
    "        StepperID  PSV;\n",
    "        Name  \"Assignment rule for 'YT'\";\n",
    "        Expression  \"Y.Value + YP.Value + M.Value + pM.Value\";\n",
    "        VariableReferenceList\n",
    "            [ YT :.:YT  1 ]\n",
    "            [ Y  :.:Y   0 ]\n",
    "            [ YP :.:YP  0 ]\n",
    "            [ M  :.:M   0 ]\n",
    "            [ pM :.:pM  0 ];\n",
    "    }\n",
    "    \n",
    "    Process ExpressionAssignmentProcess( CT )\n",
    "    {\n",
    "        StepperID  PSV;\n",
    "        Name  \"Assignment rule for 'CT'\";\n",
    "        Expression  \"C2.Value + CP.Value + M.Value + pM.Value\";\n",
    "        VariableReferenceList\n",
    "            [ CT :.:CT  1 ]\n",
    "            [ C2 :.:C2  0 ]\n",
    "            [ CP :.:CP  0 ]\n",
    "            [ M  :.:M   0 ]\n",
    "            [ pM :.:pM  0 ];\n",
    "    }\n",
    "\n",
    "}\n",
    "'''\n"
   ]
  },
  {
   "cell_type": "code",
   "execution_count": null,
   "metadata": {},
   "outputs": [],
   "source": [
    "setModel( EM, \"Tyson1991\")\n",
    "print 't = {}'.format( getCurrentTime() )"
   ]
  },
  {
   "cell_type": "markdown",
   "metadata": {},
   "source": [
    "## Loggerをつくる"
   ]
  },
  {
   "cell_type": "code",
   "execution_count": null,
   "metadata": {},
   "outputs": [],
   "source": [
    "target_SystemPath_list = ( '/', '/Cell', )\n",
    "Target_Properties = { 'Variable': ['Value', 'Velocity'], }\n",
    "Logger_dict = {}\n",
    "\n",
    "for target_SystemPath in target_SystemPath_list:\n",
    "    for E_type, Properties in Target_Properties.items():\n",
    "        for E in getEntityList( E_type, target_SystemPath ):\n",
    "            for p in Properties:\n",
    "                FullPN = ':'.join( ( E_type, target_SystemPath, E, p ) )\n",
    "                Logger_dict[ FullPN ] = createLoggerStub( FullPN )\n",
    "                Logger_dict[ FullPN ].create()"
   ]
  },
  {
   "cell_type": "code",
   "execution_count": null,
   "metadata": {},
   "outputs": [],
   "source": [
    "step_width = 100.0  # min\n",
    "\n",
    "run( step_width )\n",
    "print 't = {} (min)'.format( getCurrentTime() )"
   ]
  },
  {
   "cell_type": "markdown",
   "metadata": {},
   "source": [
    "## とりあえずシミュレーションしてみる"
   ]
  },
  {
   "cell_type": "markdown",
   "metadata": {},
   "source": [
    "* まず、オリジナルのモデルを読み込んで 100 分のシミュレーションを実行し、システムパス `/cell` 内のすべての `Variable` をグラフに描いてみます。"
   ]
  },
  {
   "cell_type": "code",
   "execution_count": null,
   "metadata": {},
   "outputs": [],
   "source": [
    "Data_dict = {}\n",
    "for FullPN, Logger in Logger_dict.items():\n",
    "    Data_dict[ FullPN ] = np.array( Logger.getData( 5, getCurrentTime(), getCurrentTime() / 100 ) )[ :, :2 ]\n",
    "\n",
    "plt.figure()\n",
    "for FullPN, d in Data_dict.items():\n",
    "    if FullPN.split(':')[3] == 'Value':\n",
    "        plt.plot( d[ :, 0 ], d[ :, 1 ], label = FullPN.split(':')[ 2 ] )\n",
    "\n",
    "plt.legend( loc = 'upper right' )"
   ]
  },
  {
   "cell_type": "code",
   "execution_count": null,
   "metadata": {},
   "outputs": [],
   "source": [
    "for FullPN, d in Data_dict.items():\n",
    "    if FullPN.split(':')[3] == 'Velocity':\n",
    "        plt.plot( d[ :, 0 ], d[ :, 1 ], label = FullPN.split(':')[ 2 ] )\n",
    "\n",
    "plt.legend( loc = 'upper right' )"
   ]
  },
  {
   "cell_type": "markdown",
   "metadata": {},
   "source": [
    "## パラメータを変更してシミュレーション結果の変化を観察する"
   ]
  },
  {
   "cell_type": "markdown",
   "metadata": {},
   "source": [
    "* _k_<sub>_4_</sub>, _k_<sub>_6_</sub> を変更してシミュレーションを実行してみます。\n",
    "    * このモデルの出典となっている論文の Fig.2 に、さまざまな _k_<sub>_4_</sub>, _k_<sub>_6_</sub> でモデルの振る舞いを検討した結果が示されています。"
   ]
  },
  {
   "cell_type": "markdown",
   "metadata": {},
   "source": [
    "### _k_<sub>_4_</sub>, _k_<sub>_6_</sub> を変更し、シミュレーションを実行する"
   ]
  },
  {
   "cell_type": "markdown",
   "metadata": {},
   "source": [
    "* まず、_k_<sub>_4_</sub>, _k_<sub>_6_</sub> が、モデル中のどこにあるのかを確かめます。\n",
    "* _k_<sub>_4_</sub>, _k_<sub>_6_</sub> は、それぞれ、反応 `R4`, `R6` で用いられているパラメータです。\n",
    "* R4`, `R6` の FullID は以下の通りです。\n",
    "\n",
    "```\n",
    "Process:/Cell:R4\n",
    "Process:/Cell:R6\n",
    "```\n"
   ]
  },
  {
   "cell_type": "markdown",
   "metadata": {},
   "source": [
    "* `createEntityStub()` で、反応 `R4`, `R6` の `EntityStub` をつくります。"
   ]
  },
  {
   "cell_type": "code",
   "execution_count": null,
   "metadata": {},
   "outputs": [],
   "source": [
    "R4 = createEntityStub( 'Process:/Cell:R4' )\n",
    "R6 = createEntityStub( 'Process:/Cell:R6' )"
   ]
  },
  {
   "cell_type": "markdown",
   "metadata": {},
   "source": [
    "* `getPropertyList()` で、反応 `R4`, `R6` の属性を確認し、`k4`, `k6` が含まれていることを確認します。\n"
   ]
  },
  {
   "cell_type": "code",
   "execution_count": null,
   "metadata": {},
   "outputs": [],
   "source": [
    "R4.getPropertyList()"
   ]
  },
  {
   "cell_type": "code",
   "execution_count": null,
   "metadata": {},
   "outputs": [],
   "source": [
    "R6.getPropertyList()"
   ]
  },
  {
   "cell_type": "markdown",
   "metadata": {},
   "source": [
    "--------------------------\n",
    "* Process:/cell:R4:k4 および Process:/cell:R6:k6 を変更します。\n",
    "* ここでは、_k_<sub>_4_</sub> = 30, _k_<sub>_6_</sub> = 0.1 に変更します。\n"
   ]
  },
  {
   "cell_type": "code",
   "execution_count": null,
   "metadata": {},
   "outputs": [],
   "source": [
    "R4['k4'] = 30\n",
    "R6['k6'] = 0.1"
   ]
  },
  {
   "cell_type": "markdown",
   "metadata": {},
   "source": [
    "* 100 分間のシミュレーションを実行します。\n",
    "* すでに 100 分のシミュレーションを実行済みなので、現時刻は 200 分となります。\n"
   ]
  },
  {
   "cell_type": "code",
   "execution_count": null,
   "metadata": {},
   "outputs": [],
   "source": [
    "run( step_width )\n",
    "print 't = {} (min)'.format( getCurrentTime() )"
   ]
  },
  {
   "cell_type": "markdown",
   "metadata": {},
   "source": [
    "* 時刻 5 からの Variable の変化をグラフを出力してみます。\n",
    "  * 時刻 0 近辺は初期値依存の変動が大きいためプロット対象から外します。"
   ]
  },
  {
   "cell_type": "code",
   "execution_count": null,
   "metadata": {},
   "outputs": [],
   "source": [
    "for FullPN, Logger in Logger_dict.items():\n",
    "    Data_dict[ FullPN ] = np.array( Logger.getData( 5, getCurrentTime(), 0.1 ) )[ :, :2 ]\n",
    "\n",
    "for FullPN, d in Data_dict.items():\n",
    "    if FullPN.split(':')[3] == 'Value':\n",
    "        plt.plot( d[ :, 0 ], d[ :, 1 ], label = FullPN.split(':')[ 2 ] )\n",
    "\n",
    "plt.legend( loc = 'upper right' )"
   ]
  },
  {
   "cell_type": "markdown",
   "metadata": {},
   "source": [
    "* パラメータを変更した _t_ = 100 あたりを境に振動が消えているのが分かります。\n",
    "* パラメータ変更後の100分間だけをグラフにしてみます。\n",
    "    * getData() で取得するデータの範囲を **開始**：`getCurrentTime() - 100.0`，**終了**：`getCurrentTime()` とすることで、最後の 100 分間のデータをとってくることができます。\n",
    "    * 下のセルの最後から２行目に追加された **`plt.xlim()`** は、_x_ 軸の範囲を指定するメソッドです。指定しないと、原点がゼロになります。ここでは、100 ≦ _t_ ≦ 200 の範囲をプロットしたいので、指定を入れます。\n"
   ]
  },
  {
   "cell_type": "code",
   "execution_count": null,
   "metadata": {},
   "outputs": [],
   "source": [
    "for FullPN, Logger in Logger_dict.items():\n",
    "    Data_dict[ FullPN ] = np.array( Logger.getData( getCurrentTime() - 100.0, getCurrentTime(), 0.1 ) )[ :, :2 ]\n",
    "\n",
    "for FullPN, d in Data_dict.items():\n",
    "    if FullPN.split(':')[3] == 'Value':\n",
    "        plt.plot( d[ :, 0 ], d[ :, 1 ], label = FullPN.split(':')[ 2 ] )\n",
    "\n",
    "plt.xlim( getCurrentTime() - 100.0, getCurrentTime() )\n",
    "plt.legend( loc = 'upper right' )"
   ]
  },
  {
   "cell_type": "markdown",
   "metadata": {},
   "source": [
    "* パラメータ変更後も、小さな振動が１回生じ、その後、振動が停止して、_t_ = 140 あたりから、すべての `Variable` に変動がなくなったように見えます。\n",
    "* これは、初期値依存性と呼ばれる現象の一種で、急激に一部の状況が変化しても、系全体がその変化に追いついて新たな安定状態に達するのに時間がかかるために発生します。  \n",
    "パラメータを変更して系全体の振る舞いの変化を確認するためには、こうした変動が納まるのに充分な時間のシミュレーションを行ってから、確認しなければなりません。\n",
    "* ここでは、**パラメータを変更する都度、1000 分のシミュレーションを行う**ことにします。\n",
    "* 現在の条件でも、追加であと 900 分、シミュレーションを実行し、最後の 100 分のグラフを描くことにします。"
   ]
  },
  {
   "cell_type": "code",
   "execution_count": null,
   "metadata": {},
   "outputs": [],
   "source": [
    "run( 9 * step_width )\n",
    "print 't = {} (min)'.format( getCurrentTime() )"
   ]
  },
  {
   "cell_type": "code",
   "execution_count": null,
   "metadata": {},
   "outputs": [],
   "source": [
    "for FullPN, Logger in Logger_dict.items():\n",
    "    Data_dict[ FullPN ] = np.array( Logger.getData( getCurrentTime() - 100.0, getCurrentTime(), 0.1 ) )[ :, :2 ]\n",
    "\n",
    "for FullPN, d in Data_dict.items():\n",
    "    if FullPN.split(':')[3] == 'Value':\n",
    "        plt.plot( d[ :, 0 ], d[ :, 1 ], label = FullPN.split(':')[ 2 ] )\n",
    "\n",
    "plt.xlim( getCurrentTime() - 100.0, getCurrentTime() )\n",
    "plt.legend( loc = 'upper right' )"
   ]
  },
  {
   "cell_type": "markdown",
   "metadata": {},
   "source": [
    "* 振動が消失し、系全体が変化のない（すべての Variable の変化速度がゼロ）、安定した状態に達しているように見えます。こうした状態を **定常状態（steady state）** といいます。\n"
   ]
  },
  {
   "cell_type": "markdown",
   "metadata": {},
   "source": [
    "### _k_<sub>_4_</sub>, _k_<sub>_6_</sub> をいろいろ変更してみるために、関数をつくる"
   ]
  },
  {
   "cell_type": "markdown",
   "metadata": {},
   "source": [
    "このあと、_k_<sub>_4_</sub>, _k_<sub>_6_</sub> をいろいろ変更して、シミュレーション結果の変化を観察することにします。１組の値を試す毎に、以下のような決まりきったプロセスを繰り返すことになります。\n",
    "\n",
    "1. `k4`, `k6` の値を書き換える。\n",
    "2. シミュレーションを実行する（安定するまでのゆとりを考えて 1000 分）。\n",
    "3. 最後の 100 分間のデータを `Logger` から取得する。\n",
    "4. データをグラフにプロットする。\n",
    "\n",
    "これらをまとめて実行する関数（メソッド）を定義することにします。\n",
    "\n",
    "プログラムを書くときは、原則として、同じことを二度書かないよう心がけるとうまくいくことが多いです。  \n",
    "同じことを複数回書くと、後にその部分を改変した際に、同じことを書いたすべての箇所を正しく変更しなければならなくなり、この作業をミスを犯さずに繰り返しつづけるのは至難です。人間はミスする生き物です。ミスは起こるものという前提で、ミスをしたときに最小限の労力でミスを発見・訂正できるように、開発プロセスを考えるようにしましょう。これはプログラミングに限りません。\n",
    "\n",
    "-----\n",
    "* 関数名は test_k4_and_k6() とし、２つの引数に、設定したい _k_<sub>_4_</sub>, _k_<sub>_6_</sub> の値を順に渡す設計とします。\n",
    "    * 最終行の plt.title() は、グラフのタイトルを表示させるメソッドです。ここでは、設定した _k_<sub>_4_</sub>, _k_<sub>_6_</sub> の値をタイトルとして表示するようにしてみました。\n"
   ]
  },
  {
   "cell_type": "code",
   "execution_count": null,
   "metadata": {},
   "outputs": [],
   "source": [
    "def test_k4_and_k6( k4, k6 ):\n",
    "    R4['k4'] = k4\n",
    "    R6['k6'] = k6\n",
    "    \n",
    "    run( 10 * step_width )\n",
    "    _t = getCurrentTime()\n",
    "\n",
    "    for FullPN, Logger in Logger_dict.items():\n",
    "        Data_dict[ FullPN ] = np.array( Logger.getData( _t - 100.0, _t, 0.1 ) )[ :, :2 ]\n",
    "\n",
    "    plt.figure()\n",
    "    for FullPN, d in Data_dict.items():\n",
    "        if FullPN.split(':')[3] == 'Value':\n",
    "            plt.plot( d[ :, 0 ], d[ :, 1 ], label = FullPN.split(':')[ 2 ] )\n",
    "\n",
    "    plt.xlim( _t - 100.0, _t )\n",
    "    plt.legend( loc = 'upper right' )\n",
    "    plt.title( 'k4 = {},  k6 = {}'.format( k4, k6 ) )"
   ]
  },
  {
   "cell_type": "markdown",
   "metadata": {},
   "source": [
    "* メソッド test_k4_and_k6 に _k_<sub>_4_</sub>, _k_<sub>_6_</sub> を引数として渡してみます。\n"
   ]
  },
  {
   "cell_type": "code",
   "execution_count": null,
   "metadata": {},
   "outputs": [],
   "source": [
    "test_k4_and_k6( 30.0, 0.25 )"
   ]
  },
  {
   "cell_type": "code",
   "execution_count": null,
   "metadata": {},
   "outputs": [],
   "source": [
    "test_k4_and_k6( 180.0, 1.0 )"
   ]
  },
  {
   "cell_type": "code",
   "execution_count": null,
   "metadata": {},
   "outputs": [],
   "source": [
    "test_k4_and_k6( 180.0, 2.0 )"
   ]
  },
  {
   "cell_type": "code",
   "execution_count": null,
   "metadata": {},
   "outputs": [],
   "source": [
    "test_k4_and_k6( 500.0, 1.3 )"
   ]
  },
  {
   "cell_type": "markdown",
   "metadata": {},
   "source": [
    "* _k_<sub>_4_</sub>, _k_<sub>_6_</sub> の組み合わせによって、振動の有無が変化することがわかりました。\n",
    "* _k_<sub>_4_</sub> = 30, _k_<sub>_6_</sub> = 0.1 および  \n",
    "_k_<sub>_4_</sub> = 180, _k_<sub>_6_</sub> = 2.0 では振動が消失することが示されましたが、両者の状況は同じでしょうか？各 Variable がどういった値で静止しているかなどを観察して、比較してみてください。\n",
    "\n",
    "-----\n",
    "* ここまでの 5100 分のシミュレーション結果全体をグラフに描いてみます。\n",
    "    * `plt.figure( figsize = (12, 6) )` のように、引数 _`figsize`_` = (横, 縦)` を指定すると、`figure` の大きさを指定できます。\n",
    "    * 下のグラフでは、凡例がグラフにかぶらないように右に余白をつくるために `plt.xlim()` を使っています。\n",
    "\n"
   ]
  },
  {
   "cell_type": "code",
   "execution_count": null,
   "metadata": {},
   "outputs": [],
   "source": [
    "for FullPN, Logger in Logger_dict.items():\n",
    "    Data_dict[ FullPN ] = np.array( Logger.getData( 5, getCurrentTime(), 0.1 ) )[ :, :2 ]\n",
    "\n",
    "plt.figure( figsize = (12, 6) )\n",
    "for FullPN, d in Data_dict.items():\n",
    "    if FullPN.split(':')[3] == 'Value':\n",
    "        plt.plot( d[ :, 0 ], d[ :, 1 ], label = FullPN.split(':')[ 2 ] )\n",
    "\n",
    "plt.xlim( 5, getCurrentTime() )\n",
    "plt.legend( loc = 'upper right' )"
   ]
  },
  {
   "cell_type": "markdown",
   "metadata": {},
   "source": [
    "* パラメータの変更によって、系の振る舞いが変化している様子を俯瞰することができます。\n",
    "* ノートブック BioSim1-06-1 に、いくつかのパラメータ値のシミュレーションを実行しグラフを出力する例を示します。"
   ]
  },
  {
   "cell_type": "markdown",
   "metadata": {},
   "source": [
    "## 参考資料"
   ]
  },
  {
   "cell_type": "markdown",
   "metadata": {},
   "source": [
    "* [論文PDF](PNAS-1991-Tyson-7328-32.pdf)\n",
    "* 解説記事：[BioModels データベース Models of the month 2006年10月](http://www.ebi.ac.uk/biomodels-main/static-pages.do?page=ModelMonth%2F2006-10)\n",
    "* 生物モデルデータベース [BioModels のエントリー](http://www.ebi.ac.uk/biomodels-main/BIOMD0000000005)\n",
    "* 医学論文データベース [PubMed のエントリー](http://www.ncbi.nlm.nih.gov/pubmed/1831270)"
   ]
  },
  {
   "cell_type": "code",
   "execution_count": null,
   "metadata": {},
   "outputs": [],
   "source": []
  }
 ],
 "metadata": {
  "kernelspec": {
   "display_name": "Python 2",
   "language": "python",
   "name": "python2"
  },
  "language_info": {
   "codemirror_mode": {
    "name": "ipython",
    "version": 2
   },
   "file_extension": ".py",
   "mimetype": "text/x-python",
   "name": "python",
   "nbconvert_exporter": "python",
   "pygments_lexer": "ipython2",
   "version": "2.7.16"
  }
 },
 "nbformat": 4,
 "nbformat_minor": 1
}
