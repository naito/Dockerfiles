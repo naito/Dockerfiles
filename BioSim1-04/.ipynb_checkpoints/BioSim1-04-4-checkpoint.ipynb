{
 "cells": [
  {
   "cell_type": "markdown",
   "metadata": {},
   "source": [
    "# モデルを考察する（４）"
   ]
  },
  {
   "cell_type": "markdown",
   "metadata": {},
   "source": [
    "Tyson のモデルの振動を考察するヒントをいくつか。"
   ]
  },
  {
   "cell_type": "markdown",
   "metadata": {},
   "source": [
    "### 準備作業"
   ]
  },
  {
   "cell_type": "code",
   "execution_count": null,
   "metadata": {},
   "outputs": [],
   "source": [
    "import numpy as np\n",
    "\n",
    "%matplotlib inline\n",
    "import matplotlib.pyplot as plt"
   ]
  },
  {
   "cell_type": "code",
   "execution_count": null,
   "metadata": {},
   "outputs": [],
   "source": [
    "import biosim_course"
   ]
  },
  {
   "cell_type": "code",
   "execution_count": null,
   "metadata": {},
   "outputs": [],
   "source": [
    "EM = '''\n",
    "Stepper ODEStepper( ODE ) {}\n",
    "Stepper PassiveStepper( PSV ) {}\n",
    "\n",
    "System System( / )\n",
    "{\n",
    "    StepperID  ODE;\n",
    "    Name  default;\n",
    "}\n",
    "\n",
    "System System( /Cell )\n",
    "{\n",
    "    StepperID  ODE;\n",
    "\n",
    "    Variable Variable( SIZE )\n",
    "    {\n",
    "        Value  1.0;\n",
    "    }\n",
    "    \n",
    "    Variable Variable( C2 )\n",
    "    {\n",
    "        Name  cdc2k;\n",
    "        Value  0.0;\n",
    "    }\n",
    "    \n",
    "    Variable Variable( CP )\n",
    "    {\n",
    "        Name  \"cdc2k-P\";\n",
    "        Value  0.75;\n",
    "    }\n",
    "    \n",
    "    Variable Variable( M )\n",
    "    {\n",
    "        Name  \"p-cyclin_cdc2\";\n",
    "        Value  0.0;\n",
    "    }\n",
    "    \n",
    "    Variable Variable( pM )\n",
    "    {\n",
    "        Name  \"p-cyclin_cdc2-p\";\n",
    "        Value  0.25;\n",
    "    }\n",
    "    \n",
    "    Variable Variable( Y )\n",
    "    {\n",
    "        Name  cyclin;\n",
    "        Value  0.0;\n",
    "    }\n",
    "    \n",
    "    Variable Variable( YP )\n",
    "    {\n",
    "        Name  \"p-cyclin\";\n",
    "        Value  0.0;\n",
    "    }\n",
    "    \n",
    "    Variable Variable( YT )\n",
    "    {\n",
    "        Name  total_cyclin;\n",
    "        Value  0.25;\n",
    "    }\n",
    "    \n",
    "    Variable Variable( CT )\n",
    "    {\n",
    "        Name  total_cdc2;\n",
    "        Value  1.0;\n",
    "    }\n",
    "\n",
    "### Reactions ###\n",
    "\n",
    "    Process ExpressionFluxProcess( R1 )\n",
    "    {\n",
    "        Name  \"cyclin biosynthesis\";\n",
    "        k1aa  0.015;\n",
    "        Expression  \"k1aa / CT.Value\";\n",
    "        VariableReferenceList\n",
    "            [ Y    :.:Y   1 ]\n",
    "            [ CT   :.:CT  0 ];\n",
    "    }\n",
    "    \n",
    "    Process ExpressionFluxProcess( R2 )\n",
    "    {\n",
    "        Name  \"default degradation of cyclin\";\n",
    "        k2  0.0;\n",
    "        Expression  \"k2 * Y.Value\";\n",
    "        VariableReferenceList\n",
    "            [ Y   :.:Y  -1 ];\n",
    "    }\n",
    "    \n",
    "    Process ExpressionFluxProcess( R3 )\n",
    "    {\n",
    "        Name  \"cyclin cdc2k-p association\";\n",
    "        k3  200.0;\n",
    "        Expression  \"k3 * CP.Value * Y.Value / CT.Value\";\n",
    "        VariableReferenceList\n",
    "            [ CP   :.:CP  -1 ]\n",
    "            [ Y    :.:Y   -1 ]\n",
    "            [ pM   :.:pM   1 ]\n",
    "            [ CT   :.:CT   0 ];\n",
    "    }\n",
    "    \n",
    "    Process ExpressionFluxProcess( R4 )\n",
    "    {\n",
    "        Name  \"activation of cdc2 kinase\";\n",
    "        k4  180.0;\n",
    "        k4prime  0.018;\n",
    "        Expression  \"pM.Value * (k4prime + k4 * pow(M.Value / CT.Value, 2))\";\n",
    "        VariableReferenceList\n",
    "            [ pM   :.:pM  -1 ]\n",
    "            [ M    :.:M    1 ]\n",
    "            [ CT   :.:CT   0 ];\n",
    "    }\n",
    "    \n",
    "    Process ExpressionFluxProcess( R5 )\n",
    "    {\n",
    "        Name  \"deactivation of cdc2 kinase\";\n",
    "        k5_P  0.0;\n",
    "        Expression  \"k5_P * M.Value\";\n",
    "        VariableReferenceList\n",
    "            [ M    :.:M   -1 ]\n",
    "            [ pM   :.:pM   1 ];\n",
    "    }\n",
    "    \n",
    "    Process ExpressionFluxProcess( R6 )\n",
    "    {\n",
    "        Name  \"cyclin_cdc2k dissociation\";\n",
    "        k6  1.0;\n",
    "        Expression  \"k6 * M.Value\";\n",
    "        VariableReferenceList\n",
    "            [ M    :.:M   -1 ]\n",
    "            [ C2   :.:C2   1 ]\n",
    "            [ YP   :.:YP   1 ];\n",
    "    }\n",
    "    \n",
    "    Process ExpressionFluxProcess( R7 )\n",
    "    {\n",
    "        Name  \"cdc2 kinase triggered degration of cyclin\";\n",
    "        k7  0.6;\n",
    "        Expression  \"k7 * YP.Value\";\n",
    "        VariableReferenceList\n",
    "            [ YP   :.:YP  -1 ];\n",
    "    }\n",
    "    \n",
    "    Process ExpressionFluxProcess( R8 )\n",
    "    {\n",
    "        Name  \"cdc2k phosphorylation\";\n",
    "        k8_P  1000000.0;\n",
    "        Expression  \"C2.Value * k8_P\";\n",
    "        VariableReferenceList\n",
    "            [ C2   :.:C2  -1 ]\n",
    "            [ CP   :.:CP   1 ];\n",
    "    }\n",
    "    \n",
    "    Process ExpressionFluxProcess( R9 )\n",
    "    {\n",
    "        Name  \"cdc2k dephosphorylation\";\n",
    "        k9  1000.0;\n",
    "        Expression  \"CP.Value * k9\";\n",
    "        VariableReferenceList\n",
    "            [ CP   :.:CP  -1 ]\n",
    "            [ C2   :.:C2   1 ];\n",
    "    }\n",
    "\n",
    "### Assignment total ammounts ###\n",
    "\n",
    "    Process ExpressionAssignmentProcess( YT )\n",
    "    {\n",
    "        StepperID  PSV;\n",
    "        Name  \"Assignment rule for 'YT'\";\n",
    "        Expression  \"Y.Value + YP.Value + M.Value + pM.Value\";\n",
    "        VariableReferenceList\n",
    "            [ YT :.:YT  1 ]\n",
    "            [ Y  :.:Y   0 ]\n",
    "            [ YP :.:YP  0 ]\n",
    "            [ M  :.:M   0 ]\n",
    "            [ pM :.:pM  0 ];\n",
    "    }\n",
    "    \n",
    "    Process ExpressionAssignmentProcess( CT )\n",
    "    {\n",
    "        StepperID  PSV;\n",
    "        Name  \"Assignment rule for 'CT'\";\n",
    "        Expression  \"C2.Value + CP.Value + M.Value + pM.Value\";\n",
    "        VariableReferenceList\n",
    "            [ CT :.:CT  1 ]\n",
    "            [ C2 :.:C2  0 ]\n",
    "            [ CP :.:CP  0 ]\n",
    "            [ M  :.:M   0 ]\n",
    "            [ pM :.:pM  0 ];\n",
    "    }\n",
    "\n",
    "}\n",
    "'''"
   ]
  },
  {
   "cell_type": "code",
   "execution_count": null,
   "metadata": {},
   "outputs": [],
   "source": [
    "setModel( EM, \"Tyson1991\")\n",
    "print 't = {}'.format( getCurrentTime() )"
   ]
  },
  {
   "cell_type": "markdown",
   "metadata": {},
   "source": [
    "## 注目すべき要素はどれか？ "
   ]
  },
  {
   "cell_type": "markdown",
   "metadata": {},
   "source": [
    "### 細胞周期の生物学とモデルを照らしあわせて考える"
   ]
  },
  {
   "cell_type": "markdown",
   "metadata": {},
   "source": [
    "<h4>細胞周期の概要</h4>\n",
    "\n",
    "![Model](./Lec-12-ECB3-18-2.jpg)\n",
    "\n",
    "細胞は間期に連続的に成長する。間期はG<sub>1</sub>期,S期, G<sub>2</sub>期の3つに分けられ、DNA複製はS期に起こる。M期が終わってS期が始まるまでの間が G<sub>1</sub>期、S期が完了してM期までの間がG<sub>2</sub>期である。M期に有糸分裂とよばれる過程によりまず核が分裂し、続いて細胞質分裂とよばれる過程により細胞質が分裂する。（Essential細胞生物学第３版 図18-2 より）\n",
    "\n",
    "------\n",
    "\n",
    "* 細胞周期ではＭ期に有糸分裂が起きる。\n",
    "* 1970年代に、真核細胞の細胞周期で、Ｍ期に特異的に存在する**Ｍ期促進因子**（M-phase promoting factor, **MPF**）の存在が発見された。\n",
    "* 同じく1970年代に、細胞周期の制御に関わっている **cdc2**（分裂酵母）が発見された。\n",
    "* 1980年代に、細胞周期の進行とともに周期的に増減する **cycline** が発見された。\n",
    "    * cycleine はＭ期の終わりに消失することも発見された。\n",
    "* **MPF が、cdc2 と cycline の複合体である**ことが示された（Lohka, Maller, 1988）。\n",
    "* Tyson のモデルはこうした研究の展開に基づき、1991年に発表された。\n",
    "\n",
    "![Model](./Lec-12-ECB3-18-8.jpg)\n",
    "\n",
    "アフリカツメガエルの胚でMPF活性は細胞周期に対応する変動を示す。MPFの活性は、有糸分裂開始直前に急上昇し、有糸分裂終了間際に急激にゼロになる。（Essential細胞生物学第３版 図18-8 より）\n"
   ]
  },
  {
   "cell_type": "markdown",
   "metadata": {},
   "source": [
    "<h4>モデルとの対応づけ</h4>\n",
    "\n",
    "![Model](./Lec-11-Tyson1991.png)\n",
    "\n",
    "* Tyson のモデルでは、MPF は、`M` として表現されている。\n",
    "* モデル中、`M` はスパイク状に急増し、速やかに急減する。\n",
    "    * この振る舞いの原因を中心に考えてみるのはひとつのアプローチ。\n"
   ]
  },
  {
   "cell_type": "markdown",
   "metadata": {},
   "source": [
    "## Loggerをつくる"
   ]
  },
  {
   "cell_type": "code",
   "execution_count": null,
   "metadata": {},
   "outputs": [],
   "source": [
    "target_SystemPath_list = ( '/', '/Cell', )\n",
    "Target_Properties = { 'Variable': ['Value', 'Velocity'], }\n",
    "Logger_dict = {}\n",
    "\n",
    "for target_SystemPath in target_SystemPath_list:\n",
    "    for E_type, Properties in Target_Properties.items():\n",
    "        for E in getEntityList( E_type, target_SystemPath ):\n",
    "            for p in Properties:\n",
    "                FullPN = ':'.join( ( E_type, target_SystemPath, E, p ) )\n",
    "                Logger_dict[ FullPN ] = createLoggerStub( FullPN )\n",
    "                Logger_dict[ FullPN ].create()"
   ]
  },
  {
   "cell_type": "markdown",
   "metadata": {},
   "source": [
    "## cdc2 と cycline に分けて動態を可視化してみる"
   ]
  },
  {
   "cell_type": "markdown",
   "metadata": {},
   "source": [
    "* モデルでは、`C1` は速やかにリン酸化されて `CP` になると仮定しているので、`C1` を観察対象から除外して `CP`, `pM`, `M`, `Y`, `YP` の５つの要素に着目することにする。\n",
    "* このうち、cdc2 を含む `CP`, `pM`, `M` 、cycline を含む `Y`, `pM`, `M`, `YP` に分けてグラフを描いてみる。\n"
   ]
  },
  {
   "cell_type": "code",
   "execution_count": null,
   "metadata": {},
   "outputs": [],
   "source": [
    "step_width = 100.0  # min\n",
    "\n",
    "run( step_width )\n",
    "print 't = {} (min)'.format( getCurrentTime() )"
   ]
  },
  {
   "cell_type": "markdown",
   "metadata": {},
   "source": [
    "### cdc2 関連要素のダイナミクス"
   ]
  },
  {
   "cell_type": "code",
   "execution_count": null,
   "metadata": {},
   "outputs": [],
   "source": [
    "Data_dict = {}\n",
    "for FullPN, Logger in Logger_dict.items():\n",
    "    Data_dict[ FullPN ] = np.array( Logger.getData( 5, getCurrentTime(), getCurrentTime() / 100 ) )[ :, :2 ]"
   ]
  },
  {
   "cell_type": "code",
   "execution_count": null,
   "metadata": {},
   "outputs": [],
   "source": [
    "V_plot = [ 'CP', 'pM', 'M' ]\n",
    "    \n",
    "plt.figure()\n",
    "plt.title( 'cdc2 dynamics' )\n",
    "\n",
    "for ID in V_plot:\n",
    "    FullPN = 'Variable:/Cell:{}:Value'.format( ID )\n",
    "    plt.plot( Data_dict[ FullPN ][ :, 0 ], Data_dict[ FullPN ][ :, 1 ], label = ID )\n",
    "\n",
    "plt.legend( loc = 'upper right' )"
   ]
  },
  {
   "cell_type": "markdown",
   "metadata": {},
   "source": [
    "* スパイク状に振る舞っているのは `M` だけ。\n",
    "* `pM` は、徐々に蓄積し、およそ 0.3 に達したところで急減する。\n",
    "* `CP` は、急速に蓄積した後、徐々に減少する。\n",
    "* これらの関係はどうなっているだろうか。"
   ]
  },
  {
   "cell_type": "markdown",
   "metadata": {},
   "source": [
    "### cycline 関連要素のダイナミクス"
   ]
  },
  {
   "cell_type": "code",
   "execution_count": null,
   "metadata": {},
   "outputs": [],
   "source": [
    "V_plot = [ 'Y', 'pM', 'M', 'YP' ]\n",
    "    \n",
    "plt.title( 'cdc2 dynamics' )\n",
    "\n",
    "for ID in V_plot:\n",
    "    FullPN = 'Variable:/Cell:{}:Value'.format( ID )\n",
    "    plt.plot( Data_dict[ FullPN ][ :, 0 ], Data_dict[ FullPN ][ :, 1 ], label = ID )\n",
    "\n",
    "plt.legend( loc = 'upper right' )"
   ]
  },
  {
   "cell_type": "markdown",
   "metadata": {},
   "source": [
    "* `Y` の軌跡がはっきりしないので、`Y` だけでプロットしてみる。"
   ]
  },
  {
   "cell_type": "code",
   "execution_count": null,
   "metadata": {},
   "outputs": [],
   "source": [
    "V_plot = [ 'Y' ]\n",
    "    \n",
    "plt.title( 'cdc2 dynamics' )\n",
    "\n",
    "for ID in V_plot:\n",
    "    FullPN = 'Variable:/Cell:{}:Value'.format( ID )\n",
    "    plt.plot( Data_dict[ FullPN ][ :, 0 ], Data_dict[ FullPN ][ :, 1 ], label = ID )\n",
    "\n",
    "plt.legend( loc = 'upper right' )"
   ]
  },
  {
   "cell_type": "markdown",
   "metadata": {},
   "source": [
    "* `Y` の量は微少であることがわかる。\n",
    "* 産生された `Y`（cycline）は、速やかに `CP`（cdc2-P）と結合して `pM` になっていると考えられる。\n",
    "* cycline に関しては、`pM`, `M`, `YP` に絞ってプロットすれば充分だろう。"
   ]
  },
  {
   "cell_type": "code",
   "execution_count": null,
   "metadata": {},
   "outputs": [],
   "source": [
    "V_plot = [ 'pM', 'M', 'YP' ]\n",
    "    \n",
    "plt.title( 'cdc2 dynamics' )\n",
    "\n",
    "for ID in V_plot:\n",
    "    FullPN = 'Variable:/Cell:{}:Value'.format( ID )\n",
    "    plt.plot( Data_dict[ FullPN ][ :, 0 ], Data_dict[ FullPN ][ :, 1 ], label = ID )\n",
    "\n",
    "plt.legend( loc = 'upper right' )"
   ]
  },
  {
   "cell_type": "markdown",
   "metadata": {},
   "source": [
    "* `M` とともに、`YP` も（やや間延びしているが）スパイク状に増減している。\n",
    "    * `YP` は、反応 R6 で産生され、反応 R7 で分解される。つまり、産生された `YP` は、反応 R7 で速やかに分解されるため、スパイク状の増減になっていると考えられる。\n",
    "* `YP` は急増後、急速に減少するのに対し、`CP` は、急増後の減少がゆるやかである。この差を生みだす原因は何なのだろう。"
   ]
  },
  {
   "cell_type": "markdown",
   "metadata": {},
   "source": [
    "# 最終レポート"
   ]
  },
  {
   "cell_type": "markdown",
   "metadata": {},
   "source": [
    "細胞周期のモデル Tyson1991.em について、要素が周期的に増減するメカニズムを説明しなさい。\n",
    "\n",
    "説明は、IPython Notebook形式またはPDFファイルで提出してください。  \n",
    "IPython Notebook形式で、画像ファイルやモデルファイルを参照する場合には、それらのファイルもまとめた圧縮ファイルを提出してください。"
   ]
  },
  {
   "cell_type": "code",
   "execution_count": null,
   "metadata": {},
   "outputs": [],
   "source": []
  }
 ],
 "metadata": {
  "kernelspec": {
   "display_name": "Python 2",
   "language": "python",
   "name": "python2"
  },
  "language_info": {
   "codemirror_mode": {
    "name": "ipython",
    "version": 2
   },
   "file_extension": ".py",
   "mimetype": "text/x-python",
   "name": "python",
   "nbconvert_exporter": "python",
   "pygments_lexer": "ipython2",
   "version": "2.7.16"
  }
 },
 "nbformat": 4,
 "nbformat_minor": 1
}
