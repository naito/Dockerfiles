{
 "cells": [
  {
   "cell_type": "markdown",
   "metadata": {},
   "source": [
    "# モデルを考察する（３）"
   ]
  },
  {
   "cell_type": "markdown",
   "metadata": {},
   "source": [
    "より単純なモデルを対象に、振動の仕組みを考えてみる。"
   ]
  },
  {
   "cell_type": "markdown",
   "metadata": {},
   "source": [
    "## 準備作業"
   ]
  },
  {
   "cell_type": "code",
   "execution_count": null,
   "metadata": {},
   "outputs": [],
   "source": [
    "import numpy as np\n",
    "\n",
    "%matplotlib inline\n",
    "import matplotlib.pyplot as plt"
   ]
  },
  {
   "cell_type": "code",
   "execution_count": null,
   "metadata": {},
   "outputs": [],
   "source": [
    "import biosim_course"
   ]
  },
  {
   "cell_type": "markdown",
   "metadata": {},
   "source": [
    "# FitzHugh-Nagumo モデル"
   ]
  },
  {
   "cell_type": "markdown",
   "metadata": {},
   "source": [
    "1960年代に発表された古典的な神経細胞のモデル。"
   ]
  },
  {
   "cell_type": "markdown",
   "metadata": {},
   "source": [
    "![Model](./Lec-12-FNmodel.png)\n"
   ]
  },
  {
   "cell_type": "markdown",
   "metadata": {},
   "source": [
    "* 変数は _u_, _v_ の２つだけ。\n",
    "* **_u_** は膜電位、**_v_** は膜電位の不活性化の程度を表す。_I_ は細胞外から流入する外部電流。_a_, _b_, _c_ はモデルパラメータ。\n",
    "* _u_, _v_ が相互に刺激・抑制することで、周期振動が起こる。\n"
   ]
  },
  {
   "cell_type": "markdown",
   "metadata": {},
   "source": [
    "## シミュレーションを実行し、_u_, _v_ の動きをグラフに描く"
   ]
  },
  {
   "cell_type": "code",
   "execution_count": null,
   "metadata": {},
   "outputs": [],
   "source": [
    "EM = '''\n",
    "Stepper ODEStepper( ODE ) {}\n",
    "\n",
    "System System( / )\n",
    "{\n",
    "    StepperID  ODE;\n",
    "\n",
    "    Variable Variable( u ) { Value  0.0; }\n",
    "    Variable Variable( v ) { Value  0.0; }\n",
    "    \n",
    "    Process ExpressionFluxProcess( dudt )\n",
    "    {\n",
    "        c  10.0;\n",
    "        I  0.5;\n",
    "        Expression  \"c * ( -v.Value + u.Value - pow( u.Value, 3.0 )/3.0 + I )\";\n",
    "        VariableReferenceList\n",
    "            [ u   :.:u  1 ]\n",
    "            [ v   :.:v  0 ];\n",
    "    }\n",
    "    \n",
    "    Process ExpressionFluxProcess( dvdt )\n",
    "    {\n",
    "        a  0.7;\n",
    "        b  0.8;\n",
    "        Expression  \"u.Value - b * v.Value + a\";\n",
    "        VariableReferenceList\n",
    "            [ u   :.:u  0 ]\n",
    "            [ v   :.:v  1 ];\n",
    "    }\n",
    "}\n",
    "'''"
   ]
  },
  {
   "cell_type": "code",
   "execution_count": null,
   "metadata": {},
   "outputs": [],
   "source": [
    "setModel( EM, \"Tyson1991\")\n",
    "print 't = {}'.format( getCurrentTime() )"
   ]
  },
  {
   "cell_type": "markdown",
   "metadata": {},
   "source": [
    "### システムパス `/` 内のすべての `Variable`, `Process` の `LoggerStub` を作成し、`create()` する"
   ]
  },
  {
   "cell_type": "code",
   "execution_count": null,
   "metadata": {},
   "outputs": [],
   "source": [
    "target_SystemPath_list = ( '/', )\n",
    "Target_Properties = { 'Variable': ['Value', 'Velocity'], 'Process': ['Activity'] }\n",
    "Logger_dict = {}\n",
    "\n",
    "for target_SystemPath in target_SystemPath_list:\n",
    "    for E_type, Properties in Target_Properties.items():\n",
    "        for E in getEntityList( E_type, target_SystemPath ):\n",
    "            for p in Properties:\n",
    "                FullPN = ':'.join( ( E_type, target_SystemPath, E, p ) )\n",
    "                Logger_dict[ FullPN ] = createLoggerStub( FullPN )\n",
    "                Logger_dict[ FullPN ].create()"
   ]
  },
  {
   "cell_type": "code",
   "execution_count": null,
   "metadata": {},
   "outputs": [],
   "source": [
    "step_width = 10.0  # min\n",
    "\n",
    "run( step_width )\n",
    "print 't = {}'.format( getCurrentTime() )"
   ]
  },
  {
   "cell_type": "code",
   "execution_count": null,
   "metadata": {},
   "outputs": [],
   "source": [
    "Data_dict = {}\n",
    "for FullPN, Logger in Logger_dict.items():\n",
    "    Data_dict[ FullPN ] = np.array( Logger.getData( 0, getCurrentTime(), getCurrentTime() / 100 ) )[ :, :2 ]\n",
    "\n",
    "plt.figure()\n",
    "for FullPN, d in Data_dict.items():\n",
    "    if FullPN.split(':')[3] == 'Value':\n",
    "        plt.plot( d[ :, 0 ], d[ :, 1 ], label = FullPN.split(':')[ 2 ] )\n",
    "\n",
    "plt.legend( loc = 'upper right' )"
   ]
  },
  {
   "cell_type": "markdown",
   "metadata": {},
   "source": [
    "## _u, v_ の関係を可視化するために、相空間プロットを描く"
   ]
  },
  {
   "cell_type": "markdown",
   "metadata": {},
   "source": [
    "* 相空間プロットとは、グラフのそれぞれの軸に変数を割り当て、変数と変数の関係を直接グラフに描いたもの。\n",
    "* 横軸が時間でなくなっているので、時間の情報が失われる。\n"
   ]
  },
  {
   "cell_type": "code",
   "execution_count": null,
   "metadata": {},
   "outputs": [],
   "source": [
    "u_Data = Data_dict[ 'Variable:/:u:Value' ][ :, 1 ]\n",
    "v_Data = Data_dict[ 'Variable:/:v:Value'  ][ :, 1 ]\n",
    "\n",
    "plt.figure()\n",
    "plt.plot( u_Data, v_Data )\n",
    "plt.xlabel( 'u' )\n",
    "plt.ylabel( 'v' )\n",
    "plt.xlim( u_Data.min() - ( ( u_Data.max() - u_Data.min() ) * 0.1 ), u_Data.max() + ( ( u_Data.max() - u_Data.min() ) * 0.1 ) )\n",
    "plt.ylim( v_Data.min() - ( ( v_Data.max() - v_Data.min() ) * 0.1 ), v_Data.max() + ( ( v_Data.max() - v_Data.min() ) * 0.1 ) )\n"
   ]
  },
  {
   "cell_type": "markdown",
   "metadata": {},
   "source": [
    "* 周期的に振動している系を相空間プロットすると、このような軌道が現れる。\n",
    "* このモデルの場合、_u, v_ は、軌道を反時計回りに周回している。\n"
   ]
  },
  {
   "cell_type": "markdown",
   "metadata": {},
   "source": [
    "## 振動をいくつかのフェイズ（相）に分けて、動態を考察する"
   ]
  },
  {
   "cell_type": "markdown",
   "metadata": {},
   "source": [
    "* ほぼ直線状の各辺では、一定の力関係で系が変化していると推定される。\n",
    "* コーナーを回るところで、_u_, _v_ の関係に変化が起こり、別の力関係へとシフトしていると思われる。\n",
    "* そこで、１周期を四角形の辺にあたる４つの区間に分け、各区間とその移行期に何が起こっているのかを個別に考えてみる。\n"
   ]
  },
  {
   "cell_type": "markdown",
   "metadata": {},
   "source": [
    "### 微分方程式を「読む」"
   ]
  },
  {
   "cell_type": "markdown",
   "metadata": {},
   "source": [
    "* このモデルは、以下の２つの微分方程式からなる。\n",
    "    * _du/dt_ は、 _u_ の変化速度の意味（ _u_ の時間（ _t_ ）微分）。\n",
    "\n",
    "$$\n",
    "\\begin{eqnarray}\n",
    "  \\frac{ du }{ dt } = c \\left( -v + u -  \\frac{ u^3 }{ 3 } + I \\right) \\\\\n",
    "  \\frac{ dv }{ dt } = u - bv + a\n",
    "\\end{eqnarray}\n",
    "$$\n",
    "\n",
    "\n",
    "* モデル中で、時間とともに値が変化するもの（変数）は、 _u_ , _v_ の２つだけ。\n",
    "\n"
   ]
  },
  {
   "cell_type": "markdown",
   "metadata": {},
   "source": [
    "### 微分方程式を分解して、２つの変数の関係をまとめる"
   ]
  },
  {
   "cell_type": "markdown",
   "metadata": {},
   "source": [
    "* ２つの変数が、お互いにどういった影響を及ぼしあっているか、微分方程式を分解して表にまとめてみる。\n",
    "\n",
    "![Analysis](./Lec-12-FN-table.png)\n",
    "\n",
    "* _u_ が _u_ 自身に与える影響以外は単純。\n",
    "* _v_ が与える影響については、 _c_ = 10.0, _b_ = 0.8 なので、_v_ が自分自身を抑制する影響より、 _u_ を抑制する影響の方が 10 倍以上強いことがわかる。\n",
    "    * _v_ が負の時には刺激に変わるので、ここで **抑制** と読んでいる作用は **対象をゼロに近づける作用** と考えるとよい。\n"
   ]
  },
  {
   "cell_type": "markdown",
   "metadata": {},
   "source": [
    "### _u_ が自分自身に与える効果を可視化する"
   ]
  },
  {
   "cell_type": "markdown",
   "metadata": {},
   "source": [
    "* _u_ が自分自身に与える効果がやや複雑なので、グラフに描いて視覚的に把握しておく。\n",
    "* _u_ が _u_ 自身に与える効果（u - u^3/3）をグラフに描いてみる。\n",
    "    * _u_ が _v_ に与える効果も一緒に描き、その大小関係を比較する。\n"
   ]
  },
  {
   "cell_type": "code",
   "execution_count": null,
   "metadata": {},
   "outputs": [],
   "source": [
    "x = np.arange( -2.0, 2.0, 0.1 )\n",
    "plt.figure()\n",
    "plt.plot( x, 10 * ( x - x**3/3 ), label = 'u -> u' )\n",
    "plt.plot( x, x, label = 'u -> v' )\n",
    "plt.legend( loc = 'lower right' )\n",
    "plt.xlabel( 'u' )\n",
    "plt.ylabel( 'effect of u (min^-1)' )"
   ]
  },
  {
   "cell_type": "markdown",
   "metadata": {},
   "source": [
    "* _u_ は -√3 ＜ _u_ ＜ 0 および √3 ＜ _u_ の範囲で負の値をとる。すなわち、_u_ 自身を抑制する（ネガティブフィードバック）。  \n",
    "それ以外の領域ではゼロまたは正の値をとり、_u_ 自身を刺激する（ポジティブフィードバック）。\n",
    "* _u_ は 0 ＜ _u_ のとき _v_ を促進し、_u_ ＜ 0 のとき _v_ を抑制する。\n",
    "* _v_ は 0 ＜ _v_ のとき _u_ を抑制し、_v_ ＜ 0 のとき _u_ を促進する。\n",
    "* _v_ は 0 ＜ _v_ のとき _v_ 自身を抑制し、_v_ ＜ 0 のとき _v_ 自身を促進する。\n"
   ]
  },
  {
   "cell_type": "markdown",
   "metadata": {},
   "source": [
    "![Analysis](./Lec-12-FN-analysis.png)\n",
    "\n",
    "\n",
    "1. **_u_ は増加。_v_ は減少**  \n",
    "_v_ による不活性化が減少することで、_u_ が -2.0 付近から徐々に増加していく。  \n",
    "_v_ がゼロをやや下回ったところで、_v_ の変化速度がゼロになり、以降、増加に転じる。\n",
    "2. **_u_, _v_ ともに増加**  \n",
    "_u_ = -1.0 で、_u_ による自身への抑制は最大となり、これを超えると、抑制が減少し、_u_ = 0 を超えたところで自己刺激（ポジティブフィードバック）に転じ、_u_ は爆発的に増加する。_u_ の自己刺激は、_u_ = 1.0 で極大となる。  \n",
    "また、_u_ の増加により、_v_ が刺激され、増加に転じる。\n",
    "3. **_u_ は減少。_v_ は増加**  \n",
    "_u_ による自己刺激は _u_ = √3 でゼロになり、この付近で、増加した _v_ による不活性化が _u_ の増加（自己刺激および _I_ ）を上回り、_u_ は減少に転じる。  \n",
    "その際、_u_ = 1.0 付近では、_u_ による自己刺激で、減少に歯止めがかかるが、踏みこらえられずに _u_ の減少はつづく。\n",
    "4. **_u_, _v_ ともに減少**  \n",
    "_u_ ＜ 0 となることで、_u_ の自身への効果は抑制に転じ、_u_ は急激に減少する。  \n",
    "このとき _u_ は、_v_ も抑制するので、_v_ も減少に転じる。  \n",
    "_u_ = -√3 で _u_ による自己抑制はゼロになり、この付近で _u_ の減少は止まり、増加に転じる。"
   ]
  },
  {
   "cell_type": "code",
   "execution_count": null,
   "metadata": {},
   "outputs": [],
   "source": []
  }
 ],
 "metadata": {
  "kernelspec": {
   "display_name": "Python 2",
   "language": "python",
   "name": "python2"
  },
  "language_info": {
   "codemirror_mode": {
    "name": "ipython",
    "version": 2
   },
   "file_extension": ".py",
   "mimetype": "text/x-python",
   "name": "python",
   "nbconvert_exporter": "python",
   "pygments_lexer": "ipython2",
   "version": "2.7.16"
  }
 },
 "nbformat": 4,
 "nbformat_minor": 1
}
