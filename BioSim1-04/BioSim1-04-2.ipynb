{
 "cells": [
  {
   "cell_type": "markdown",
   "metadata": {},
   "source": [
    "# モデルを考察する（２）"
   ]
  },
  {
   "cell_type": "markdown",
   "metadata": {},
   "source": [
    "あらかじめ、試行する _k_<sub>_4_</sub>, _k_<sub>_6_</sub> の組み合わせを決め、シミュレーションを実行してグラフを出力するプログラムの例です。\n"
   ]
  },
  {
   "cell_type": "markdown",
   "metadata": {},
   "source": [
    "### 準備作業"
   ]
  },
  {
   "cell_type": "code",
   "execution_count": null,
   "metadata": {},
   "outputs": [],
   "source": [
    "import numpy as np\n",
    "\n",
    "%matplotlib inline\n",
    "import matplotlib.pyplot as plt"
   ]
  },
  {
   "cell_type": "code",
   "execution_count": null,
   "metadata": {},
   "outputs": [],
   "source": [
    "import biosim_course"
   ]
  },
  {
   "cell_type": "code",
   "execution_count": null,
   "metadata": {},
   "outputs": [],
   "source": [
    "EM = '''\n",
    "Stepper ODEStepper( ODE ) {}\n",
    "Stepper PassiveStepper( PSV ) {}\n",
    "\n",
    "System System( / )\n",
    "{\n",
    "    StepperID  ODE;\n",
    "    Name  default;\n",
    "}\n",
    "\n",
    "System System( /Cell )\n",
    "{\n",
    "    StepperID  ODE;\n",
    "\n",
    "    Variable Variable( SIZE )\n",
    "    {\n",
    "        Value  1.0;\n",
    "    }\n",
    "    \n",
    "    Variable Variable( C2 )\n",
    "    {\n",
    "        Name  cdc2k;\n",
    "        Value  0.0;\n",
    "    }\n",
    "    \n",
    "    Variable Variable( CP )\n",
    "    {\n",
    "        Name  \"cdc2k-P\";\n",
    "        Value  0.75;\n",
    "    }\n",
    "    \n",
    "    Variable Variable( M )\n",
    "    {\n",
    "        Name  \"p-cyclin_cdc2\";\n",
    "        Value  0.0;\n",
    "    }\n",
    "    \n",
    "    Variable Variable( pM )\n",
    "    {\n",
    "        Name  \"p-cyclin_cdc2-p\";\n",
    "        Value  0.25;\n",
    "    }\n",
    "    \n",
    "    Variable Variable( Y )\n",
    "    {\n",
    "        Name  cyclin;\n",
    "        Value  0.0;\n",
    "    }\n",
    "    \n",
    "    Variable Variable( YP )\n",
    "    {\n",
    "        Name  \"p-cyclin\";\n",
    "        Value  0.0;\n",
    "    }\n",
    "    \n",
    "    Variable Variable( YT )\n",
    "    {\n",
    "        Name  total_cyclin;\n",
    "        Value  0.25;\n",
    "    }\n",
    "    \n",
    "    Variable Variable( CT )\n",
    "    {\n",
    "        Name  total_cdc2;\n",
    "        Value  1.0;\n",
    "    }\n",
    "\n",
    "### Reactions ###\n",
    "\n",
    "    Process ExpressionFluxProcess( R1 )\n",
    "    {\n",
    "        Name  \"cyclin biosynthesis\";\n",
    "        k1aa  0.015;\n",
    "        Expression  \"k1aa / CT.Value\";\n",
    "        VariableReferenceList\n",
    "            [ Y    :.:Y   1 ]\n",
    "            [ CT   :.:CT  0 ];\n",
    "    }\n",
    "    \n",
    "    Process ExpressionFluxProcess( R2 )\n",
    "    {\n",
    "        Name  \"default degradation of cyclin\";\n",
    "        k2  0.0;\n",
    "        Expression  \"k2 * Y.Value\";\n",
    "        VariableReferenceList\n",
    "            [ Y   :.:Y  -1 ];\n",
    "    }\n",
    "    \n",
    "    Process ExpressionFluxProcess( R3 )\n",
    "    {\n",
    "        Name  \"cyclin cdc2k-p association\";\n",
    "        k3  200.0;\n",
    "        Expression  \"k3 * CP.Value * Y.Value / CT.Value\";\n",
    "        VariableReferenceList\n",
    "            [ CP   :.:CP  -1 ]\n",
    "            [ Y    :.:Y   -1 ]\n",
    "            [ pM   :.:pM   1 ]\n",
    "            [ CT   :.:CT   0 ];\n",
    "    }\n",
    "    \n",
    "    Process ExpressionFluxProcess( R4 )\n",
    "    {\n",
    "        Name  \"activation of cdc2 kinase\";\n",
    "        k4  180.0;\n",
    "        k4prime  0.018;\n",
    "        Expression  \"pM.Value * (k4prime + k4 * pow(M.Value / CT.Value, 2))\";\n",
    "        VariableReferenceList\n",
    "            [ pM   :.:pM  -1 ]\n",
    "            [ M    :.:M    1 ]\n",
    "            [ CT   :.:CT   0 ];\n",
    "    }\n",
    "    \n",
    "    Process ExpressionFluxProcess( R5 )\n",
    "    {\n",
    "        Name  \"deactivation of cdc2 kinase\";\n",
    "        k5_P  0.0;\n",
    "        Expression  \"k5_P * M.Value\";\n",
    "        VariableReferenceList\n",
    "            [ M    :.:M   -1 ]\n",
    "            [ pM   :.:pM   1 ];\n",
    "    }\n",
    "    \n",
    "    Process ExpressionFluxProcess( R6 )\n",
    "    {\n",
    "        Name  \"cyclin_cdc2k dissociation\";\n",
    "        k6  1.0;\n",
    "        Expression  \"k6 * M.Value\";\n",
    "        VariableReferenceList\n",
    "            [ M    :.:M   -1 ]\n",
    "            [ C2   :.:C2   1 ]\n",
    "            [ YP   :.:YP   1 ];\n",
    "    }\n",
    "    \n",
    "    Process ExpressionFluxProcess( R7 )\n",
    "    {\n",
    "        Name  \"cdc2 kinase triggered degration of cyclin\";\n",
    "        k7  0.6;\n",
    "        Expression  \"k7 * YP.Value\";\n",
    "        VariableReferenceList\n",
    "            [ YP   :.:YP  -1 ];\n",
    "    }\n",
    "    \n",
    "    Process ExpressionFluxProcess( R8 )\n",
    "    {\n",
    "        Name  \"cdc2k phosphorylation\";\n",
    "        k8_P  1000000.0;\n",
    "        Expression  \"C2.Value * k8_P\";\n",
    "        VariableReferenceList\n",
    "            [ C2   :.:C2  -1 ]\n",
    "            [ CP   :.:CP   1 ];\n",
    "    }\n",
    "    \n",
    "    Process ExpressionFluxProcess( R9 )\n",
    "    {\n",
    "        Name  \"cdc2k dephosphorylation\";\n",
    "        k9  1000.0;\n",
    "        Expression  \"CP.Value * k9\";\n",
    "        VariableReferenceList\n",
    "            [ CP   :.:CP  -1 ]\n",
    "            [ C2   :.:C2   1 ];\n",
    "    }\n",
    "\n",
    "### Assignment total ammounts ###\n",
    "\n",
    "    Process ExpressionAssignmentProcess( YT )\n",
    "    {\n",
    "        StepperID  PSV;\n",
    "        Name  \"Assignment rule for 'YT'\";\n",
    "        Expression  \"Y.Value + YP.Value + M.Value + pM.Value\";\n",
    "        VariableReferenceList\n",
    "            [ YT :.:YT  1 ]\n",
    "            [ Y  :.:Y   0 ]\n",
    "            [ YP :.:YP  0 ]\n",
    "            [ M  :.:M   0 ]\n",
    "            [ pM :.:pM  0 ];\n",
    "    }\n",
    "    \n",
    "    Process ExpressionAssignmentProcess( CT )\n",
    "    {\n",
    "        StepperID  PSV;\n",
    "        Name  \"Assignment rule for 'CT'\";\n",
    "        Expression  \"C2.Value + CP.Value + M.Value + pM.Value\";\n",
    "        VariableReferenceList\n",
    "            [ CT :.:CT  1 ]\n",
    "            [ C2 :.:C2  0 ]\n",
    "            [ CP :.:CP  0 ]\n",
    "            [ M  :.:M   0 ]\n",
    "            [ pM :.:pM  0 ];\n",
    "    }\n",
    "\n",
    "}\n",
    "'''\n",
    "\n"
   ]
  },
  {
   "cell_type": "code",
   "execution_count": null,
   "metadata": {},
   "outputs": [],
   "source": [
    "setModel( EM, \"Tyson1991\")\n",
    "print 't = {}'.format( getCurrentTime() )"
   ]
  },
  {
   "cell_type": "markdown",
   "metadata": {},
   "source": [
    "### システムパス `/cell` 内のすべての `Variable`, `Process` の `LoggerStub` を作成し、`create()` する"
   ]
  },
  {
   "cell_type": "code",
   "execution_count": null,
   "metadata": {},
   "outputs": [],
   "source": [
    "target_SystemPath_list = ( '/Cell', )\n",
    "Target_Properties = { 'Variable': ['Value', 'Velocity'], 'Process': ['Activity'] }\n",
    "Logger_dict = {}\n",
    "\n",
    "for target_SystemPath in target_SystemPath_list:\n",
    "    for E_type, Properties in Target_Properties.items():\n",
    "        for E in getEntityList( E_type, target_SystemPath ):\n",
    "            for p in Properties:\n",
    "                FullPN = ':'.join( ( E_type, target_SystemPath, E, p ) )\n",
    "                Logger_dict[ FullPN ] = createLoggerStub( FullPN )\n",
    "                Logger_dict[ FullPN ].create()"
   ]
  },
  {
   "cell_type": "markdown",
   "metadata": {},
   "source": [
    "### _k_<sub>_4_</sub>, _k_<sub>_6_</sub> を変更するための `EntityStub` を作成する"
   ]
  },
  {
   "cell_type": "code",
   "execution_count": null,
   "metadata": {},
   "outputs": [],
   "source": [
    "R4 = createEntityStub( 'Process:/Cell:R4' )\n",
    "R6 = createEntityStub( 'Process:/Cell:R6' )"
   ]
  },
  {
   "cell_type": "markdown",
   "metadata": {},
   "source": [
    "### グラフにプロットするためのデータを格納する辞書 `Data_dict` を用意する"
   ]
  },
  {
   "cell_type": "code",
   "execution_count": null,
   "metadata": {},
   "outputs": [],
   "source": [
    "Data_dict = {}\n",
    "for FullPN, Logger in Logger_dict.items():\n",
    "    Data_dict[ FullPN ] = np.array( Logger.getData() )[ :, :2 ]\n",
    "\n",
    "Variable_FullPN_list = [ FullPN for FullPN in Data_dict.keys() if FullPN.split(':')[ 0 ] == 'Variable' and FullPN.split(':')[ 3 ] == 'Value' ]\n",
    "Process_FullPN_list = [ FullPN for FullPN in Data_dict.keys() if FullPN.split(':')[ 0 ] == 'Process' ]"
   ]
  },
  {
   "cell_type": "markdown",
   "metadata": {},
   "source": [
    "### _k_<sub>_4_</sub>, _k_<sub>_6_</sub> を設定し、シミュレーションを実行、グラフを描画する関数 `test_k4_and_k6()` を定義する"
   ]
  },
  {
   "cell_type": "code",
   "execution_count": null,
   "metadata": {},
   "outputs": [],
   "source": [
    "def test_k4_and_k6( k4, k6, step_width = 100 ):\n",
    "    R4['k4'] = k4\n",
    "    R6['k6'] = k6\n",
    "    \n",
    "    run( 10 * step_width )\n",
    "    _t = getCurrentTime()\n",
    "\n",
    "    for FullPN, Logger in Logger_dict.items():\n",
    "        Data_dict[ FullPN ] = np.array( Logger.getData( _t - step_width, _t, 0.1 ) )[ :, :2 ]\n",
    "\n",
    "    plt.figure()\n",
    "    for FullPN, d in Data_dict.items():\n",
    "        if FullPN in Variable_FullPN_list:\n",
    "            plt.plot( d[ :, 0 ], d[ :, 1 ], label = FullPN.split(':')[ 2 ] )\n",
    "\n",
    "    plt.xlim( _t - step_width, _t + 40.0 )\n",
    "    plt.legend( loc = 'upper right' )\n",
    "    plt.title( 'k4 = {},  k6 = {}'.format( k4, k6 ) )"
   ]
  },
  {
   "cell_type": "markdown",
   "metadata": {},
   "source": [
    "### 試行する _k_<sub>_4_</sub>, _k_<sub>_6_</sub> の値のセットを、リストとして用意する"
   ]
  },
  {
   "cell_type": "code",
   "execution_count": null,
   "metadata": {},
   "outputs": [],
   "source": [
    "parameters_list = [\n",
    "    [  30.0, 0.1  ],\n",
    "    [  30.0, 0.25 ],\n",
    "    [ 180.0, 0.25 ],\n",
    "    [ 180.0, 1.0  ],\n",
    "    [ 180.0, 2.0  ],\n",
    "    [ 500.0, 2.0  ],\n",
    "    [ 500.0, 1.3  ],\n",
    "    [ 180.0, 1.3  ]\n",
    "]"
   ]
  },
  {
   "cell_type": "markdown",
   "metadata": {},
   "source": [
    "### for 文で parameters_list から _k_<sub>_4_</sub>, _k_<sub>_6_</sub> の値を取り出し、繰り返し処理でグラフを描き出す"
   ]
  },
  {
   "cell_type": "code",
   "execution_count": null,
   "metadata": {},
   "outputs": [],
   "source": [
    "for p in parameters_list:\n",
    "    test_k4_and_k6( p[0], p[1] )"
   ]
  },
  {
   "cell_type": "markdown",
   "metadata": {},
   "source": [
    "### 全体を眺めてみる"
   ]
  },
  {
   "cell_type": "code",
   "execution_count": null,
   "metadata": {},
   "outputs": [],
   "source": [
    "for FullPN, Logger in Logger_dict.items():\n",
    "    Data_dict[ FullPN ] = np.array( Logger.getData( 0, getCurrentTime(), 0.1 ) )[ :, :2 ]\n",
    "\n",
    "plt.figure( figsize = (15, 6) )\n",
    "for FullPN, d in Data_dict.items():\n",
    "    if FullPN in Variable_FullPN_list:\n",
    "        plt.plot( d[ :, 0 ], d[ :, 1 ], label = FullPN.split(':')[ 2 ] )\n",
    "\n",
    "plt.xlim( 0, getCurrentTime() * 1.15 )\n",
    "plt.legend( loc = 'upper right' )"
   ]
  },
  {
   "cell_type": "code",
   "execution_count": null,
   "metadata": {},
   "outputs": [],
   "source": []
  }
 ],
 "metadata": {
  "kernelspec": {
   "display_name": "Python 2",
   "language": "python",
   "name": "python2"
  },
  "language_info": {
   "codemirror_mode": {
    "name": "ipython",
    "version": 2
   },
   "file_extension": ".py",
   "mimetype": "text/x-python",
   "name": "python",
   "nbconvert_exporter": "python",
   "pygments_lexer": "ipython2",
   "version": "2.7.16"
  }
 },
 "nbformat": 4,
 "nbformat_minor": 1
}
