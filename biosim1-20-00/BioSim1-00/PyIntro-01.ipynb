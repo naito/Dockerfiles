{
 "cells": [
  {
   "cell_type": "markdown",
   "metadata": {},
   "source": [
    "# 01 コードを入力してみる"
   ]
  },
  {
   "cell_type": "markdown",
   "metadata": {},
   "source": [
    "本稿は「みんなのPython第４版」（柴田 淳 著）より抜粋、改編したものです。"
   ]
  },
  {
   "cell_type": "markdown",
   "metadata": {},
   "source": [
    "まずは、Pythonに簡単な計算をさせてみましょう。4種類の1桁の数字を使って計算をして、10を作ってみます。必ず半角の数字を入力してください。数字だけでなく、命令に使う英字も**半角の文字**を使うようにします。\n",
    "\n",
    "    1+2+3+4\n",
    "\n",
    "下のCellにはすでに入力されています。\n",
    "\n",
    "下のCellをクリックしてアクティブにしたら、**Shiftキーを押しながら**、**Enterキー**、または**Returnキー**を押してください。メニューから `Cell` ＞ `Run Cells` を選んでも同じです。"
   ]
  },
  {
   "cell_type": "code",
   "execution_count": null,
   "metadata": {},
   "outputs": [],
   "source": [
    "1+2+3+4"
   ]
  },
  {
   "cell_type": "markdown",
   "metadata": {},
   "source": [
    "以下のように計算の結果が表示されます。\n",
    "\n",
    "    Out[1]: 10\n",
    "\n",
    "Cellを実行（run）すると、計算など最後に出力された結果を、Cellの直下に `Out[ xx ]:` として表示します。\n",
    "\n",
    "別の数字を使って10を作ってみましよう。1、1、2、3を使って10を作る計算式 を3つ考えてみましよう。括弧をうまく使って計算しないと、10を作れません。3つ例を挙げてみます。式を1つずつ入力して、計算をして結果が10になるか確かめてみてください。\n",
    "\n",
    "    (1+1)*(2+3)\n",
    "    (1+1+3)*2\n",
    "    3*(2+1)+1"
   ]
  },
  {
   "cell_type": "code",
   "execution_count": null,
   "metadata": {
    "collapsed": true
   },
   "outputs": [],
   "source": [
    "# ここにコード（四則演算の式）を書き込んで試してみましょう。"
   ]
  },
  {
   "cell_type": "markdown",
   "metadata": {},
   "source": [
    "次に、**変数**を使ってみます。ダブルクオーテーション(`\"〜\"`)で文字を囲んで**文字列**を定義し、変数に入れてみます。数字や文字列を変数に入れることを**代入**と呼びます。その後、redという変数だけを入力してEnterキーを押して、変数の中身を表示して確認してみましよう。"
   ]
  },
  {
   "cell_type": "code",
   "execution_count": null,
   "metadata": {
    "collapsed": true
   },
   "outputs": [],
   "source": [
    "campus = \"SFC\"\n",
    "\n",
    "campus"
   ]
  },
  {
   "cell_type": "markdown",
   "metadata": {},
   "source": [
    "もう1つ、文字列を代入した変数を作ります。今度は文字列と文字列の足し算をしてみましよう。足し算の結果は、さらに別の変数に代入して受け取ります。今度は、**`print()`**という機能を使って、連結された文字列を確認してみます。\n",
    "\n",
    "**`#`**記号より右側は**コメント**です。 コメントはプログラムの内容に関するメモのようなもので、実行時には無視されま す。特に入力しなくてもかまいません。"
   ]
  },
  {
   "cell_type": "code",
   "execution_count": null,
   "metadata": {
    "collapsed": true
   },
   "outputs": [],
   "source": [
    "# 文字列の連結\n",
    "\n",
    "univ = \"Keio\"\n",
    "total = univ + campus\n",
    "\n",
    "print(total)"
   ]
  },
  {
   "cell_type": "markdown",
   "metadata": {},
   "source": [
    "文字列を表示するために使った`print()`は**関数**と呼ばれています。`print()`関数は、 括弧の中に表示したい変数などを入れて実行すると、画面に結果を表示する、という機能を持っています。\n",
    "\n",
    "Pythonでは、文字列を使ってもかけ算ができます。先ほど文字列の足し算をした変数を使って、かけ算をしてみましよう。どのような結果が表示されるか、実際に試してみてください。"
   ]
  },
  {
   "cell_type": "code",
   "execution_count": null,
   "metadata": {
    "collapsed": true
   },
   "outputs": [],
   "source": [
    "# 文字列の掛け算\n",
    "print(total*3)"
   ]
  },
  {
   "cell_type": "markdown",
   "metadata": {},
   "source": [
    "## グラフを描いてみる\n",
    "\n",
    "次に、**`numpy`**と**`matplotlib`**という**ライブラリ**（機能拡張）を使ってみましよう。numpyはデータ処理用のライブラリです。matplotlibは、データ解析、ビジュアライゼーション用のライブラリです。2つのライブラリを使って、下に示す関数のグラフを描いてみます。\n",
    "\n",
    "$$y = sin(x^2)$$\n",
    "\n",
    "コードの1行目は、グラフを埋め込み表示（エンベッド）するためのおまじないです。その後、必要なライブラリを読み込んで、グラフを描く命令を呼び出しています。コードを打ち込むと、次のようなグラフが描かれるはずです。（今は、各行の内容を理解できなくて構いません）"
   ]
  },
  {
   "cell_type": "markdown",
   "metadata": {},
   "source": [
    "#### 下の cell を初めて実行したときは、結果が出るまでに時間がかかります\n",
    "\n",
    "↑時間がかかることを告知するメッセージが表示されますので、読んでみてください。エラーメッセージが出ると「やべっ」という気分になりますが、意外と役に立つ情報が書かれていることもあります。"
   ]
  },
  {
   "cell_type": "code",
   "execution_count": null,
   "metadata": {},
   "outputs": [],
   "source": [
    "%matplotlib inline\n",
    "import matplotlib.pyplot as plt   # matplotlibを読み込む\n",
    "import numpy as np                # numpyを読み込む\n",
    "\n",
    "x = np.linspace (0, 3*np.pi, 500) # x座標の配列（array）を作る。0 ≦ x ≦ 3π の範囲に500の点\n",
    "plt.plot(x, np.sin(x**2))         # グラフを描画"
   ]
  },
  {
   "cell_type": "markdown",
   "metadata": {},
   "source": [
    "## 作業内容を保存する\n",
    "\n",
    "最後にここまでの作業内容を保存しましょう。メニューから `File` > `Save and Checkpoint` を選ぶとファイルを保存します。ツールバーの左端のフロッピーディスクのアイコンをクリックしても同じです。"
   ]
  },
  {
   "cell_type": "markdown",
   "metadata": {},
   "source": [
    "## ノートを閉じる\n",
    "\n",
    "ノートを閉じるには、メニューから `File` > `Close and Halt` を選びます。\n",
    "ブラウザのタブやウィンドウを閉じてもノートは消えますが、ノートと連動して起動している Python のプロセスは終了しません。ブラウザ画面から ノートとは別に Python プロセスを終了することもできますが、`File` > `Close and Halt` でノートを閉じるようにすると、ＰＣへの負荷を抑えることができます。"
   ]
  },
  {
   "cell_type": "markdown",
   "metadata": {},
   "source": []
  }
 ],
 "metadata": {
  "kernelspec": {
   "display_name": "Python 2",
   "language": "python",
   "name": "python2"
  },
  "language_info": {
   "codemirror_mode": {
    "name": "ipython",
    "version": 2
   },
   "file_extension": ".py",
   "mimetype": "text/x-python",
   "name": "python",
   "nbconvert_exporter": "python",
   "pygments_lexer": "ipython2",
   "version": "2.7.13"
  }
 },
 "nbformat": 4,
 "nbformat_minor": 1
}
