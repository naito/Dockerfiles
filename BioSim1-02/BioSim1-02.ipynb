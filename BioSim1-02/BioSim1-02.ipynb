{
 "cells": [
  {
   "cell_type": "markdown",
   "metadata": {},
   "source": [
    "# 超簡単な進化のモデル\n",
    "* ランダムな文字列が、**正しい** 文字列に向かって進化するモデルをつくり、実際に進化させてみよう。"
   ]
  },
  {
   "cell_type": "markdown",
   "metadata": {},
   "source": [
    "# 進化とは\n",
    "* **ある環境** に、**自己複製する個体** がいて、自己複製が完璧にできないために **変異個体** が産まれるようなら、ダーウィンが提唱した **自然選択による進化** が起こる。\n",
    "* 自己複製する個体は、自己複製に要する時間（繁殖速度）があり、それは、環境によって変化する。\n",
    "* 個体が、自分の性質に適した環境に置かれていれば繁殖速度は速くなるし、適していなければ遅くなる。\n",
    "* 変異個体は、オリジナルの個体とは多かれ少なかれ異なるのだから、繁殖速度も変わる。\n",
    "* 微妙な繁殖速度の差は、世代を重ねるごとに圧倒的な差に広がり、やがて、もっとも環境に適応した繁殖速度の速い個体の子孫が、その環境を支配する。\n",
    "* ただし、環境が変化すれば、各個体の繁殖速度も変わるため、ある環境での勝者が、永久に勝者でいられるわけではない。\n",
    "    * 環境中にある種の生物個体が大量に繁殖した、という事実そのものが、環境の変化となりうる。"
   ]
  },
  {
   "cell_type": "markdown",
   "metadata": {},
   "source": [
    "# 超簡単な進化のモデル\n",
    "* ランダムな文字列が、**正しい** 文字列に向かって進化するモデルをつくり、実際に進化させてみよう。\n",
    "\n",
    "## ゴールとなる正しい文字列\n",
    "* 何でもかまわないが、ここでは **CHARLESROBERTDARWIN**（19文字）を最高の文字列とし、ゴールとなる正しい文字列であるとする。\n",
    "\n",
    "## 進化の初期状態\n",
    "* 19文字のランダムな文字列（大文字のA〜Z）を **個体** と呼び、最初の世代とする。\n",
    "* 個体数は 10 とする。\n",
    "\n",
    "## １世代の間に起こること\n",
    "* 個体は **自然選択** を受け、次の世代に生き残る個体と、死に絶える個体に選別される。\n",
    "    * 自然選択の基準（**選択圧**）は、ここでは、最高の文字列との類似度とする。最高の文字列に近い文字列ほど適応度が高いものとする。\n",
    "* 生き残った個体は、全体の個体数が 10 になるまで **自己複製** する。\n",
    "* 自己複製の際、ある確率で **変異** が起こる。\n",
    "\n",
    "### 自然選択\n",
    "* 単純のため、**もっとも適応度が高い個体１つだけが生き残る** こととする。\n",
    "    * 複数の個体が同じ適応度で並んだ場合は、順番が若い個体が生き残ることとする。\n",
    "\n",
    "### 自己複製\n",
    "* **生き残った１個体が、10個体のコピーを作る。これを次の世代とする。**\n",
    "    * 生き残った個体自身は、寿命のため死ぬものとする。\n",
    "\n",
    "### 変異\n",
    "* コピーを作る際、19個の文字を１文字ずつ複製していく。\n",
    "    * その際、**１文字あたり１％の確率でエラーが起こる** こととする。\n",
    "    * エラーが起こった場合、その文字は、他のアルファベットに置き換わる。\n",
    "    * 現在の文字と異なる25種類のアルファベットのどれと置き換わるかは、ランダムに決まるものとする。"
   ]
  },
  {
   "cell_type": "markdown",
   "metadata": {},
   "source": [
    "# モデリング（１）\n",
    "* ここまでを Python でプログラミングしてみる。\n",
    "\n",
    "## 利用可能な文字A~Zを含むリストをつくる\n",
    "* 利用可能な26種類の文字を含むリスト `bases` を定義。\n",
    "    * 名前の由来：遺伝子のアルファベットは４種類の塩基（base）。"
   ]
  },
  {
   "cell_type": "code",
   "execution_count": null,
   "metadata": {},
   "outputs": [],
   "source": [
    "bases = ['A', 'B', 'C', 'D', 'E', 'F', 'G', 'H', 'I', 'J', \\\n",
    "         'K', 'L', 'M', 'N', 'O', 'P', 'Q', 'R', 'S', 'T', \\\n",
    "         'U', 'V', 'W', 'X', 'Y', 'Z' ]"
   ]
  },
  {
   "cell_type": "markdown",
   "metadata": {},
   "source": [
    "* リスト `bases` の中の文字は、0〜25 の番号で呼び出せる。（プログラミング言語では一般に最初は０番）\n",
    "* リストをこうせいしているものを **要素** と呼ぶ。`bases` は26個の文字を要素とするリストである。"
   ]
  },
  {
   "cell_type": "code",
   "execution_count": null,
   "metadata": {},
   "outputs": [],
   "source": [
    "print( bases[ 11 ] )"
   ]
  },
  {
   "cell_type": "code",
   "execution_count": null,
   "metadata": {},
   "outputs": [],
   "source": [
    "print( bases[ 25 ] )"
   ]
  },
  {
   "cell_type": "markdown",
   "metadata": {},
   "source": [
    "* 存在しない番号の要素を呼びだそうとするとエラーになる"
   ]
  },
  {
   "cell_type": "code",
   "execution_count": null,
   "metadata": {},
   "outputs": [],
   "source": [
    "print( bases[ 100 ] )"
   ]
  },
  {
   "cell_type": "markdown",
   "metadata": {},
   "source": [
    "## リスト `bases` からランダムな１文字を取りだす\n",
    "* 関数 `random.choice()` を使うと、リストからランダムに１つの要素を取りだしてくれる\n",
    "* 関数 `random.choice()` を提供するモジュール `random` を `import` すると、関数 `random.choice()` を使えるようになる。"
   ]
  },
  {
   "cell_type": "code",
   "execution_count": null,
   "metadata": {},
   "outputs": [],
   "source": [
    "import random\n",
    "print( random.choice( bases ))"
   ]
  },
  {
   "cell_type": "markdown",
   "metadata": {},
   "source": [
    "## 19文字の「個体」をつくる\n",
    "* 繰り返し処理で文字を繋げていけばよい\n",
    "* 個体を文字列 `genome` とする。\n",
    "* １文字加えるごとに `print()` で出力してみる。\n",
    "    *  `format()` は文字列を整形する関数。詳細は省略。"
   ]
  },
  {
   "cell_type": "code",
   "execution_count": null,
   "metadata": {},
   "outputs": [],
   "source": [
    "genome = ''\n",
    "\n",
    "for i in range( 19 ):\n",
    "    genome = genome + random.choice( bases )\n",
    "    print( \"{:2}: {}\".format( i + 1, genome ))\n"
   ]
  },
  {
   "cell_type": "markdown",
   "metadata": {},
   "source": [
    "## 個体を初期化する関数 `initialize_genome()` を用意する\n",
    "* 個体をつくる作業は何度も繰り返すことになるので、関数を用意しておくと便利だし、ケアレスミスの防止になる。"
   ]
  },
  {
   "cell_type": "code",
   "execution_count": null,
   "metadata": {},
   "outputs": [],
   "source": [
    "def initialize_genome():\n",
    "    genome = ''\n",
    "    for i in range( 19 ):\n",
    "        genome = genome + random.choice( bases )\n",
    "    return genome\n",
    "\n",
    "print( initialize_genome() )"
   ]
  },
  {
   "cell_type": "markdown",
   "metadata": {},
   "source": [
    "## 個体の集団 `population` をつくる\n",
    "* 10 個体を要素とするリスト `population` をつくり、これを最初の世代とする"
   ]
  },
  {
   "cell_type": "code",
   "execution_count": null,
   "metadata": {},
   "outputs": [],
   "source": [
    "population = [] # 空のリスト\n",
    "for i in range( 10 ):\n",
    "   population.append( initialize_genome() ) \n",
    "\n",
    "# populationから１要素ずつ取りだして print してみる\n",
    "for a_genome in population:\n",
    "    print( a_genome )"
   ]
  },
  {
   "cell_type": "markdown",
   "metadata": {},
   "source": [
    "## 自然選択する\n",
    "* 集団 `population` から、もっとも最高の文字列に近い１個体を選ぶ。\n",
    "* そのためには、個体と最高の文字列の類似度 `homology` を評価する必要がある。\n",
    "* 最高の文字列を文字列 `perfect_genome` として定義する。\n",
    "* 個体の文字と、１文字ずつ比較して、合致する文字の数をカウントする。"
   ]
  },
  {
   "cell_type": "code",
   "execution_count": null,
   "metadata": {},
   "outputs": [],
   "source": [
    "perfect_genome = \"CHARLESROBERTDARWIN\"\n",
    "\n",
    "a_genome = initialize_genome()\n",
    "print( a_genome )\n",
    "\n",
    "homology = 0\n",
    "for i in range( 19 ):\n",
    "    if a_genome[ i ] == perfect_genome[ i ]:\n",
    "        homology = homology + 1\n",
    "\n",
    "print( homology )"
   ]
  },
  {
   "cell_type": "markdown",
   "metadata": {},
   "source": [
    "* 類似度を計算するプロセスを関数 `get_homology( a_genome )` にまとめる。\n",
    "    * 引数 `a_genome` の類似度を返す。"
   ]
  },
  {
   "cell_type": "code",
   "execution_count": null,
   "metadata": {},
   "outputs": [],
   "source": [
    "def get_homology( a_genome ):\n",
    "    homology = 0\n",
    "    for i in range( 19 ):\n",
    "        if a_genome[ i ] == perfect_genome[ i ]:\n",
    "            homology = homology + 1\n",
    "    return homology\n",
    "\n",
    "sample_genome = initialize_genome()\n",
    "print( \"{}: {}\".format( sample_genome, get_homology( sample_genome )))"
   ]
  },
  {
   "cell_type": "markdown",
   "metadata": {},
   "source": [
    "### 集団の各個体の類似度を評価する"
   ]
  },
  {
   "cell_type": "code",
   "execution_count": null,
   "metadata": {},
   "outputs": [],
   "source": [
    "for g in population:\n",
    "    print( \"{}: {}\".format( g, get_homology( g )))"
   ]
  },
  {
   "cell_type": "markdown",
   "metadata": {},
   "source": [
    "### 最大の適応度を持つ生き残り個体を抽出する"
   ]
  },
  {
   "cell_type": "code",
   "execution_count": null,
   "metadata": {},
   "outputs": [],
   "source": [
    "max_homology = -1\n",
    "for g in population:\n",
    "    h = get_homology( g )\n",
    "    if h > max_homology:\n",
    "        survivor = g\n",
    "        max_homology = h\n",
    "\n",
    "print( \"survivor: {} (homology = {})\".format( survivor, max_homology ))"
   ]
  },
  {
   "cell_type": "markdown",
   "metadata": {},
   "source": [
    "* 生き残りを抽出する関数 `selection( a_population )` をつくる。\n",
    "    * 引数 `a_population` から、もっとも類似度の高い個体を抽出して返す。"
   ]
  },
  {
   "cell_type": "code",
   "execution_count": null,
   "metadata": {},
   "outputs": [],
   "source": [
    "def selection( a_population ):\n",
    "    max_homology = -1\n",
    "    for g in a_population:\n",
    "        h = get_homology( g )\n",
    "        if h > max_homology:\n",
    "            survivor = g\n",
    "            max_homology = h\n",
    "    return survivor\n",
    "\n",
    "the_survivor = selection( population )\n",
    "print( \"survivor: {} (homology = {})\".format( the_survivor, get_homology( the_survivor ) ))"
   ]
  },
  {
   "cell_type": "markdown",
   "metadata": {},
   "source": [
    "## 自然選択の生き残りが自己複製し、次の世代の集団をつくる"
   ]
  },
  {
   "cell_type": "code",
   "execution_count": null,
   "metadata": {},
   "outputs": [],
   "source": [
    "next_population = []\n",
    "\n",
    "for i in range( 10 ):\n",
    "    next_population.append( the_survivor )\n",
    "\n",
    "for g in next_population:\n",
    "    print( g )"
   ]
  },
  {
   "cell_type": "markdown",
   "metadata": {},
   "source": [
    "## 自己複製の際に、１％の確率で突然変異が起こるようにする。\n",
    "* まず、１文字に突然変異を起こすプログラムを書く。\n",
    "* 0.0以上、1.0未満の乱数を生成する関数 `random.random()` を使って、１％の確率で突然変異を起こす。"
   ]
  },
  {
   "cell_type": "code",
   "execution_count": null,
   "metadata": {},
   "outputs": [],
   "source": [
    "# ランダムな１文字を選ぶ\n",
    "a_base = random.choice( bases )\n",
    "print( a_base )\n",
    "\n",
    "while True:  # 永久ループ\n",
    "    if random.random() * 100. < 1.0:\n",
    "        while True:\n",
    "            mutated_base = random.choice( bases )\n",
    "            if a_base != mutated_base:\n",
    "                print( mutated_base )\n",
    "                break\n",
    "        break\n",
    "    else:\n",
    "        print( a_base )\n",
    "        continue\n"
   ]
  },
  {
   "cell_type": "markdown",
   "metadata": {},
   "source": [
    "* 関数 `single_base_replication( a_base )` にまとめる"
   ]
  },
  {
   "cell_type": "code",
   "execution_count": null,
   "metadata": {},
   "outputs": [],
   "source": [
    "def single_base_replication( a_base ):\n",
    "    if random.random() * 100. < 1.0:\n",
    "        while True:\n",
    "            mutated_base = random.choice( bases )\n",
    "            if a_base != mutated_base:\n",
    "                a_base = mutated_base\n",
    "                break\n",
    "    return a_base\n",
    "\n",
    "\n",
    "for i in range( 1000 ):\n",
    "    a_before = random.choice( bases )\n",
    "    an_after = single_base_replication( a_before )\n",
    "    print( \"{:3}: Before-After: {}-{}\".format( i, a_before, an_after ))\n",
    "    if a_before != an_after:\n",
    "        break\n"
   ]
  },
  {
   "cell_type": "markdown",
   "metadata": {},
   "source": [
    "### 変異を織り込みつつ、１つの個体（19文字の文字列）を自己複製する"
   ]
  },
  {
   "cell_type": "code",
   "execution_count": null,
   "metadata": {},
   "outputs": [],
   "source": [
    "print( the_survivor )\n",
    "\n",
    "a_child = ''\n",
    "for b in the_survivor:\n",
    "    a_child =  a_child + single_base_replication( b )\n",
    "\n",
    "print( a_child )"
   ]
  },
  {
   "cell_type": "markdown",
   "metadata": {},
   "source": [
    "* 関数 `replicate_genome( a_genome )` にまとめる"
   ]
  },
  {
   "cell_type": "code",
   "execution_count": null,
   "metadata": {},
   "outputs": [],
   "source": [
    "def replicate_genome( a_genome ):\n",
    "    a_child = ''\n",
    "    for b in the_survivor:\n",
    "        a_child =  a_child + single_base_replication( b )\n",
    "    return a_child\n",
    "\n",
    "print( the_survivor )\n",
    "print( replicate_genome( the_survivor ))"
   ]
  },
  {
   "cell_type": "markdown",
   "metadata": {},
   "source": [
    "## 変異を織り込みつつ、生き残った個体から次の世代の集団をつくる"
   ]
  },
  {
   "cell_type": "code",
   "execution_count": null,
   "metadata": {},
   "outputs": [],
   "source": [
    "next_population = []\n",
    "\n",
    "for i in range( 10 ):\n",
    "    next_population.append( replicate_genome( the_survivor ))\n",
    "\n",
    "\n",
    "print( the_survivor )\n",
    "print('')  # 空行\n",
    "for g in next_population:\n",
    "    print( g )"
   ]
  },
  {
   "cell_type": "markdown",
   "metadata": {},
   "source": [
    "* 関数 `next_genaration( a_genome )` にまとめる"
   ]
  },
  {
   "cell_type": "code",
   "execution_count": null,
   "metadata": {},
   "outputs": [],
   "source": [
    "def next_genaration( a_genome ):\n",
    "    next_population = []\n",
    "    for i in range( 10 ):\n",
    "        next_population.append( replicate_genome( the_survivor ))\n",
    "    return next_population\n",
    "\n",
    "print( the_survivor )\n",
    "print('')  # 空行\n",
    "for g in next_genaration( the_survivor ):\n",
    "    print( g )"
   ]
  },
  {
   "cell_type": "markdown",
   "metadata": {},
   "source": [
    "## ここまでに作った関数をひととおりの流れにまとめてみる\n",
    "* 初期集団をつくる\n",
    "* 自然選択の生き残りを抜き取る\n",
    "* 次世代の集団をつくる"
   ]
  },
  {
   "cell_type": "code",
   "execution_count": null,
   "metadata": {},
   "outputs": [],
   "source": [
    "population = []\n",
    "for i in range( 10 ):\n",
    "   population.append( initialize_genome() ) \n",
    "\n",
    "for g in population:\n",
    "    print( g )\n",
    "print('')  # 空行\n",
    "\n",
    "the_survivor = selection( population )\n",
    "population = next_genaration( the_survivor )\n",
    "for g in population:\n",
    "    print( g )"
   ]
  },
  {
   "cell_type": "markdown",
   "metadata": {},
   "source": [
    "# モデリング（２）\n",
    "* 世代交代を繰り返し、最高の文字列へと進化していく過程を計算する。\n",
    "\n",
    "\n",
    "## 最高の文字列と５文字合致するまで世代発展させてみる"
   ]
  },
  {
   "cell_type": "code",
   "execution_count": null,
   "metadata": {},
   "outputs": [],
   "source": [
    "n_genaration = 1 # 世代数\n",
    "\n",
    "the_population = []\n",
    "for i in range( 10 ):\n",
    "   the_population.append( initialize_genome() ) \n",
    "\n",
    "the_survivor = selection( the_population )\n",
    "the_homology = get_homology( the_survivor )\n",
    "print( \"gen {:4}: {:2} ({})\".format( n_genaration, the_homology, the_survivor ))\n",
    "\n",
    "while the_homology < 5:\n",
    "    the_population = next_genaration( the_survivor )\n",
    "    n_genaration = n_genaration + 1\n",
    "\n",
    "    the_survivor = selection( the_population )\n",
    "    the_homology = get_homology( the_survivor )\n",
    "    print( \"gen {:4}: {:2} ({})\".format( n_genaration, the_homology, the_survivor ))\n"
   ]
  },
  {
   "cell_type": "markdown",
   "metadata": {},
   "source": [
    "## 最高の文字列に到達するまで世代発展させてみる"
   ]
  },
  {
   "cell_type": "code",
   "execution_count": null,
   "metadata": {},
   "outputs": [],
   "source": [
    "n_genaration = 1 # 世代数\n",
    "\n",
    "the_population = []\n",
    "for i in range( 10 ):\n",
    "   the_population.append( initialize_genome() ) \n",
    "\n",
    "the_survivor = selection( the_population )\n",
    "the_homology = get_homology( the_survivor )\n",
    "print( \"gen {:4}: {:2} ({})\".format( n_genaration, the_homology, the_survivor ))\n",
    "\n",
    "while the_homology < 19:\n",
    "    the_population = next_genaration( the_survivor )\n",
    "    n_genaration = n_genaration + 1\n",
    "\n",
    "    the_survivor = selection( the_population )\n",
    "    the_homology = get_homology( the_survivor )\n",
    "    print( \"gen {:4}: {:2} ({})\".format( n_genaration, the_homology, the_survivor ))\n",
    "\n"
   ]
  },
  {
   "cell_type": "markdown",
   "metadata": {},
   "source": [
    "## 進化過程をグラフに描いてみる\n",
    "* 必要なモジュールをインポート"
   ]
  },
  {
   "cell_type": "code",
   "execution_count": null,
   "metadata": {},
   "outputs": [],
   "source": [
    "import numpy as np\n",
    "\n",
    "%matplotlib inline\n",
    "import matplotlib.pyplot as plt"
   ]
  },
  {
   "cell_type": "markdown",
   "metadata": {},
   "source": [
    "### 進化過程をnumpyの２次元配列に記録"
   ]
  },
  {
   "cell_type": "code",
   "execution_count": null,
   "metadata": {},
   "outputs": [],
   "source": [
    "n_genaration = 1 # 世代数\n",
    "\n",
    "the_population = []\n",
    "for i in range( 10 ):\n",
    "   the_population.append( initialize_genome() ) \n",
    "\n",
    "the_survivor = selection( the_population )\n",
    "the_homology = get_homology( the_survivor )\n",
    "print( \"gen {:4}: {:2} ({})\".format( n_genaration, the_homology, the_survivor ))\n",
    "\n",
    "evolution_history = np.array( [[ n_genaration, the_homology ],] )\n",
    "\n",
    "while the_homology < 19:\n",
    "    the_population = next_genaration( the_survivor )\n",
    "    n_genaration = n_genaration + 1\n",
    "\n",
    "    the_survivor = selection( the_population )\n",
    "    the_homology = get_homology( the_survivor )\n",
    "    print( \"gen {:4}: {:2} ({})\".format( n_genaration, the_homology, the_survivor ))\n",
    "    evolution_history = np.append( evolution_history, [[ n_genaration, the_homology ],], axis = 0 )\n"
   ]
  },
  {
   "cell_type": "markdown",
   "metadata": {},
   "source": [
    "### グラフをプロット"
   ]
  },
  {
   "cell_type": "code",
   "execution_count": null,
   "metadata": {},
   "outputs": [],
   "source": [
    "plt.figure()\n",
    "plt.plot( evolution_history[ :, 0 ], evolution_history[ :, 1 ] )\n",
    "plt.yticks([0, 5, 10, 15, 19])  # 縦軸の目盛りを設定"
   ]
  },
  {
   "cell_type": "markdown",
   "metadata": {},
   "source": [
    "## モデリング（３）変異する確率を変えられるようにする"
   ]
  },
  {
   "cell_type": "code",
   "execution_count": null,
   "metadata": {},
   "outputs": [],
   "source": [
    "def single_base_replication_2( a_base, mutation_rate ):\n",
    "    if random.random() * 100. < mutation_rate:\n",
    "        while True:\n",
    "            mutated_base = random.choice( bases )\n",
    "            if a_base != mutated_base:\n",
    "                a_base = mutated_base\n",
    "                break\n",
    "    return a_base\n",
    "\n",
    "def replicate_genome_2( a_genome, mutation_rate ):\n",
    "    a_child = ''\n",
    "    for b in a_genome:\n",
    "        a_child =  a_child + single_base_replication_2( b, mutation_rate )\n",
    "    return a_child\n",
    "\n",
    "def next_genaration_2( a_genome, mutation_rate ):\n",
    "    next_population = []\n",
    "    for i in range( 10 ):\n",
    "        next_population.append( replicate_genome_2( a_genome, mutation_rate ))\n",
    "    return next_population\n",
    "\n"
   ]
  },
  {
   "cell_type": "code",
   "execution_count": null,
   "metadata": {},
   "outputs": [],
   "source": [
    "n_genaration = 1 # 世代数\n",
    "\n",
    "the_mutation_rate = 1.0  # 突然変異確率（％）\n",
    "\n",
    "the_population = []\n",
    "for i in range( 10 ):\n",
    "   the_population.append( initialize_genome() ) \n",
    "\n",
    "the_survivor = selection( the_population )\n",
    "the_homology = get_homology( the_survivor )\n",
    "\n",
    "the_evolution_history = np.array( [[ n_genaration, the_homology ],] )\n",
    "\n",
    "while the_homology < 19:\n",
    "    the_population = next_genaration_2( the_survivor, the_mutation_rate )\n",
    "    n_genaration = n_genaration + 1\n",
    "\n",
    "    the_survivor = selection( the_population )\n",
    "    the_homology = get_homology( the_survivor )\n",
    "    the_evolution_history = np.append( the_evolution_history, [[ n_genaration, the_homology ],], axis = 0 )\n",
    "\n",
    "    if n_genaration > 10000:  # 10000世代でゴールに達しない場合は打ち切る\n",
    "        break\n",
    "\n",
    "plt.figure()\n",
    "plt.plot( the_evolution_history[ :, 0 ], the_evolution_history[ :, 1 ], label = the_mutation_rate )\n",
    "plt.yticks([0, 5, 10, 15, 19])      # 縦軸の目盛りを設定\n",
    "plt.legend( loc = 'lower right' )   # 凡例を表示、場所を右下に指定"
   ]
  },
  {
   "cell_type": "markdown",
   "metadata": {},
   "source": [
    "### １回の進化過程をひとつの関数にまとめる"
   ]
  },
  {
   "cell_type": "code",
   "execution_count": null,
   "metadata": {},
   "outputs": [],
   "source": [
    "def get_an_evolution_history( mutation_rate ):\n",
    "    n_genaration = 1 # 世代数\n",
    "\n",
    "    p = []\n",
    "    for i in range( 10 ):\n",
    "       p.append( initialize_genome() ) \n",
    "\n",
    "    s = selection( p )\n",
    "    h = get_homology( s )\n",
    "\n",
    "    evo = np.array( [[ n_genaration, h ],] )\n",
    "\n",
    "    while h < 19:\n",
    "        p = next_genaration_2( s, mutation_rate )\n",
    "        n_genaration = n_genaration + 1\n",
    "\n",
    "        s = selection( p )\n",
    "        h = get_homology( s )\n",
    "        evo = np.append( evo, [[ n_genaration, h ],], axis = 0 )\n",
    "\n",
    "        if n_genaration > 10000:\n",
    "            break\n",
    "\n",
    "    return evo\n",
    "\n",
    "the_mutation_rate = 1.0  # 突然変異確率（％）\n",
    "the_evolution_history = get_an_evolution_history( the_mutation_rate )\n",
    "plt.figure()\n",
    "plt.plot( the_evolution_history[ :, 0 ], the_evolution_history[ :, 1 ], label = the_mutation_rate )\n",
    "plt.yticks([0, 5, 10, 15, 19])  # 縦軸の目盛りを設定\n",
    "plt.legend( loc = 'lower right' )\n"
   ]
  },
  {
   "cell_type": "markdown",
   "metadata": {},
   "source": [
    "### 突然変異率を 1〜10％の範囲で変化させてみる"
   ]
  },
  {
   "cell_type": "code",
   "execution_count": null,
   "metadata": {},
   "outputs": [],
   "source": [
    "plt.figure()\n",
    "\n",
    "for r in range( 1, 11 ):\n",
    "    the_evolution_history = get_an_evolution_history( r )\n",
    "    plt.plot( the_evolution_history[ :, 0 ], the_evolution_history[ :, 1 ], label = r )\n",
    "\n",
    "\n",
    "plt.xscale('log')\n",
    "plt.yticks([0, 5, 10, 15, 19])  # 縦軸の目盛りを設定\n",
    "plt.legend( loc = 'lower right' )"
   ]
  },
  {
   "cell_type": "markdown",
   "metadata": {},
   "source": [
    "### 同じ突然変異率で繰り返し試行する\n",
    "* 確率事象なので毎回結果はことなり、ばらつく"
   ]
  },
  {
   "cell_type": "code",
   "execution_count": null,
   "metadata": {},
   "outputs": [],
   "source": [
    "plt.figure()\n",
    "\n",
    "the_mutation_rate = 1.0\n",
    "\n",
    "for i in range( 10 ):\n",
    "    the_evolution_history = get_an_evolution_history( the_mutation_rate )\n",
    "    plt.plot( the_evolution_history[ :, 0 ], the_evolution_history[ :, 1 ], label = the_mutation_rate )\n",
    "\n",
    "\n",
    "plt.yticks([0, 5, 10, 15, 19])  # 縦軸の目盛りを設定\n",
    "plt.title( \"mutation rate = {} %\".format( the_mutation_rate ), fontsize=20)\n"
   ]
  },
  {
   "cell_type": "markdown",
   "metadata": {},
   "source": [
    "## グラフをパネル上に並べる"
   ]
  },
  {
   "cell_type": "code",
   "execution_count": null,
   "metadata": {},
   "outputs": [],
   "source": [
    "fig, axes = plt.subplots( 3, 2, figsize=(12, 12), dpi=72 )\n",
    "ax_x, ax_y = 0, 0\n",
    "\n",
    "for r in [ 1, 2, 4, 6, 8, 10 ]:\n",
    "    for i in range( 10 ):\n",
    "        the_evolution_history = get_an_evolution_history( r )\n",
    "        axes[ ax_x, ax_y ].plot( the_evolution_history[ :, 0 ], \\\n",
    "                           the_evolution_history[ :, 1 ], \\\n",
    "                           label = the_mutation_rate )\n",
    "\n",
    "    axes[ ax_x, ax_y ].set_yticks([0, 5, 10, 15, 19])  # 縦軸の目盛りを設定\n",
    "    axes[ ax_x, ax_y ].set_title( \"mutation rate = {} %\".format( r ), fontsize=16)\n",
    "\n",
    "    if ax_y == 1:\n",
    "        ax_x = ax_x + 1\n",
    "        ax_y = 0\n",
    "    else:\n",
    "        ax_y = 1\n"
   ]
  },
  {
   "cell_type": "code",
   "execution_count": null,
   "metadata": {},
   "outputs": [],
   "source": []
  }
 ],
 "metadata": {
  "kernelspec": {
   "display_name": "Python 2",
   "language": "python",
   "name": "python2"
  },
  "language_info": {
   "codemirror_mode": {
    "name": "ipython",
    "version": 2
   },
   "file_extension": ".py",
   "mimetype": "text/x-python",
   "name": "python",
   "nbconvert_exporter": "python",
   "pygments_lexer": "ipython2",
   "version": "2.7.16"
  }
 },
 "nbformat": 4,
 "nbformat_minor": 2
}
