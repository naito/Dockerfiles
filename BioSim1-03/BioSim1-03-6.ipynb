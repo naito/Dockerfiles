{
 "cells": [
  {
   "cell_type": "markdown",
   "metadata": {},
   "source": [
    "# プログラムの解説\n",
    "\n",
    "- モデル１（ノートブックBioSim1-03-2）を作成・実行したプログラムの解説"
   ]
  },
  {
   "cell_type": "markdown",
   "metadata": {},
   "source": [
    "## E-Cell3を使うための準備"
   ]
  },
  {
   "cell_type": "markdown",
   "metadata": {},
   "source": [
    "- この下のセルでは、大きく以下の２つを行っています。\n",
    "\n",
    "- 数学的な要素を高速かつ簡便に扱えるモジュール `numpy` をインポートして、`np` というニックネームをつけています。\n",
    "  - たとえば、`numpy` モジュールがもつ `array()` という関数を使うには、`np.array()` と記述します。\n",
    "  \n",
    "☞ みんなのPython Chapter 02-08 モジュールを使う（p.107）\n",
    "\n",
    "- グラフを描くための `matplotlib` という外部ライブラリを利用可能にするお決まりのコードを記述しています。\n",
    "  - `%` で始まるコマンドは、マジックコマンドと呼ばれる Jupyter が備える便利機能です。\n",
    "\n",
    "☞ みんなのPython Chapter 12 Pythonとデータサイエンス（p.409）\n",
    "\n",
    "- `#` 以下は、行末まで、プログラム本体には含まれない **コメント** として無視されるので、最後の２行にプログラムとしての意味はありません（何も実行されません）。"
   ]
  },
  {
   "cell_type": "code",
   "execution_count": 1,
   "metadata": {},
   "outputs": [],
   "source": [
    "import numpy as np\n",
    "\n",
    "%matplotlib inline\n",
    "import matplotlib.pyplot as plt\n",
    "\n",
    "## %install_ext https://raw.githubusercontent.com/naito/ecell3-ipython/master/extensions/ecell3.py\n",
    "## %load_ext ecell3"
   ]
  },
  {
   "cell_type": "markdown",
   "metadata": {},
   "source": [
    "- 下のセルでは、このノートブックファイルと同じフォルダに置かれている `biosim_course.py` をインポートします。\n",
    "  - これにより、`biosim_course.py` 内に書かれている機能を利用できるようになります。\n",
    "- `biosim_course.py` の内容を理解する必要はありません。\n",
    "\n",
    "☞ みんなのPython Chapter 02-08 モジュールを使う（p.107）\n"
   ]
  },
  {
   "cell_type": "code",
   "execution_count": 2,
   "metadata": {},
   "outputs": [],
   "source": [
    "import biosim_course"
   ]
  },
  {
   "cell_type": "markdown",
   "metadata": {},
   "source": [
    "# モデル１"
   ]
  },
  {
   "cell_type": "markdown",
   "metadata": {},
   "source": [
    "![モデル１概要](./model1.png)"
   ]
  },
  {
   "cell_type": "markdown",
   "metadata": {},
   "source": [
    "# このモデルに含まれる `Entity`\n",
    "\n",
    "## `System`\n",
    "- ルートシステム（細胞外の空間） FullID = `System::/'\n",
    "- 細胞 FullID = `System:/:Cell'\n",
    "\n",
    "## `Variable`\n",
    "- 物質１ (`S1`)　 FullID = `Varible:/Cell:S1'\n",
    "- 物質２ (`S2`)　 FullID = `Varible:/Cell:S2'\n",
    "\n",
    "## `Process`\n",
    "- 物質１ (`E1`)　 FullID = `Process:/Cell:E1'\n",
    "- 物質２ (`E2`)　 FullID = `Process:/Cell:E2'"
   ]
  },
  {
   "cell_type": "markdown",
   "metadata": {},
   "source": [
    "- EM形式で記述されたモデル（文字列）を変数 `EM` に代入します。\n",
    "\n",
    "- 三重引用符（`'''` または `\"\"\"`）を使うと、複数行の文字列（開業を含む文字列）を記述できます。\n",
    "\n",
    "☞ みんなのPython Chapter 02-03 文字列を使う（p.55）\n"
   ]
  },
  {
   "cell_type": "code",
   "execution_count": 3,
   "metadata": {},
   "outputs": [],
   "source": [
    "EM = '''\n",
    "Stepper ODEStepper( ODE ){}\n",
    "\n",
    "System System( / )\n",
    "{\n",
    "    StepperID    ODE;\n",
    "\n",
    "    Variable Variable( SIZE )\n",
    "    {\n",
    "        Value    1;\n",
    "    }\n",
    "}\n",
    "\n",
    "System System( /Cell )\n",
    "{\n",
    "    StepperID    ODE;\n",
    "\n",
    "Variable Variable( SIZE )\n",
    "    {\n",
    "        Value    1;\n",
    "    }\n",
    "\n",
    "    Variable Variable( S1 )\n",
    "    {\n",
    "        Value    10000;\n",
    "    }\n",
    "\n",
    "    Variable Variable( S2 )\n",
    "    {\n",
    "        Value    10000;\n",
    "    }\n",
    "\n",
    "    Process MassActionFluxProcess( E1 )\n",
    "    {\n",
    "        k    0.1;\n",
    "        VariableReferenceList\n",
    "            [ S1  Variable:/Cell:S1 -1 ]\n",
    "            [ S2  Variable:/Cell:S2  1 ];\n",
    "    }\n",
    "\n",
    "    Process MassActionFluxProcess( E2 )\n",
    "    {\n",
    "        k    0.2;\n",
    "        VariableReferenceList\n",
    "            [ S2  Variable:/Cell:S2 -1 ]\n",
    "            [ S1  Variable:/Cell:S1  1 ];\n",
    "    }\n",
    "\n",
    "}\n",
    "'''"
   ]
  },
  {
   "cell_type": "markdown",
   "metadata": {},
   "source": [
    "# モデルを走らせてみる"
   ]
  },
  {
   "cell_type": "markdown",
   "metadata": {},
   "source": [
    "- **関数 `setModel( モデル文字列, モデル名 )`**\n",
    "  - モデル文字列：EM形式の文字列\n",
    "  - モデル名：文字列。好きな名前をつけていい。\n",
    "  \n",
    "- `'t = {}'.format( 123.4 )`\n",
    "  - **関数 `format()`** ：文字列に備わっている関数（メソッド）。文字列に含まれる波括弧 `{}` を、引数で置き換える。\n",
    "\n",
    "☞ みんなのPython Chapter 04-03 文字列を使いこなす（p.167）\n",
    "\n",
    "- **関数 `getCurrentTime()`**\n",
    "  - E-Cell3 が提供する関数。シミュレータ内の現在時刻を返す。"
   ]
  },
  {
   "cell_type": "code",
   "execution_count": 4,
   "metadata": {},
   "outputs": [
    {
     "name": "stdout",
     "output_type": "stream",
     "text": [
      "t = 0.0\n"
     ]
    }
   ],
   "source": [
    "setModel(EM, \"model\")\n",
    "\n",
    "print 't = {}'.format( getCurrentTime() )"
   ]
  },
  {
   "cell_type": "markdown",
   "metadata": {},
   "source": [
    "## Loggerをつくる"
   ]
  },
  {
   "cell_type": "markdown",
   "metadata": {},
   "source": [
    "- **タプル**\n",
    "  - `( '/', '/Cell', )` は２つの要素 `'/'`、`'/Cell'` からなるタプル。\n",
    "\n",
    "☞ みんなのPython Chapter 03-03 タプルを使う（p.130）\n",
    "\n",
    "- **辞書（ディクショナリ）**\n",
    "  - `{ 'Variable': ['Value', 'Velocity'], }` は１つの要素からなる辞書。\n",
    "    - 要素のキーは文字列 `'Variable'`\n",
    "    - 値はリスト `['Value', 'Velocity']`\n",
    "\n",
    "☞ みんなのPython Chapter 03-01 ディクショナリ（辞書）を使う（p.114）\n",
    "☞ みんなのPython Chapter 02-04 リストを使う（p.63）\n",
    "\n",
    "- **`for` 文**\n",
    "  - 同じ作業の繰り返し（ループ）。１周ごとに規則的に作業内容を変えることもできる。\n",
    "  - ここでは、４重の `for` ループを回している。\n",
    "    - いちばん外側のループでは、１周ごとにタプル `target_SystemPath_list` から要素（システムパス）を１つ取り出して、変数 `target_SystemPath` に代入する\n",
    "    - 外側から２番目のループでは、１周ごとに辞書 `Target_Properties` からアイテム（キーと値のペア）を１つ取り出して、そのキーを変数 `E_type` に、値（リスト）を変数 `Properties` にそれぞれ代入する。\n",
    "    - 外側から３番目のループでは、関数 `getEntityList()` を用いて、`Entity` の種類が `E_type`、システムパスが `target_SystemPath` の` Entity` 名のリストを取得し、そこから １周ごとに `Entity` 名のを１つ取り出して、変数 `E` にそれぞれ代入する。\n",
    "    - いちばん内側のループでは、１周ごとにリスト `Properties` から要素（属性名）を１つ取り出して、変数 `p` に代入する。\n",
    "    - ループ内の処理では、以下の操作を実行している。\n",
    "      - `E_type, target_SystemPath, E, p` から FullPN 文字列をつくり、変数 `FullPN` に代入する。\n",
    "      - 辞書 `Logger_dict` に、キー `FullPN`、値 `LoggerStub`（関数 `createLoggerStub()` でつくった、キーの FullPN に対応する `LoggerStub` からなるアイテムを追加する。\n",
    "      - 作成した `LoggerStub` の記録を開始する、（`Logger_dict[ FullPN ].create()`）\n",
    "\n",
    "☞ みんなのPython Chapter 02-05 for文でループを使う（p.77）\n",
    "☞ **`getEntityList()`** E-Cell Fundamentals（p.96）\n",
    "\n",
    "### LoggerStub\n",
    "\n",
    "- モデル内の変数（ひとつの FullPN）の時間変化を記録する 'Logger' の“のぞき窓”。\n",
    "\n",
    "- **関数 `createLoggerStub( FullPN )`**\n",
    "  - _FullPN_ の値を記録する `LoggerStub` をつくる。\n",
    "  - つくっただけでは記録は開始されない（＝予めつくっておくことができる）。\n",
    "  - `Logger` 関数 `create()` を実行すると、記録が開始される。\n",
    "\n",
    "☞ **`Logger`** E-Cell Fundamentals（p.77, 96）\n",
    "\n",
    "\n",
    "\n",
    "    \n",
    "\n"
   ]
  },
  {
   "cell_type": "code",
   "execution_count": 5,
   "metadata": {},
   "outputs": [],
   "source": [
    "target_SystemPath_list = ( '/', '/Cell', )\n",
    "Target_Properties = { 'Variable': ['Value', 'Velocity'], }\n",
    "Logger_dict = {}\n",
    "\n",
    "for target_SystemPath in target_SystemPath_list:\n",
    "    for E_type, Properties in Target_Properties.items():\n",
    "        for E in getEntityList( E_type, target_SystemPath ):\n",
    "            for p in Properties:\n",
    "                FullPN = ':'.join( ( E_type, target_SystemPath, E, p ) )\n",
    "                Logger_dict[ FullPN ] = createLoggerStub( FullPN )\n",
    "                Logger_dict[ FullPN ].create()"
   ]
  },
  {
   "cell_type": "markdown",
   "metadata": {},
   "source": [
    "## シミュレーションを実行する"
   ]
  },
  {
   "cell_type": "markdown",
   "metadata": {},
   "source": [
    "- 変数 `step_width` ：シミュレーションを実行する単位時間を設定しておく。\n",
    "  - ノートブック中で何度もシミュレーションを実行する場合にも、ここを書き換えればすべてのシミュレーション実行時間を変更することができる。\n",
    "\n",
    "- **関数 `run( 実行時間 )`**\n",
    "  - _実行時間_ の値だけ、シミュレーションを実行し、シミュレータ内の時間を進める。\n",
    "\n",
    "☞ **`run()`** E-Cell Fundamentals（p.94）\n"
   ]
  },
  {
   "cell_type": "code",
   "execution_count": 6,
   "metadata": {},
   "outputs": [
    {
     "name": "stdout",
     "output_type": "stream",
     "text": [
      "t = 60.0\n"
     ]
    }
   ],
   "source": [
    "step_width = 60.0  # min\n",
    "\n",
    "run( step_width )\n",
    "\n",
    "print 't = {}'.format( getCurrentTime() )"
   ]
  },
  {
   "cell_type": "markdown",
   "metadata": {},
   "source": [
    "## グラフを描いてみる"
   ]
  },
  {
   "cell_type": "markdown",
   "metadata": {},
   "source": [
    "☞ みんなのPython Chapter 12-01 NumPy と matplotlib（p.410）\n",
    "\n",
    "\n",
    "- 空の辞書 `Data_dict` をつくる（`Data_dict = {}`）\n",
    "\n",
    "- `for` ループを回して、ロガーからデータを取り出して、辞書 `Data_dict` に追加する。\n",
    "\n",
    "### `Logger` からデータを取り出す\n",
    "\n",
    "- **`Logger` 関数 `getData( 先頭時刻, 末尾時刻, 時間間隔 )`**\n",
    "  - `Logger` に記録されているデータから、_先頭時刻_ から _末尾時刻_ までのデータを _時間間隔_ で取り出す。\n",
    "    - `Logger` 内のデータは時間間隔もまちまちだったりするが、`getData()` を使って取りだすことで等間隔に整形できる。\n",
    "  - ここでは、先頭時刻：0, 末尾時刻：現在時刻で、時間間隔は〔現在時刻／100〕つまり取り出す区間を100分割と指定している。\n",
    "\n",
    "\n",
    "☞ **`getData()`** E-Cell Fundamentals（p.83）\n",
    "\n",
    "\n",
    "### `Logger` から取り出したデータから NumPy の `array` をつくる\n",
    "\n",
    "- **`np.array()`**\n",
    "  - `numpy` モジュールの持つリスト型のデータ構造 `array` をつくる。\n",
    "  - ここでは、２次元の `array` がつくられる。１次元目は時系列、２次元目はデータの種類で `:2` は最初の２つの要素だけ取り出している。最初の要素は時刻、２つ目の要素は対象の値。\n",
    "\n",
    "☞ みんなのPython Chapter 12-02 NumPyを使う（p.418）\n",
    "\n",
    "### データを格納した NumPy `array` からグラフを描く\n",
    "\n",
    "- グラフを描画するカンバスを用意する（`plt.figure()`）\n",
    "- 辞書 `Data_dict` からデータ（NumPy の `array`）を取りだし、関数 `plot()` でグラフ描画する。\n",
    "  - X軸に時刻（`d[ :, 0 ]`）、Y軸に値（`d[ :, 1 ]`）をプロットする。\n",
    "  - データのラベルには、`FullPN` の３番目の要素（`FullPN.split(':')[ 2 ] `）つまりその `Entity` のIDを用いる。\n",
    "  - 凡例の位置は、グラフの右上を指定する（`plt.legend( loc = 'upper right' )`）。\n",
    "\n",
    "☞ みんなのPython Chapter 12-03 matplotlibを使う（p.426）\n",
    "\n"
   ]
  },
  {
   "cell_type": "code",
   "execution_count": 7,
   "metadata": {},
   "outputs": [
    {
     "data": {
      "text/plain": [
       "<matplotlib.legend.Legend at 0x7f9410399a90>"
      ]
     },
     "execution_count": 7,
     "metadata": {},
     "output_type": "execute_result"
    },
    {
     "data": {
      "image/png": "[encoded data removed]",
      "text/plain": [
       "<Figure size 432x288 with 1 Axes>"
      ]
     },
     "metadata": {
      "needs_background": "light"
     },
     "output_type": "display_data"
    }
   ],
   "source": [
    "Data_dict = {}\n",
    "for FullPN, Logger in Logger_dict.items():\n",
    "    Data_dict[ FullPN ] = np.array( Logger.getData( 0, getCurrentTime(), getCurrentTime() / 100 ) )[ :, :2 ]\n",
    "\n",
    "FullPNs_for_plot = [ \n",
    "    'Variable:/Cell:S1:Value',\n",
    "    'Variable:/Cell:S2:Value',\n",
    "    ]\n",
    "\n",
    "plt.figure()\n",
    "for FullPN, d in Data_dict.items():\n",
    "    if FullPN in FullPNs_for_plot:\n",
    "        plt.plot( d[ :, 0 ], d[ :, 1 ], label = FullPN.split(':')[ 2 ] )\n",
    "\n",
    "plt.legend( loc = 'upper right' )"
   ]
  },
  {
   "cell_type": "markdown",
   "metadata": {},
   "source": [
    "## 速度定数 `k` を変えるとどうなるか？\n",
    "- 現在の `k` の値を確認。"
   ]
  },
  {
   "cell_type": "markdown",
   "metadata": {},
   "source": [
    "- **関数 `createEntityStub( FullID )`**\n",
    "  - _FullID_ の `Entity` を“のぞき見”するための `EntityStub` をつくる。\n",
    "  - `EntityStub` は、最新の状況を確認するためのしかけ。`EntityStub` を介して、対象の `Entity` のすべての属性を取得することができる。\n",
    "  - `LoggerStub` は、記録開始以降の時系列データを保持している。ただし、１つの属性のみ。\n",
    "\n"
   ]
  },
  {
   "cell_type": "code",
   "execution_count": 8,
   "metadata": {},
   "outputs": [
    {
     "name": "stdout",
     "output_type": "stream",
     "text": [
      "k_E1 = 0.1\n",
      "k_E2 = 0.2\n"
     ]
    }
   ],
   "source": [
    "E1_Stub = createEntityStub( 'Process:/Cell:E1' )\n",
    "E2_Stub = createEntityStub( 'Process:/Cell:E2' )\n",
    "\n",
    "print( 'k_E1 = {}'.format( E1_Stub['k'] ))\n",
    "print( 'k_E2 = {}'.format( E2_Stub['k'] ))\n"
   ]
  },
  {
   "cell_type": "markdown",
   "metadata": {},
   "source": [
    "- `Process E2` の `k` を変えてみる。"
   ]
  },
  {
   "cell_type": "markdown",
   "metadata": {},
   "source": [
    "- `EntityStub` を介して、属性を書き換えることができる。\n",
    "  - 書き換え不能な属性もある。"
   ]
  },
  {
   "cell_type": "code",
   "execution_count": 9,
   "metadata": {},
   "outputs": [
    {
     "name": "stdout",
     "output_type": "stream",
     "text": [
      "k_E2 = 0.3\n"
     ]
    }
   ],
   "source": [
    "E2_Stub['k'] = 0.3\n",
    "\n",
    "print( 'k_E2 = {}'.format( E2_Stub['k'] ))"
   ]
  },
  {
   "cell_type": "code",
   "execution_count": 10,
   "metadata": {},
   "outputs": [
    {
     "name": "stdout",
     "output_type": "stream",
     "text": [
      "t = 120.0\n"
     ]
    }
   ],
   "source": [
    "run( step_width )\n",
    "print 't = {}'.format( getCurrentTime() )"
   ]
  },
  {
   "cell_type": "markdown",
   "metadata": {},
   "source": [
    "- 同じグラフを描き直すなら、コピペでＯＫ。\n",
    "  - データをとる _先頭時刻_ と _末尾時刻_ に注意すること。"
   ]
  },
  {
   "cell_type": "code",
   "execution_count": 11,
   "metadata": {},
   "outputs": [
    {
     "data": {
      "text/plain": [
       "<matplotlib.legend.Legend at 0x7f93f03bb6d0>"
      ]
     },
     "execution_count": 11,
     "metadata": {},
     "output_type": "execute_result"
    },
    {
     "data": {
      "image/png": "[encoded data removed]",
      "text/plain": [
       "<Figure size 432x288 with 1 Axes>"
      ]
     },
     "metadata": {
      "needs_background": "light"
     },
     "output_type": "display_data"
    }
   ],
   "source": [
    "Data_dict = {}\n",
    "for FullPN, Logger in Logger_dict.items():\n",
    "    Data_dict[ FullPN ] = np.array( Logger.getData( 0, getCurrentTime(), getCurrentTime() / 100 ) )[ :, :2 ]\n",
    "\n",
    "FullPNs_for_plot = [ \n",
    "    'Variable:/Cell:S1:Value',\n",
    "    'Variable:/Cell:S2:Value',\n",
    "    ]\n",
    "\n",
    "plt.figure()\n",
    "for FullPN, d in Data_dict.items():\n",
    "    if FullPN in FullPNs_for_plot:\n",
    "        plt.plot( d[ :, 0 ], d[ :, 1 ], label = FullPN.split(':')[ 2 ] )\n",
    "\n",
    "plt.legend( loc = 'upper right' )"
   ]
  },
  {
   "cell_type": "code",
   "execution_count": null,
   "metadata": {},
   "outputs": [],
   "source": []
  }
 ],
 "metadata": {
  "kernelspec": {
   "display_name": "Python 2",
   "language": "python",
   "name": "python2"
  },
  "language_info": {
   "codemirror_mode": {
    "name": "ipython",
    "version": 2
   },
   "file_extension": ".py",
   "mimetype": "text/x-python",
   "name": "python",
   "nbconvert_exporter": "python",
   "pygments_lexer": "ipython2",
   "version": "2.7.16"
  }
 },
 "nbformat": 4,
 "nbformat_minor": 1
}
