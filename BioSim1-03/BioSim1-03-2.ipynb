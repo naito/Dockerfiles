{
 "cells": [
  {
   "cell_type": "markdown",
   "metadata": {},
   "source": [
    "# 簡単なモデルをつくってみよう\n",
    "\n",
    "- 前のノートブックのつづき"
   ]
  },
  {
   "cell_type": "markdown",
   "metadata": {},
   "source": [
    "## E-Cell3を使うための準備"
   ]
  },
  {
   "cell_type": "code",
   "execution_count": null,
   "metadata": {},
   "outputs": [],
   "source": [
    "import numpy as np\n",
    "\n",
    "%matplotlib inline\n",
    "import matplotlib.pyplot as plt\n",
    "\n",
    "## %install_ext https://raw.githubusercontent.com/naito/ecell3-ipython/master/extensions/ecell3.py\n",
    "## %load_ext ecell3"
   ]
  },
  {
   "cell_type": "code",
   "execution_count": null,
   "metadata": {},
   "outputs": [],
   "source": [
    "import biosim_course"
   ]
  },
  {
   "cell_type": "markdown",
   "metadata": {},
   "source": [
    "# モデル１"
   ]
  },
  {
   "cell_type": "markdown",
   "metadata": {},
   "source": [
    "![モデル１概要](./model1.png)"
   ]
  },
  {
   "cell_type": "markdown",
   "metadata": {},
   "source": [
    "# このモデルに含まれる `Entity`\n",
    "\n",
    "## `System`\n",
    "- ルートシステム（細胞外の空間） FullID = `System::/'\n",
    "- 細胞 FullID = `System:/:Cell'\n",
    "\n",
    "## `Variable`\n",
    "- 物質１ (`S1`)　 FullID = `Varible:/Cell:S1'\n",
    "- 物質２ (`S2`)　 FullID = `Varible:/Cell:S2'\n",
    "\n",
    "## `Process`\n",
    "- 物質１ (`E1`)　 FullID = `Process:/Cell:E1'\n",
    "- 物質２ (`E2`)　 FullID = `Process:/Cell:E2'"
   ]
  },
  {
   "cell_type": "markdown",
   "metadata": {},
   "source": [
    "# モデルの記法（EM）\n",
    "\n",
    "## 基本となる書式"
   ]
  },
  {
   "cell_type": "markdown",
   "metadata": {},
   "source": [
    "![EM書式](./EM1.png)"
   ]
  },
  {
   "cell_type": "markdown",
   "metadata": {},
   "source": [
    "## クラス名\n",
    "- `Entity` 名が『生物種名』（イヌ、ネコ etc.）だとしたら、**クラス名** は品種（トイプードル、アメリカンショートヘア etc.）にあたる。\n",
    "- `System`, `Variable` のクラスは、それぞれ、`System`, `Variable` の１種類だけ。\n",
    "  - `Variable Variable` と並んでいるが、最初の `Variable` は `Entity` 名、２番目の `Variable` はクラス名を表している。\n",
    "- `Process`, `Stepper` には多彩なクラスがある。\n",
    "  - 反応の種類や、時間発展の計算方法によって使い分ける。\n",
    "\n",
    "## 要素名\n",
    "- 個々の要素の名前。たとえ話をつづけるなら、個体名（ポチ、ミケ etc.）にあたる。\n",
    "- FullID の３番目の要素となる。\n",
    "- あるモデルの中に、同じ FullID をもつ要素はつくれない。\n",
    "  - したがって、同一の `System`  内に、同じ要素名を持つ `Variable` をつくることはできない。\n",
    "  - 同様に、同一の `System`  内に、同じ要素名を持つ `Process` をつくることはできない。\n",
    "  - 同一の `System`  内に、同じ要素名を持つ `Variable` と `Process` をつくることはできる。（`Entity` が異なれば、異なる FullID になるため）\n"
   ]
  },
  {
   "cell_type": "markdown",
   "metadata": {},
   "source": [
    "![EM書式](./EM2.png)"
   ]
  },
  {
   "cell_type": "markdown",
   "metadata": {},
   "source": [
    "## 記法\n",
    "- **`Entity`名**、**クラス名**を空白文字（スペース）で区切って並べ、次に**要素名**を丸括弧（パーレン）でくくって並べる（空白文字はあってもなくてもよい）。\n",
    "- つづいて、波括弧（ブレース）でくくった中に、**属性（Property）**とその**値**を列挙する。\n",
    "- 属性と値は、１件ずつ、末尾にセミコロン（;）を付す。\n",
    "  - 属性と値の間は空白文字で区切る。\n",
    "- 属性と値を１つも記述しない場合にも、空っぽの波括弧 `{}` を要素名のあとに記す。\n",
    "- **改行や空白文字の数に意味はない。** 人間が読みやすいように整えていい。"
   ]
  },
  {
   "cell_type": "markdown",
   "metadata": {},
   "source": [
    "![EM書式](./EM3.png)"
   ]
  },
  {
   "cell_type": "markdown",
   "metadata": {},
   "source": [
    "### 複雑な値をもつ属性\n",
    "- 一部の属性は複数の値の集合のような複雑な値をもつ。\n",
    "- その場合にも、基本的な書式は変わらない。属性名のあとに空白文字があり、値の後にセミコロンがあるので、その間に記述されている内容は、どんなに長大で複雑であっても、その属性の値である。\n",
    "  - 上の例では、２行にわたって書かれた文字列が、属性 `VaribleReferenceList` の値である。"
   ]
  },
  {
   "cell_type": "markdown",
   "metadata": {},
   "source": [
    "# モデルをつくる（１）〜（３）は省略"
   ]
  },
  {
   "cell_type": "markdown",
   "metadata": {},
   "source": [
    "# （４）`Process` を定義する\n",
    "- `Variable` と同様、 `Process` も、所属する `System` の属性を書き込む波括弧の中に列挙する。\n",
    " \n",
    "- このモデルでは、**質量作用則（mass action rule）** を表現する `MassActionFluxProcess` クラスを使うことにする。"
   ]
  },
  {
   "cell_type": "markdown",
   "metadata": {},
   "source": [
    "## 質量作用則とは\n",
    "- 基質の濃度に応じて反応速度が決まる。\n",
    "  - 基質濃度が２倍になれば、反応速度が２倍になる、という単純な関係。\n",
    "  - ２種類の基質が反応を起こす場合、どちらかの濃度が２倍になれば、反応速度は２倍になり、両者の濃度が２倍になければ反応速度は４倍になる。\n",
    "- 基質が１種類の場合\n",
    "  - 反応速度 ＝ 単位時間あたり、分子１つあたり、反応が起こる確率\n",
    "- 基質が２種類以上の場合\n",
    "  - 反応液の中で基質がランダムに出遭う（衝突する）確率　×　衝突した場合に反応が起こる確率\n",
    "\n",
    "- 実世界で起こっている物質間相互作用の多くは、ミクロの視点で見ると質量作用則にのっとっている場合が多い。\n",
    "\n",
    "- 質量作用則では、反応の生成物の影響は考慮しない。\n",
    "  - 生命システムでは、生成物の量がネガティヴフィードバックを介して影響する場合がしばしば見られる。\n",
    "\n",
    "### 質量作用則の反応速度をあらわす式\n",
    "- $n$ 個の基質が反応し、それぞれの濃度が $C_1, C_2,... C_n$ のとき、反応速度 $v$ は下式のように書ける。\n",
    "\n",
    "　　　　$v = k \\times C_1 \\times C_2 \\times ... \\times C_n$\n",
    "\n",
    "  - ただし、$k$ は速度定数。（反応が起こる確率などをすべて掛けあわせた定数）"
   ]
  },
  {
   "cell_type": "markdown",
   "metadata": {},
   "source": [
    "## `MassActionFluxProcess` \n",
    "- E-Cell3が標準で用意している質量作用則を計算するための `Process` のクラス\n",
    "\n",
    "### 設定しなければならない属性\n",
    "\n",
    "#### `k`\n",
    "- 速度定数\n",
    "\n",
    "#### `VariableReferenceList`\n",
    "- この `Process` によって表現する反応に参加する `Variable` と、その参加形式をリスト化したもの。\n",
    "- `MassActionFluxProcess` に限らず、すべての `Process` クラスは、`VariableReferenceList` 属性を必要とする。"
   ]
  },
  {
   "cell_type": "markdown",
   "metadata": {},
   "source": [
    "## `VariableReferenceList` の書き方\n",
    "- `VariableReference` を角括弧でくくって並べる\n",
    "  - 改行などの必要はないが、読みやすく整えるとよい。\n"
   ]
  },
  {
   "cell_type": "markdown",
   "metadata": {},
   "source": [
    "![EM書式](./EM4.png)"
   ]
  },
  {
   "cell_type": "markdown",
   "metadata": {},
   "source": [
    "## `VariableReference` の書き方\n",
    "- ひとつの `VariableReference` には、**参照名**、**Variable の FullID**、**Coefficient** を**空白文字**で区切って列挙する。\n",
    "\n",
    "### 参照名\n",
    "- `Process` 内での呼び名。自由につけて良い。\n",
    "\n",
    "### `Variable` の `FullID`\n",
    "\n",
    "### Coefficient\n",
    "- 化学量論係数\n",
    "- この反応による物質（`Variable`）の増減。\n",
    "  - このモデルでは、`Process E1`では１分子の`S1`が消費され、１分子の`S2`が生じる。\n",
    "  - `Process E2`では１分子の`S2`が消費され、１分子の`S1`が生じる。\n",
    "\n",
    "\n",
    "　　　　$\\require{AMScd} \\begin{CD} S_1 @>{E_1}>> S_2 \\end{CD}$\n",
    "\n",
    "　　　　$\\require{AMScd} \\begin{CD} S_2 @>{E_2}>> S_1 \\end{CD}$\n",
    "\n",
    "- **整数**で記述する。\n",
    "- 順不同\n",
    "\n",
    "## `MassActionFluxProcess` による `VaruableReferenceList` の解釈\n",
    "- Coefficient が負の値の`Variable`を**基質**として扱う。\n",
    "- Coefficient が正の値の`Variable`を**生成物**として扱う。\n",
    "- 反応速度 $v$ は下式で計算される。\n",
    "\n",
    "　　　　$v = k \\times C_1^{h_1} \\times C_2^{h_2} \\times ... \\times C_n^{h_n}$\n",
    "\n",
    "  - ただし、$h_n$ は $n$ 番目の基質の Coefficient（化学量論係数）。\n"
   ]
  },
  {
   "cell_type": "markdown",
   "metadata": {},
   "source": [
    "## EM への記述\n",
    "- 速度定数 `k` は、`Process` ごとに自由に設定して良い。大きい値にするほど反応速度が大きくなる。"
   ]
  },
  {
   "cell_type": "code",
   "execution_count": null,
   "metadata": {},
   "outputs": [],
   "source": [
    "EM = '''\n",
    "Stepper ODEStepper( ODE ){}\n",
    "\n",
    "System System( / )\n",
    "{\n",
    "    StepperID    ODE;\n",
    "\n",
    "    Variable Variable( SIZE )\n",
    "    {\n",
    "        Value    1;\n",
    "    }\n",
    "}\n",
    "\n",
    "System System( /Cell )\n",
    "{\n",
    "    StepperID    ODE;\n",
    "\n",
    "Variable Variable( SIZE )\n",
    "    {\n",
    "        Value    1;\n",
    "    }\n",
    "\n",
    "    Variable Variable( S1 )\n",
    "    {\n",
    "        Value    10000;\n",
    "    }\n",
    "\n",
    "    Variable Variable( S2 )\n",
    "    {\n",
    "        Value    10000;\n",
    "    }\n",
    "\n",
    "    Process MassActionFluxProcess( E1 )\n",
    "    {\n",
    "        k    0.1;\n",
    "        VariableReferenceList\n",
    "            [ S1  Variable:/Cell:S1 -1 ]\n",
    "            [ S2  Variable:/Cell:S2  1 ];\n",
    "    }\n",
    "\n",
    "    Process MassActionFluxProcess( E2 )\n",
    "    {\n",
    "        k    0.2;\n",
    "        VariableReferenceList\n",
    "            [ S2  Variable:/Cell:S2 -1 ]\n",
    "            [ S1  Variable:/Cell:S1  1 ];\n",
    "    }\n",
    "\n",
    "}\n",
    "'''"
   ]
  },
  {
   "cell_type": "markdown",
   "metadata": {},
   "source": [
    "# モデルを走らせてみる"
   ]
  },
  {
   "cell_type": "code",
   "execution_count": null,
   "metadata": {},
   "outputs": [],
   "source": [
    "setModel(EM, \"model\")\n",
    "\n",
    "print 't = {}'.format( getCurrentTime() )"
   ]
  },
  {
   "cell_type": "markdown",
   "metadata": {},
   "source": [
    "## Loggerをつくる"
   ]
  },
  {
   "cell_type": "code",
   "execution_count": null,
   "metadata": {},
   "outputs": [],
   "source": [
    "target_SystemPath_list = ( '/', '/Cell', )\n",
    "Target_Properties = { 'Variable': ['Value', 'Velocity'], }\n",
    "Logger_dict = {}\n",
    "\n",
    "for target_SystemPath in target_SystemPath_list:\n",
    "    for E_type, Properties in Target_Properties.items():\n",
    "        for E in getEntityList( E_type, target_SystemPath ):\n",
    "            for p in Properties:\n",
    "                FullPN = ':'.join( ( E_type, target_SystemPath, E, p ) )\n",
    "                Logger_dict[ FullPN ] = createLoggerStub( FullPN )\n",
    "                Logger_dict[ FullPN ].create()"
   ]
  },
  {
   "cell_type": "markdown",
   "metadata": {},
   "source": [
    "## シミュレーションを実行する"
   ]
  },
  {
   "cell_type": "code",
   "execution_count": null,
   "metadata": {},
   "outputs": [],
   "source": [
    "step_width = 60.0  # min\n",
    "\n",
    "run( step_width )\n",
    "print 't = {}'.format( getCurrentTime() )"
   ]
  },
  {
   "cell_type": "markdown",
   "metadata": {},
   "source": [
    "## グラフを描いてみる"
   ]
  },
  {
   "cell_type": "code",
   "execution_count": null,
   "metadata": {},
   "outputs": [],
   "source": [
    "Data_dict = {}\n",
    "for FullPN, Logger in Logger_dict.items():\n",
    "    Data_dict[ FullPN ] = np.array( Logger.getData( 0, getCurrentTime(), getCurrentTime() / 100 ) )[ :, :2 ]\n",
    "\n",
    "FullPNs_for_plot = [ \n",
    "    'Variable:/Cell:S1:Value',\n",
    "    'Variable:/Cell:S2:Value',\n",
    "    ]\n",
    "\n",
    "plt.figure()\n",
    "for FullPN, d in Data_dict.items():\n",
    "    if FullPN in FullPNs_for_plot:\n",
    "        plt.plot( d[ :, 0 ], d[ :, 1 ], label = FullPN.split(':')[ 2 ] )\n",
    "\n",
    "plt.legend( loc = 'upper right' )"
   ]
  },
  {
   "cell_type": "markdown",
   "metadata": {},
   "source": [
    "## 速度定数 `k` を変えるとどうなるか？\n",
    "- 現在の `k` の値を確認。"
   ]
  },
  {
   "cell_type": "code",
   "execution_count": null,
   "metadata": {},
   "outputs": [],
   "source": [
    "E1_Stub = createEntityStub( 'Process:/Cell:E1' )\n",
    "E2_Stub = createEntityStub( 'Process:/Cell:E2' )\n",
    "\n",
    "print( 'k_E1 = {}'.format( E1_Stub['k'] ))\n",
    "print( 'k_E2 = {}'.format( E2_Stub['k'] ))\n"
   ]
  },
  {
   "cell_type": "markdown",
   "metadata": {},
   "source": [
    "- `Process E2` の `k` を変えてみる。"
   ]
  },
  {
   "cell_type": "code",
   "execution_count": null,
   "metadata": {},
   "outputs": [],
   "source": [
    "E2_Stub['k'] = 0.3\n",
    "\n",
    "print( 'k_E2 = {}'.format( E2_Stub['k'] ))"
   ]
  },
  {
   "cell_type": "code",
   "execution_count": null,
   "metadata": {},
   "outputs": [],
   "source": [
    "run( step_width )\n",
    "print 't = {}'.format( getCurrentTime() )"
   ]
  },
  {
   "cell_type": "code",
   "execution_count": null,
   "metadata": {},
   "outputs": [],
   "source": [
    "Data_dict = {}\n",
    "for FullPN, Logger in Logger_dict.items():\n",
    "    Data_dict[ FullPN ] = np.array( Logger.getData( 0, getCurrentTime(), getCurrentTime() / 100 ) )[ :, :2 ]\n",
    "\n",
    "FullPNs_for_plot = [ \n",
    "    'Variable:/Cell:S1:Value',\n",
    "    'Variable:/Cell:S2:Value',\n",
    "    ]\n",
    "\n",
    "plt.figure()\n",
    "for FullPN, d in Data_dict.items():\n",
    "    if FullPN in FullPNs_for_plot:\n",
    "        plt.plot( d[ :, 0 ], d[ :, 1 ], label = FullPN.split(':')[ 2 ] )\n",
    "\n",
    "plt.legend( loc = 'upper right' )"
   ]
  },
  {
   "cell_type": "markdown",
   "metadata": {},
   "source": [
    "## 考察\n",
    "- 速度定数 `k` と定常状態の関係を考えてみよう。"
   ]
  },
  {
   "cell_type": "markdown",
   "metadata": {},
   "source": []
  }
 ],
 "metadata": {
  "kernelspec": {
   "display_name": "Python 2",
   "language": "python",
   "name": "python2"
  },
  "language_info": {
   "codemirror_mode": {
    "name": "ipython",
    "version": 2
   },
   "file_extension": ".py",
   "mimetype": "text/x-python",
   "name": "python",
   "nbconvert_exporter": "python",
   "pygments_lexer": "ipython2",
   "version": "2.7.16"
  }
 },
 "nbformat": 4,
 "nbformat_minor": 1
}
