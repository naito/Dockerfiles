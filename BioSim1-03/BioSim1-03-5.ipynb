{
 "cells": [
  {
   "cell_type": "markdown",
   "metadata": {},
   "source": [
    "# 簡単なモデルをつくってみよう（４）\n",
    "\n",
    "- もう少し複雑なモデルをつくってみる。"
   ]
  },
  {
   "cell_type": "markdown",
   "metadata": {},
   "source": [
    "## E-Cell3を使うための準備"
   ]
  },
  {
   "cell_type": "code",
   "execution_count": null,
   "metadata": {},
   "outputs": [],
   "source": [
    "import numpy as np\n",
    "\n",
    "%matplotlib inline\n",
    "import matplotlib.pyplot as plt\n",
    "\n",
    "## %install_ext https://raw.githubusercontent.com/naito/ecell3-ipython/master/extensions/ecell3.py\n",
    "## %load_ext ecell3"
   ]
  },
  {
   "cell_type": "code",
   "execution_count": null,
   "metadata": {},
   "outputs": [],
   "source": [
    "import biosim_course"
   ]
  },
  {
   "cell_type": "markdown",
   "metadata": {},
   "source": [
    "# モデル４\n",
    "\n",
    "- 細胞内にもうひとつの物質３（`S3`）を追加する。\n",
    "- 物質３（`S3`）は下に示す不可逆反応に関与しているものとする。\n",
    "\n",
    "　　　　$\\require{AMScd} \\begin{CD} S_1 @>{E_3}>> 2 S_3 @>{E_4}>> S_3 \\end{CD}$\n",
    "\n",
    "  - 化学量論係数に注意しよう。\n"
   ]
  },
  {
   "cell_type": "markdown",
   "metadata": {},
   "source": [
    "![モデル４概要](./model4.png)"
   ]
  },
  {
   "cell_type": "markdown",
   "metadata": {},
   "source": [
    "# 演習（２）\n",
    "\n",
    "- モデル４をつくりなさい。\n",
    "- このモデルの定常状態はどのように決まるだろうか。\n",
    "  - 速度定数などモデル内の値をいろいろ変えて試してみてもよい。\n",
    "  - 数学的に解いてもよい。\n",
    "  - いろいろ試行錯誤してみよう。"
   ]
  },
  {
   "cell_type": "code",
   "execution_count": null,
   "metadata": {},
   "outputs": [],
   "source": []
  }
 ],
 "metadata": {
  "kernelspec": {
   "display_name": "Python 2",
   "language": "python",
   "name": "python2"
  },
  "language_info": {
   "codemirror_mode": {
    "name": "ipython",
    "version": 2
   },
   "file_extension": ".py",
   "mimetype": "text/x-python",
   "name": "python",
   "nbconvert_exporter": "python",
   "pygments_lexer": "ipython2",
   "version": "2.7.16"
  }
 },
 "nbformat": 4,
 "nbformat_minor": 1
}
