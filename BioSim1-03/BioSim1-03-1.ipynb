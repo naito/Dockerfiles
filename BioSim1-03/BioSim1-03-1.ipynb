{
 "cells": [
  {
   "cell_type": "markdown",
   "metadata": {},
   "source": [
    "# 簡単なモデルをつくってみよう\n",
    "- 単純なモデルをつくって、その定常状態を観察してみよう"
   ]
  },
  {
   "cell_type": "markdown",
   "metadata": {},
   "source": [
    "## E-Cell3を使うための準備"
   ]
  },
  {
   "cell_type": "code",
   "execution_count": 1,
   "metadata": {},
   "outputs": [],
   "source": [
    "import numpy as np\n",
    "\n",
    "%matplotlib inline\n",
    "import matplotlib.pyplot as plt\n",
    "\n",
    "## %install_ext https://raw.githubusercontent.com/naito/ecell3-ipython/master/extensions/ecell3.py\n",
    "## %load_ext ecell3"
   ]
  },
  {
   "cell_type": "code",
   "execution_count": 2,
   "metadata": {},
   "outputs": [],
   "source": [
    "import biosim_course"
   ]
  },
  {
   "cell_type": "markdown",
   "metadata": {},
   "source": [
    "# モデル１"
   ]
  },
  {
   "cell_type": "markdown",
   "metadata": {},
   "source": [
    "![モデル１概要](./model1.png)"
   ]
  },
  {
   "cell_type": "markdown",
   "metadata": {},
   "source": [
    "# このモデルに含まれる `Entity`\n",
    "\n",
    "## `System`\n",
    "- ルートシステム（細胞外の空間） FullID = `System::/'\n",
    "- 細胞 FullID = `System:/:Cell'\n",
    "\n",
    "## `Variable`\n",
    "- 物質１ (`S1`)　 FullID = `Varible:/Cell:S1'\n",
    "- 物質２ (`S2`)　 FullID = `Varible:/Cell:S2'\n",
    "\n",
    "## `Process`\n",
    "- 物質１ (`E1`)　 FullID = `Process:/Cell:E1'\n",
    "- 物質２ (`E2`)　 FullID = `Process:/Cell:E2'"
   ]
  },
  {
   "cell_type": "markdown",
   "metadata": {},
   "source": [
    "# モデルの記法（EM）\n",
    "\n",
    "## 基本となる書式"
   ]
  },
  {
   "cell_type": "markdown",
   "metadata": {},
   "source": [
    "![EM書式](./EM1.png)"
   ]
  },
  {
   "cell_type": "markdown",
   "metadata": {},
   "source": [
    "## クラス名\n",
    "- `Entity` 名が『生物種名』（イヌ、ネコ etc.）だとしたら、**クラス名** は品種（トイプードル、アメリカンショートヘア etc.）にあたる。\n",
    "- `System`, `Variable` のクラスは、それぞれ、`System`, `Variable` の１種類だけ。\n",
    "  - `Variable Variable` と並んでいるが、最初の `Variable` は `Entity` 名、２番目の `Variable` はクラス名を表している。\n",
    "- `Process`, `Stepper` には多彩なクラスがある。\n",
    "  - 反応の種類や、時間発展の計算方法によって使い分ける。\n",
    "\n",
    "## 要素名\n",
    "- 個々の要素の名前。たとえ話をつづけるなら、個体名（ポチ、ミケ etc.）にあたる。\n",
    "- FullID の３番目の要素となる。\n",
    "- あるモデルの中に、同じ FullID をもつ要素はつくれない。\n",
    "  - したがって、同一の `System`  内に、同じ要素名を持つ `Variable` をつくることはできない。\n",
    "  - 同様に、同一の `System`  内に、同じ要素名を持つ `Process` をつくることはできない。\n",
    "  - 同一の `System`  内に、同じ要素名を持つ `Variable` と `Process` をつくることはできる。（`Entity` が異なれば、異なる FullID になるため）\n"
   ]
  },
  {
   "cell_type": "markdown",
   "metadata": {},
   "source": [
    "![EM書式](./EM2.png)"
   ]
  },
  {
   "cell_type": "markdown",
   "metadata": {},
   "source": [
    "## 記法\n",
    "- **`Entity`名**、**クラス名**を空白文字（スペース）で区切って並べ、次に**要素名**を丸括弧（パーレン）でくくって並べる（空白文字はあってもなくてもよい）。\n",
    "- つづいて、波括弧（ブレース）でくくった中に、**属性（Property）**とその**値**を列挙する。\n",
    "- 属性と値は、１件ずつ、末尾にセミコロン（;）を付す。\n",
    "  - 属性と値の間は空白文字で区切る。\n",
    "- 属性と値を１つも記述しない場合にも、空っぽの波括弧 `{}` を要素名のあとに記す。\n",
    "- **改行や空白文字の数に意味はない。** 人間が読みやすいように整えていい。"
   ]
  },
  {
   "cell_type": "markdown",
   "metadata": {},
   "source": [
    "![EM書式](./EM3.png)"
   ]
  },
  {
   "cell_type": "markdown",
   "metadata": {},
   "source": [
    "### 複雑な値をもつ属性\n",
    "- 一部の属性は複数の値の集合のような複雑な値をもつ。\n",
    "- その場合にも、基本的な書式は変わらない。属性名のあとに空白文字があり、値の後にセミコロンがあるので、その間に記述されている内容は、どんなに長大で複雑であっても、その属性の値である。\n",
    "  - 上の例では、２行にわたって書かれた文字列が、属性 `VaribleReferenceList` の値である。"
   ]
  },
  {
   "cell_type": "markdown",
   "metadata": {},
   "source": [
    "# モデルをつくる（１）`Stepper` を定義する\n",
    "- 下のように定義する。ここでは、`Stepper` の詳細は説明しないので、コピペでよい。\n",
    "- `Stepper` は `System` に属さない。そのため、FullIDで表記することはできない。\n",
    "- `Entity`名：`Stepper`\n",
    "- クラス名：`ODEStepper`\n",
    "- 要素名：`ODE`（別の名前でもかまわない）\n",
    "  - `Stepper` の要素名を `StepperID` という。\n",
    "    - ひとつのモデル中に、同じ  `StepperID` をもつ `Stepper` を複数つくることはできない。\n",
    "    - そのため、`StepperID` を使って、ひとつの `Stepper` を名指しすることができる。\n",
    "- 属性と値の設定：なし"
   ]
  },
  {
   "cell_type": "code",
   "execution_count": 3,
   "metadata": {},
   "outputs": [],
   "source": [
    "EM = '''\n",
    "Stepper ODEStepper( ODE ){}\n",
    "'''"
   ]
  },
  {
   "cell_type": "markdown",
   "metadata": {},
   "source": [
    "三重引用符（`'''`）は、複数行の文字列を定義できる。ここでは、モデルの文字列をまとめて変数 `EM` に代入している。"
   ]
  },
  {
   "cell_type": "markdown",
   "metadata": {},
   "source": [
    "# （２）`System` を定義する\n",
    "- ２つの `System` を定義する。\n",
    "- `System` の属性として、`StepperID` を定義しなければならない。\n",
    "  - このモデルには ``Stepper は１つしかないので、値は `ODE` とする。"
   ]
  },
  {
   "cell_type": "code",
   "execution_count": 4,
   "metadata": {},
   "outputs": [],
   "source": [
    "EM = '''\n",
    "Stepper ODEStepper( ODE ){}\n",
    "\n",
    "System System( / )\n",
    "{\n",
    "    StepperID    ODE;\n",
    "}\n",
    "\n",
    "System System( /Cell )\n",
    "{\n",
    "    StepperID    ODE;\n",
    "}\n",
    "'''"
   ]
  },
  {
   "cell_type": "markdown",
   "metadata": {},
   "source": [
    "書き足したモデルで、変数 `EM` を上書きしている。"
   ]
  },
  {
   "cell_type": "markdown",
   "metadata": {},
   "source": [
    "# （３）`Variable` を定義する\n",
    "- `Variable` と `Process` は、所属する `System` の属性を書き込む波括弧の中に列挙する。\n",
    "  - 書き込まれた場所によって、どの `System` に所属しているかを示す。\n",
    " \n",
    "## `SIZE` \n",
    "-  `System` には、その容積を表現する `SIZE` という名前の`Variable` を必ず定義しなければならない。\n",
    "  - ４文字とも大文字で `SIZE` と定められている。\n",
    "  - 容積の単位はリットル\n",
    "\n",
    "## このモデルで定義すべき `Variable` \n",
    "- 物質１ (`S1`)　 FullID = `Varible:/Cell:S1'\n",
    "- 物質２ (`S2`)　 FullID = `Varible:/Cell:S2'\n",
    "- ルートシステムの容積　FullID = `Varible:/:SIZE'\n",
    "- 細胞の容積　FullID = `Varible:/Cell:SIZE'\n",
    "\n",
    "## 量をあらわす属性 `Value` とその値\n",
    "- 属性 `Value` は量を表す。下の例では、各 `Syatem` の容積をあらわす `SIZE` は 1、物質１、２はそれぞれ 10000 としている。"
   ]
  },
  {
   "cell_type": "code",
   "execution_count": 5,
   "metadata": {},
   "outputs": [],
   "source": [
    "EM = '''\n",
    "Stepper ODEStepper( ODE ){}\n",
    "\n",
    "System System( / )\n",
    "{\n",
    "    StepperID    ODE;\n",
    "\n",
    "    Variable Variable( SIZE )\n",
    "    {\n",
    "        Value    1;\n",
    "    }\n",
    "}\n",
    "\n",
    "System System( /Cell )\n",
    "{\n",
    "    StepperID    ODE;\n",
    "\n",
    "Variable Variable( SIZE )\n",
    "    {\n",
    "        Value    1;\n",
    "    }\n",
    "\n",
    "    Variable Variable( S1 )\n",
    "    {\n",
    "        Value    10000;\n",
    "    }\n",
    "\n",
    "    Variable Variable( S2 )\n",
    "    {\n",
    "        Value    10000;\n",
    "    }\n",
    "}\n",
    "'''"
   ]
  },
  {
   "cell_type": "markdown",
   "metadata": {},
   "source": [
    "# `System` と `Variable` だけのモデルを走らせてみる"
   ]
  },
  {
   "cell_type": "code",
   "execution_count": 6,
   "metadata": {},
   "outputs": [
    {
     "name": "stdout",
     "output_type": "stream",
     "text": [
      "t = 0.0\n"
     ]
    }
   ],
   "source": [
    "setModel(EM, \"model\")\n",
    "\n",
    "print 't = {}'.format( getCurrentTime() )"
   ]
  },
  {
   "cell_type": "markdown",
   "metadata": {},
   "source": [
    "## Loggerをつくる"
   ]
  },
  {
   "cell_type": "code",
   "execution_count": 7,
   "metadata": {},
   "outputs": [],
   "source": [
    "target_SystemPath_list = ( '/', '/Cell', )\n",
    "Target_Properties = { 'Variable': ['Value', 'Velocity'], }\n",
    "Logger_dict = {}\n",
    "\n",
    "for target_SystemPath in target_SystemPath_list:\n",
    "    for E_type, Properties in Target_Properties.items():\n",
    "        for E in getEntityList( E_type, target_SystemPath ):\n",
    "            for p in Properties:\n",
    "                FullPN = ':'.join( ( E_type, target_SystemPath, E, p ) )\n",
    "                Logger_dict[ FullPN ] = createLoggerStub( FullPN )\n",
    "                Logger_dict[ FullPN ].create()"
   ]
  },
  {
   "cell_type": "markdown",
   "metadata": {},
   "source": [
    "## シミュレーションを実行する"
   ]
  },
  {
   "cell_type": "code",
   "execution_count": 8,
   "metadata": {},
   "outputs": [
    {
     "name": "stdout",
     "output_type": "stream",
     "text": [
      "t = 60.0\n"
     ]
    }
   ],
   "source": [
    "step_width = 60.0  # min\n",
    "\n",
    "run( step_width )\n",
    "print 't = {}'.format( getCurrentTime() )"
   ]
  },
  {
   "cell_type": "markdown",
   "metadata": {},
   "source": [
    "## グラフを描いてみる"
   ]
  },
  {
   "cell_type": "code",
   "execution_count": 9,
   "metadata": {},
   "outputs": [
    {
     "data": {
      "text/plain": [
       "<matplotlib.legend.Legend at 0x7fb76089b8d0>"
      ]
     },
     "execution_count": 9,
     "metadata": {},
     "output_type": "execute_result"
    },
    {
     "data": {
      "image/png": "[encoded data removed]",
      "text/plain": [
       "<Figure size 432x288 with 1 Axes>"
      ]
     },
     "metadata": {
      "needs_background": "light"
     },
     "output_type": "display_data"
    }
   ],
   "source": [
    "Data_dict = {}\n",
    "for FullPN, Logger in Logger_dict.items():\n",
    "    Data_dict[ FullPN ] = np.array( Logger.getData( 0, getCurrentTime(), getCurrentTime() / 100 ) )[ :, :2 ]\n",
    "\n",
    "FullPNs_for_plot = [ \n",
    "    'Variable:/Cell:S1:Value',\n",
    "    'Variable:/Cell:S2:Value',\n",
    "    ]\n",
    "\n",
    "plt.figure()\n",
    "for FullPN, d in Data_dict.items():\n",
    "    if FullPN in FullPNs_for_plot:\n",
    "        plt.plot( d[ :, 0 ], d[ :, 1 ], label = FullPN.split(':')[ 2 ] )\n",
    "\n",
    "plt.legend( loc = 'upper right' )"
   ]
  },
  {
   "cell_type": "markdown",
   "metadata": {},
   "source": [
    "何も表示されない。。。\n",
    "### 数値データを見てみる\n",
    "- グラフ描画に用いた数値データを見てみる。"
   ]
  },
  {
   "cell_type": "code",
   "execution_count": 10,
   "metadata": {},
   "outputs": [
    {
     "name": "stdout",
     "output_type": "stream",
     "text": [
      "Variable:/Cell:S2:Value\n",
      "[[    0. 10000.]\n",
      " [    0. 10000.]\n",
      " [    0. 10000.]\n",
      " [    0. 10000.]\n",
      " [    0. 10000.]\n",
      " [    0. 10000.]\n",
      " [    0. 10000.]\n",
      " [    0. 10000.]\n",
      " [    0. 10000.]\n",
      " [    0. 10000.]\n",
      " [    0. 10000.]\n",
      " [    0. 10000.]\n",
      " [    0. 10000.]\n",
      " [    0. 10000.]\n",
      " [    0. 10000.]\n",
      " [    0. 10000.]\n",
      " [    0. 10000.]\n",
      " [    0. 10000.]\n",
      " [    0. 10000.]\n",
      " [    0. 10000.]\n",
      " [    0. 10000.]\n",
      " [    0. 10000.]\n",
      " [    0. 10000.]\n",
      " [    0. 10000.]\n",
      " [    0. 10000.]\n",
      " [    0. 10000.]\n",
      " [    0. 10000.]\n",
      " [    0. 10000.]\n",
      " [    0. 10000.]\n",
      " [    0. 10000.]\n",
      " [    0. 10000.]\n",
      " [    0. 10000.]\n",
      " [    0. 10000.]\n",
      " [    0. 10000.]\n",
      " [    0. 10000.]\n",
      " [    0. 10000.]\n",
      " [    0. 10000.]\n",
      " [    0. 10000.]\n",
      " [    0. 10000.]\n",
      " [    0. 10000.]\n",
      " [    0. 10000.]\n",
      " [    0. 10000.]\n",
      " [    0. 10000.]\n",
      " [    0. 10000.]\n",
      " [    0. 10000.]\n",
      " [    0. 10000.]\n",
      " [    0. 10000.]\n",
      " [    0. 10000.]\n",
      " [    0. 10000.]\n",
      " [    0. 10000.]\n",
      " [    0. 10000.]\n",
      " [    0. 10000.]\n",
      " [    0. 10000.]\n",
      " [    0. 10000.]\n",
      " [    0. 10000.]\n",
      " [    0. 10000.]\n",
      " [    0. 10000.]\n",
      " [    0. 10000.]\n",
      " [    0. 10000.]\n",
      " [    0. 10000.]\n",
      " [    0. 10000.]\n",
      " [    0. 10000.]\n",
      " [    0. 10000.]\n",
      " [    0. 10000.]\n",
      " [    0. 10000.]\n",
      " [    0. 10000.]\n",
      " [    0. 10000.]\n",
      " [    0. 10000.]\n",
      " [    0. 10000.]\n",
      " [    0. 10000.]\n",
      " [    0. 10000.]\n",
      " [    0. 10000.]\n",
      " [    0. 10000.]\n",
      " [    0. 10000.]\n",
      " [    0. 10000.]\n",
      " [    0. 10000.]\n",
      " [    0. 10000.]\n",
      " [    0. 10000.]\n",
      " [    0. 10000.]\n",
      " [    0. 10000.]\n",
      " [    0. 10000.]\n",
      " [    0. 10000.]\n",
      " [    0. 10000.]\n",
      " [    0. 10000.]\n",
      " [    0. 10000.]\n",
      " [    0. 10000.]\n",
      " [    0. 10000.]\n",
      " [    0. 10000.]\n",
      " [    0. 10000.]\n",
      " [    0. 10000.]\n",
      " [    0. 10000.]\n",
      " [    0. 10000.]\n",
      " [    0. 10000.]\n",
      " [    0. 10000.]\n",
      " [    0. 10000.]\n",
      " [    0. 10000.]\n",
      " [    0. 10000.]\n",
      " [    0. 10000.]\n",
      " [    0. 10000.]\n",
      " [    0. 10000.]]\n",
      "\n",
      "Variable:/Cell:S1:Value\n",
      "[[    0. 10000.]\n",
      " [    0. 10000.]\n",
      " [    0. 10000.]\n",
      " [    0. 10000.]\n",
      " [    0. 10000.]\n",
      " [    0. 10000.]\n",
      " [    0. 10000.]\n",
      " [    0. 10000.]\n",
      " [    0. 10000.]\n",
      " [    0. 10000.]\n",
      " [    0. 10000.]\n",
      " [    0. 10000.]\n",
      " [    0. 10000.]\n",
      " [    0. 10000.]\n",
      " [    0. 10000.]\n",
      " [    0. 10000.]\n",
      " [    0. 10000.]\n",
      " [    0. 10000.]\n",
      " [    0. 10000.]\n",
      " [    0. 10000.]\n",
      " [    0. 10000.]\n",
      " [    0. 10000.]\n",
      " [    0. 10000.]\n",
      " [    0. 10000.]\n",
      " [    0. 10000.]\n",
      " [    0. 10000.]\n",
      " [    0. 10000.]\n",
      " [    0. 10000.]\n",
      " [    0. 10000.]\n",
      " [    0. 10000.]\n",
      " [    0. 10000.]\n",
      " [    0. 10000.]\n",
      " [    0. 10000.]\n",
      " [    0. 10000.]\n",
      " [    0. 10000.]\n",
      " [    0. 10000.]\n",
      " [    0. 10000.]\n",
      " [    0. 10000.]\n",
      " [    0. 10000.]\n",
      " [    0. 10000.]\n",
      " [    0. 10000.]\n",
      " [    0. 10000.]\n",
      " [    0. 10000.]\n",
      " [    0. 10000.]\n",
      " [    0. 10000.]\n",
      " [    0. 10000.]\n",
      " [    0. 10000.]\n",
      " [    0. 10000.]\n",
      " [    0. 10000.]\n",
      " [    0. 10000.]\n",
      " [    0. 10000.]\n",
      " [    0. 10000.]\n",
      " [    0. 10000.]\n",
      " [    0. 10000.]\n",
      " [    0. 10000.]\n",
      " [    0. 10000.]\n",
      " [    0. 10000.]\n",
      " [    0. 10000.]\n",
      " [    0. 10000.]\n",
      " [    0. 10000.]\n",
      " [    0. 10000.]\n",
      " [    0. 10000.]\n",
      " [    0. 10000.]\n",
      " [    0. 10000.]\n",
      " [    0. 10000.]\n",
      " [    0. 10000.]\n",
      " [    0. 10000.]\n",
      " [    0. 10000.]\n",
      " [    0. 10000.]\n",
      " [    0. 10000.]\n",
      " [    0. 10000.]\n",
      " [    0. 10000.]\n",
      " [    0. 10000.]\n",
      " [    0. 10000.]\n",
      " [    0. 10000.]\n",
      " [    0. 10000.]\n",
      " [    0. 10000.]\n",
      " [    0. 10000.]\n",
      " [    0. 10000.]\n",
      " [    0. 10000.]\n",
      " [    0. 10000.]\n",
      " [    0. 10000.]\n",
      " [    0. 10000.]\n",
      " [    0. 10000.]\n",
      " [    0. 10000.]\n",
      " [    0. 10000.]\n",
      " [    0. 10000.]\n",
      " [    0. 10000.]\n",
      " [    0. 10000.]\n",
      " [    0. 10000.]\n",
      " [    0. 10000.]\n",
      " [    0. 10000.]\n",
      " [    0. 10000.]\n",
      " [    0. 10000.]\n",
      " [    0. 10000.]\n",
      " [    0. 10000.]\n",
      " [    0. 10000.]\n",
      " [    0. 10000.]\n",
      " [    0. 10000.]\n",
      " [    0. 10000.]]\n",
      "\n"
     ]
    }
   ],
   "source": [
    "for FullPN, d in Data_dict.items():\n",
    "    if FullPN in FullPNs_for_plot:\n",
    "        print FullPN\n",
    "        print d\n",
    "        print \"\"  # 空行を入れる\n"
   ]
  },
  {
   "cell_type": "markdown",
   "metadata": {},
   "source": [
    "- データ中の各要素の `[    0. 10000.]` の１番目の要素は時刻、２番目の要素は対象となる `FullPN` の値を表している。\n",
    "- 100個の全要素の時刻の値が 0 なので、グラフが描けていない。\n",
    "- これは、E-Cell3 の Logger が **値に変化があった時だけデータを書き込む** 設計になっているため。"
   ]
  },
  {
   "cell_type": "markdown",
   "metadata": {},
   "source": [
    "# 次のノートブックに進む\n",
    "- ひとつのノートブックのなかでモデルをリセットできないので、このモデルに `Process` を加えるのは次のノートブックで。"
   ]
  }
 ],
 "metadata": {
  "kernelspec": {
   "display_name": "Python 2",
   "language": "python",
   "name": "python2"
  },
  "language_info": {
   "codemirror_mode": {
    "name": "ipython",
    "version": 2
   },
   "file_extension": ".py",
   "mimetype": "text/x-python",
   "name": "python",
   "nbconvert_exporter": "python",
   "pygments_lexer": "ipython2",
   "version": "2.7.16"
  }
 },
 "nbformat": 4,
 "nbformat_minor": 1
}
