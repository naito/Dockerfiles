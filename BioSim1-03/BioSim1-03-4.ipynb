{
 "cells": [
  {
   "cell_type": "markdown",
   "metadata": {},
   "source": [
    "# 簡単なモデルをつくってみよう（３）\n",
    "\n",
    "- 細胞外の物質を定義する。"
   ]
  },
  {
   "cell_type": "markdown",
   "metadata": {},
   "source": [
    "## E-Cell3を使うための準備"
   ]
  },
  {
   "cell_type": "code",
   "execution_count": null,
   "metadata": {},
   "outputs": [],
   "source": [
    "import numpy as np\n",
    "\n",
    "%matplotlib inline\n",
    "import matplotlib.pyplot as plt\n",
    "\n",
    "## %install_ext https://raw.githubusercontent.com/naito/ecell3-ipython/master/extensions/ecell3.py\n",
    "## %load_ext ecell3"
   ]
  },
  {
   "cell_type": "code",
   "execution_count": null,
   "metadata": {},
   "outputs": [],
   "source": [
    "import biosim_course"
   ]
  },
  {
   "cell_type": "markdown",
   "metadata": {},
   "source": [
    "# モデル３\n",
    "\n",
    "- 外部からの物質の流入・流出を表現する。\n",
    "- 外部の物質は、増減しないことにする。\n",
    "  - `Variable` の属性 `Fixed` を**真**（1）に設定する。"
   ]
  },
  {
   "cell_type": "markdown",
   "metadata": {},
   "source": [
    "![モデル３概要](./model3.png)"
   ]
  },
  {
   "cell_type": "markdown",
   "metadata": {},
   "source": [
    "# このモデルに含まれる `Entity`\n",
    "\n",
    "## `System`\n",
    "- ルートシステム（細胞外の空間） FullID = `System::/'\n",
    "- 細胞 FullID = `System:/:Cell'\n",
    "\n",
    "## `Variable`\n",
    "- ルートシステム（細胞外の空間）\n",
    "  - 物質１ (`S1`)　 FullID = `Varible:/:S1'\n",
    "  - 物質２ (`S2`)　 FullID = `Varible:/:S2'\n",
    "\n",
    "- 細胞\n",
    "  - 物質１ (`S1`)　 FullID = `Varible:/Cell:S1'\n",
    "  - 物質２ (`S2`)　 FullID = `Varible:/Cell:S2'\n",
    "\n",
    "## `Process`\n",
    "- 細胞\n",
    "  - 酵素１ (`E1`)　 FullID = `Process:/Cell:E1'\n",
    "  - 酵素２ (`E2`)　 FullID = `Process:/Cell:E2'\n",
    "  - 輸送体１ (`T1`)　 FullID = `Process:/Cell:T1'\n",
    "  - 輸送体２ (`T2`)　 FullID = `Process:/Cell:T2'\n"
   ]
  },
  {
   "cell_type": "markdown",
   "metadata": {},
   "source": [
    "## EM の記述\n",
    "\n",
    "- ルートシステム（細胞外）の `Variable` の属性 `Fixed` を**真**（1）に設定する。\n",
    "- 輸送体 `T1`、`T2` に関連する２つの `Variable` のID（名前）は同一なので、`VariableReferenceList` での参照名は異なる名前をつける。\n",
    "  - ここでは、外（ex）、内（in）を表す文字列を参照名にしてみた。"
   ]
  },
  {
   "cell_type": "code",
   "execution_count": null,
   "metadata": {},
   "outputs": [],
   "source": [
    "EM = '''\n",
    "Stepper ODEStepper( ODE ){}\n",
    "\n",
    "System System( / )\n",
    "{\n",
    "    StepperID    ODE;\n",
    "\n",
    "    Variable Variable( SIZE )\n",
    "    {\n",
    "        Value    1;\n",
    "    }\n",
    "\n",
    "    Variable Variable( S1 )\n",
    "    {\n",
    "        Value    10000;\n",
    "        Fixed    1;\n",
    "    }\n",
    "\n",
    "    Variable Variable( S2 )\n",
    "    {\n",
    "        Value    10000;\n",
    "        Fixed    1;\n",
    "    }\n",
    "\n",
    "}\n",
    "\n",
    "System System( /Cell )\n",
    "{\n",
    "    StepperID    ODE;\n",
    "\n",
    "Variable Variable( SIZE )\n",
    "    {\n",
    "        Value    1;\n",
    "    }\n",
    "\n",
    "    Variable Variable( S1 )\n",
    "    {\n",
    "        Value    10000;\n",
    "    }\n",
    "\n",
    "    Variable Variable( S2 )\n",
    "    {\n",
    "        Value    10000;\n",
    "    }\n",
    "\n",
    "    Process MassActionFluxProcess( E1 )\n",
    "    {\n",
    "        k    0.1;\n",
    "        VariableReferenceList\n",
    "            [ S1  Variable:/Cell:S1 -1 ]\n",
    "            [ S2  Variable:/Cell:S2  1 ];\n",
    "    }\n",
    "\n",
    "    Process MassActionFluxProcess( E2 )\n",
    "    {\n",
    "        k    0.2;\n",
    "        VariableReferenceList\n",
    "            [ S2  Variable:/Cell:S2 -1 ]\n",
    "            [ S1  Variable:/Cell:S1  1 ];\n",
    "    }\n",
    "\n",
    "    Process MassActionFluxProcess( T1 )\n",
    "    {\n",
    "        k    0.2;\n",
    "        VariableReferenceList\n",
    "            [ ex  Variable:/:S1     -1 ]\n",
    "            [ in  Variable:/Cell:S1  1 ];\n",
    "    }\n",
    "\n",
    "    Process MassActionFluxProcess( T2 )\n",
    "    {\n",
    "        k    0.1;\n",
    "        VariableReferenceList\n",
    "            [ ex  Variable:/:S2      1 ]\n",
    "            [ in  Variable:/Cell:S2 -1 ];\n",
    "    }\n",
    "\n",
    "}\n",
    "'''"
   ]
  },
  {
   "cell_type": "markdown",
   "metadata": {},
   "source": [
    "# モデルを走らせてみる"
   ]
  },
  {
   "cell_type": "code",
   "execution_count": null,
   "metadata": {},
   "outputs": [],
   "source": [
    "setModel(EM, \"model\")\n",
    "\n",
    "print 't = {}'.format( getCurrentTime() )"
   ]
  },
  {
   "cell_type": "markdown",
   "metadata": {},
   "source": [
    "## Loggerをつくる"
   ]
  },
  {
   "cell_type": "code",
   "execution_count": null,
   "metadata": {},
   "outputs": [],
   "source": [
    "target_SystemPath_list = ( '/', '/Cell', )\n",
    "Target_Properties = { 'Variable': ['Value', 'Velocity'], }\n",
    "Logger_dict = {}\n",
    "\n",
    "for target_SystemPath in target_SystemPath_list:\n",
    "    for E_type, Properties in Target_Properties.items():\n",
    "        for E in getEntityList( E_type, target_SystemPath ):\n",
    "            for p in Properties:\n",
    "                FullPN = ':'.join( ( E_type, target_SystemPath, E, p ) )\n",
    "                Logger_dict[ FullPN ] = createLoggerStub( FullPN )\n",
    "                Logger_dict[ FullPN ].create()"
   ]
  },
  {
   "cell_type": "markdown",
   "metadata": {},
   "source": [
    "## シミュレーションを実行する"
   ]
  },
  {
   "cell_type": "code",
   "execution_count": null,
   "metadata": {},
   "outputs": [],
   "source": [
    "step_width = 60.0  # min\n",
    "\n",
    "run( step_width )\n",
    "print 't = {}'.format( getCurrentTime() )"
   ]
  },
  {
   "cell_type": "markdown",
   "metadata": {},
   "source": [
    "## グラフを描いてみる"
   ]
  },
  {
   "cell_type": "markdown",
   "metadata": {},
   "source": []
  },
  {
   "cell_type": "code",
   "execution_count": null,
   "metadata": {},
   "outputs": [],
   "source": [
    "Data_dict = {}\n",
    "for FullPN, Logger in Logger_dict.items():\n",
    "    Data_dict[ FullPN ] = np.array( Logger.getData( 0, getCurrentTime(), getCurrentTime() / 100 ) )[ :, :2 ]\n",
    "\n",
    "FullPNs_for_plot = [ \n",
    "    'Variable:/Cell:S1:Value',\n",
    "    'Variable:/Cell:S2:Value',\n",
    "    ]\n",
    "\n",
    "plt.figure()\n",
    "for FullPN, d in Data_dict.items():\n",
    "    if FullPN in FullPNs_for_plot:\n",
    "        plt.plot( d[ :, 0 ], d[ :, 1 ], label = FullPN.split(':')[ 2 ] )\n",
    "\n",
    "plt.legend( loc = 'upper right' )"
   ]
  },
  {
   "cell_type": "markdown",
   "metadata": {},
   "source": [
    "### 定常状態に達していないので、もう少しシミュレーションしてみる。"
   ]
  },
  {
   "cell_type": "code",
   "execution_count": null,
   "metadata": {},
   "outputs": [],
   "source": [
    "run( step_width * 9 )\n",
    "print 't = {}'.format( getCurrentTime() )"
   ]
  },
  {
   "cell_type": "code",
   "execution_count": null,
   "metadata": {},
   "outputs": [],
   "source": [
    "Data_dict = {}\n",
    "for FullPN, Logger in Logger_dict.items():\n",
    "    Data_dict[ FullPN ] = np.array( Logger.getData( 0, getCurrentTime(), getCurrentTime() / 100 ) )[ :, :2 ]\n",
    "\n",
    "FullPNs_for_plot = [ \n",
    "    'Variable:/Cell:S1:Value',\n",
    "    'Variable:/Cell:S2:Value',\n",
    "    ]\n",
    "\n",
    "plt.figure()\n",
    "for FullPN, d in Data_dict.items():\n",
    "    if FullPN in FullPNs_for_plot:\n",
    "        plt.plot( d[ :, 0 ], d[ :, 1 ], label = FullPN.split(':')[ 2 ] )\n",
    "\n",
    "plt.legend( loc = 'upper right' )"
   ]
  },
  {
   "cell_type": "markdown",
   "metadata": {},
   "source": [
    "# 演習（１）\n",
    "- このモデルの定常状態はどのように決まるだろうか。\n",
    "  - 速度定数などモデル内の値をいろいろ変えて試してみてもよい。\n",
    "  - 数学的に解いてもよい。\n",
    "  - いろいろ試行錯誤してみよう。"
   ]
  },
  {
   "cell_type": "code",
   "execution_count": null,
   "metadata": {},
   "outputs": [],
   "source": []
  }
 ],
 "metadata": {
  "kernelspec": {
   "display_name": "Python 2",
   "language": "python",
   "name": "python2"
  },
  "language_info": {
   "codemirror_mode": {
    "name": "ipython",
    "version": 2
   },
   "file_extension": ".py",
   "mimetype": "text/x-python",
   "name": "python",
   "nbconvert_exporter": "python",
   "pygments_lexer": "ipython2",
   "version": "2.7.16"
  }
 },
 "nbformat": 4,
 "nbformat_minor": 1
}
