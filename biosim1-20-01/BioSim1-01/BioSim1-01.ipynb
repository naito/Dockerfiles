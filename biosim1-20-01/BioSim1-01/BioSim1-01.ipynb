{
 "cells": [
  {
   "cell_type": "markdown",
   "metadata": {},
   "source": [
    "# モデル：酵母の解糖系のモデル\n",
    "- B. Teusink, J. Passarge, C. A. Reijenga, E. Esgalhado, C. C. van der Weijden, M. Schepper, M. C. Walsh, B. M. Bakker, K. van Dam, H. V. Westerhoff, and J. L. Snoep. Can yeast glycolysis be understood in terms of in vitro kinetics of the constituent enzymes? Testing biochemistry. _Eur J Biochem._, **267**(17):5313-5329, 2000.\n",
    "\n",
    "- [PubMed](https://www.ncbi.nlm.nih.gov/pubmed/10951190)  医学生物学論文のデータベース（米国立医学図書館）\n",
    "- [BioModels](https://www.ebi.ac.uk/biomodels-main/BIOMD0000000064) 数理生命科学モデルのデータベース（欧州バイオインフォマティクス研究所）\n",
    "  - [Models of the month 記事](https://www.ebi.ac.uk/biomodels-main/static-pages.do?page=ModelMonth%2F2007-01) BioModelsが毎月１つのモデルを取りあげて解説する記事"
   ]
  },
  {
   "cell_type": "markdown",
   "metadata": {},
   "source": [
    "## モデル構造の概略図"
   ]
  },
  {
   "cell_type": "markdown",
   "metadata": {},
   "source": [
    "![モデル概要](./Teusink_model.png)"
   ]
  },
  {
   "cell_type": "markdown",
   "metadata": {},
   "source": [
    "## モデルに含まれる代謝経路\n",
    "\n",
    "### グルコース輸送\n",
    "- 細胞外から細胞内へのグルコースの輸送\n",
    "\n",
    "### 解糖系\n",
    "\n",
    "## モデルの辺縁（モデルという世界の果て）\n",
    "- モデルは **有限** であるため、**閉鎖系** にならざるをえない。\n",
    "- ホンモノの生命システムは **開放系** だが、モデルは **閉鎖系** 。モデルの **辺縁** （モデル世界の果て）にある要素は、本当はモデルの **外側** につながっていて、その影響を受けている。\n",
    "- モデルでは、それら **辺縁** に位置する要素を固定する場合が多い。\n",
    "\n",
    "### このモデルの辺縁（ボーダー）\n",
    "- 細胞外グルコース（Glc_out）\n",
    "- グリコーゲン（Glycogen）\n",
    "- トレハロース（Trehalose）\n",
    "- グリセロール（Glycerol）\n",
    "- コハク酸（Succinate）\n",
    "- エタノール（Ethanol）\n",
    "\n",
    "#### 辺縁の物質の扱い\n",
    "- これらの物質はシミュレーション中、変化することがない。\n",
    "  - ホンモノの生命システムで、この **外側** にある要素によって打ち消され、安定していると仮定されている。"
   ]
  },
  {
   "cell_type": "markdown",
   "metadata": {},
   "source": [
    "# E-Cell3のモデル要素（`Entity`）\n",
    "\n",
    "## System\n",
    "- モデル内の **場所**\n",
    "- `System` は、フォルダの階層構造のように入れ子構造にできる。\n",
    "- `System` の相対的な場所をフォルダの階層構造のようにスラッシュ（`/`）区切りで表記したものを `SystemPath` という。\n",
    "  - `SystemPath` の例（このモデル内の `System`）\n",
    "    - `/` ルートシステム。必ず存在する。このモデルでは細胞外を表す。\n",
    "    - `/cytosol` 細胞質\n",
    "\n",
    "## Variable\n",
    "- モデル内の **変数**。多くの場合は **物質の量** をあらわす。\n",
    "- 特定のひとつの `System` に所属している。\n",
    "  - 物質の移動を表現する場合は、`System` ごとに同じ物質を設定してそれらの増減で表現する。\n",
    "    - このモデルでは、細胞内と細胞外のグルコースを設定して、細胞膜を介した輸送を表現している。\n",
    "\n",
    "## Process\n",
    "- モデル内で起こる **できごと** を表す。`Variable` 間の相互作用を表現する。\n",
    "- 特定のひとつの `System` に所属している。\n",
    "- 関連する `Variable` と接続している。\n",
    "\n",
    "## Stepper\n",
    "- モデル内の時間経過に沿って **変化が起こるタイミング** を司る。\n",
    "- 各 `Process` は、ひとつの `Stepper` と接続している。\n",
    "- `Stepper` がステップすると、接続する `Process` が **発火** し、接続した `Variable` に変化を起こす。\n",
    "\n",
    "\n",
    "# `Entity` の属性（`Property`）\n",
    "\n",
    "- `Entity` はさまざまな属性（`Property`）を持つ。\n",
    "\n",
    "## `Variable` の代表的な属性\n",
    "- `Value` 分子の数。\n",
    "- `MolarConc` モル濃度（モル/リットル）\n",
    "- `NumberConc` 分子数濃度（分子の数/リットル）\n",
    "- `Velocity` 変化速度。単位時間あたりの増減量。\n",
    "\n",
    "## `Process` の代表的な属性\n",
    "- `Activity` 反応速度。単位時間あたりの変化量。\n",
    "- `MolarActivity` 反応速度をモル濃度（モル/リットル）に換算した値。\n"
   ]
  },
  {
   "cell_type": "markdown",
   "metadata": {},
   "source": [
    "# FullID と FullPN\n",
    "- モデル中の `Entity` や `Property` を正確に指示するための表記法\n",
    "- コロン（`:`）をデリミタ（区切り文字）に使う。\n",
    "\n",
    "## FullID (Full IDentifier)\n",
    "- 記法　**`Entityの種類:SystemPath:Entityの名前`** （スペースを挿入してはならない）\n",
    "- 例 `Variable:/cytosol:PYR`\n",
    "\n",
    "## FullPN (Full Property Name)\n",
    "- 記法　**`Entityの種類:SystemPath:Entityの名前:Propertyの名前`** （スペースを挿入してはならない）\n",
    "- 例 `Variable:/cytosol:PYR:NumberConc`\n"
   ]
  },
  {
   "cell_type": "markdown",
   "metadata": {},
   "source": [
    "# E-Cell3を使うための準備\n"
   ]
  },
  {
   "cell_type": "code",
   "execution_count": null,
   "metadata": {},
   "outputs": [],
   "source": [
    "import imp\n",
    "try:\n",
    "    imp.find_module(\"ecell\")\n",
    "except ImportError:\n",
    "    import sys\n",
    "    sys.path.append(\"/opt/local/lib/python2.7/site-packages\")\n",
    "    sys.path.append(\"/opt/local/Library/Frameworks/Python.framework/Versions/2.7/lib/python2.7/site-packages\")"
   ]
  },
  {
   "cell_type": "code",
   "execution_count": null,
   "metadata": {},
   "outputs": [],
   "source": [
    "import numpy as np\n",
    "\n",
    "%matplotlib inline\n",
    "import matplotlib.pyplot as plt\n",
    "\n",
    "## %install_ext https://raw.githubusercontent.com/naito/ecell3-ipython/master/extensions/ecell3.py\n",
    "## %load_ext ecell3"
   ]
  },
  {
   "cell_type": "code",
   "execution_count": null,
   "metadata": {},
   "outputs": [],
   "source": [
    "import biosim_course"
   ]
  },
  {
   "cell_type": "markdown",
   "metadata": {},
   "source": [
    "# モデル\n",
    "\n",
    "- EM形式で記述されたモデル。"
   ]
  },
  {
   "cell_type": "code",
   "execution_count": null,
   "metadata": {},
   "outputs": [],
   "source": [
    "EM = '''\n",
    "Stepper ODEStepper( Default ){}\n",
    "\n",
    "Stepper PassiveStepper( PSV ) {}\n",
    "\n",
    "System System( / )\n",
    "{\n",
    "    StepperID    Default;\n",
    "\n",
    "    Variable Variable( SIZE )\n",
    "    {\n",
    "        Value    1.0;\n",
    "        Fixed    1;\n",
    "    }\n",
    "    \n",
    "    Variable Variable( GLCo )\n",
    "    {\n",
    "        Name    \"Extracellular Glucose\";\n",
    "        Value    50.0;\n",
    "        Fixed    1;\n",
    "    }\n",
    "    \n",
    "    \n",
    "}\n",
    "\n",
    "System System( /cytosol )\n",
    "{\n",
    "    StepperID    Default;\n",
    "\n",
    "    Variable Variable( SIZE )\n",
    "    {\n",
    "        Value    1.0;\n",
    "        Fixed    1;\n",
    "    }\n",
    "    \n",
    "    Variable Variable( GLCi )\n",
    "    {\n",
    "        Name    \"Glucose in Cytosol\";\n",
    "        Value    0.0987586913354;\n",
    "        Fixed    0;\n",
    "    }\n",
    "    \n",
    "    Variable Variable( G6P )\n",
    "    {\n",
    "        Name    \"Glucose 6 Phosphate\";\n",
    "        Value    1.03324562462;\n",
    "        Fixed    0;\n",
    "    }\n",
    "    \n",
    "    Variable Variable( F6P )\n",
    "    {\n",
    "        Name    \"Fructose 6 Phosphate\";\n",
    "        Value    0.112812816403;\n",
    "        Fixed    0;\n",
    "    }\n",
    "    \n",
    "    Variable Variable( F16P )\n",
    "    {\n",
    "        Name    \"Fructose-1,6 bisphosphate\";\n",
    "        Value    0.601907643133;\n",
    "        Fixed    0;\n",
    "    }\n",
    "    \n",
    "    Variable Variable( DHAP )\n",
    "    {\n",
    "        Name    \"Triose-phosphate\";\n",
    "        Value    0.777523539172;\n",
    "        Fixed    0;\n",
    "    }\n",
    "    \n",
    "    Variable Variable( BPG )\n",
    "    {\n",
    "        Name    \"1,3-bisphosphoglycerate\";\n",
    "        Value    0.000329573895017;\n",
    "        Fixed    0;\n",
    "    }\n",
    "    \n",
    "    Variable Variable( P3G )\n",
    "    {\n",
    "        Name    \"3-phosphoglycerate\";\n",
    "        Value    0.356484042769;\n",
    "        Fixed    0;\n",
    "    }\n",
    "    \n",
    "    Variable Variable( P2G )\n",
    "    {\n",
    "        Name    \"2-phosphoglycerate\";\n",
    "        Value    0.044843711804;\n",
    "        Fixed    0;\n",
    "    }\n",
    "    \n",
    "    Variable Variable( PEP )\n",
    "    {\n",
    "        Name    Phosphoenolpyruvate;\n",
    "        Value    0.0736168441039;\n",
    "        Fixed    0;\n",
    "    }\n",
    "    \n",
    "    Variable Variable( PYR )\n",
    "    {\n",
    "        Name    Pyruvate;\n",
    "        Value    8.52315268169;\n",
    "        Fixed    0;\n",
    "    }\n",
    "    \n",
    "    Variable Variable( ACE )\n",
    "    {\n",
    "        Name    Acetaldehyde;\n",
    "        Value    0.170114457481;\n",
    "        Fixed    0;\n",
    "    }\n",
    "    \n",
    "    Variable Variable( P )\n",
    "    {\n",
    "        Name    \"High energy phosphates\";\n",
    "        Value    6.30888166041;\n",
    "        Fixed    0;\n",
    "    }\n",
    "    \n",
    "    Variable Variable( NAD )\n",
    "    {\n",
    "        Name    NAD;\n",
    "        Value    1.54555976839;\n",
    "        Fixed    0;\n",
    "    }\n",
    "    \n",
    "    Variable Variable( NADH )\n",
    "    {\n",
    "        Name    NADH;\n",
    "        Value    0.0444402316101;\n",
    "        Fixed    0;\n",
    "    }\n",
    "    \n",
    "    Variable Variable( Glycogen )\n",
    "    {\n",
    "        Name    Glycogen;\n",
    "        Value    0.0;\n",
    "        Fixed    1;\n",
    "    }\n",
    "    \n",
    "    Variable Variable( Trehalose )\n",
    "    {\n",
    "        Name    Trehalose;\n",
    "        Value    0.0;\n",
    "        Fixed    1;\n",
    "    }\n",
    "    \n",
    "    Variable Variable( CO2 )\n",
    "    {\n",
    "        Name    CO2;\n",
    "        Value    1.0;\n",
    "        Fixed    1;\n",
    "    }\n",
    "    \n",
    "    Variable Variable( Succinate )\n",
    "    {\n",
    "        Name    Succinate;\n",
    "        Value    0.0;\n",
    "        Fixed    1;\n",
    "    }\n",
    "    \n",
    "    Variable Variable( Ethanol )\n",
    "    {\n",
    "        Name    Ethanol;\n",
    "        Value    50.0;\n",
    "        Fixed    1;\n",
    "    }\n",
    "    \n",
    "    Variable Variable( Glycerol )\n",
    "    {\n",
    "        Name    Glycerol;\n",
    "        Value    0.15;\n",
    "        Fixed    1;\n",
    "    }\n",
    "    \n",
    "    Variable Variable( ATP )\n",
    "    {\n",
    "        Name    \"ATP concentration\";\n",
    "        Value    2.50839064115;\n",
    "        Fixed    0;\n",
    "    }\n",
    "    \n",
    "    Variable Variable( ADP )\n",
    "    {\n",
    "        Name    \"ADP concentration\";\n",
    "        Value    1.29210037812;\n",
    "        Fixed    0;\n",
    "    }\n",
    "    \n",
    "    Variable Variable( AMP )\n",
    "    {\n",
    "        Name    \"AMP concentration\";\n",
    "        Value    0.299508980733;\n",
    "        Fixed    0;\n",
    "    }\n",
    "    \n",
    "    Variable Variable( SUM_P )\n",
    "    {\n",
    "        Name    \"sum of AXP conc\";\n",
    "        Value    4.1;\n",
    "        Fixed    1;\n",
    "    }\n",
    "    \n",
    "    Variable Variable( F26BP )\n",
    "    {\n",
    "        Name    \"F2,6P\";\n",
    "        Value    0.02;\n",
    "        Fixed    1;\n",
    "    }\n",
    "    \n",
    "    Process ExpressionFluxProcess( HK )\n",
    "    {\n",
    "        Name    Hexokinase;\n",
    "        Vmax       226.452;\n",
    "        KmGLKGLCi    0.08;\n",
    "        KmGLKATP     0.15;\n",
    "        KeqGLK    3800.0;\n",
    "        KmGLKG6P    30.0;\n",
    "        KmGLKADP     0.23;\n",
    "        Expression    \"Vmax / (KmGLKGLCi * KmGLKATP) * (GLCi.Value * ATP.Value - G6P.Value * ADP.Value / KeqGLK) / ((1 + GLCi.Value / KmGLKGLCi + G6P.Value / KmGLKG6P) * (1 + ATP.Value / KmGLKATP + ADP.Value / KmGLKADP))\";\n",
    "        VariableReferenceList\n",
    "            [ GLCi    Variable:/cytosol:GLCi -1 ]\n",
    "            [ P       Variable:/cytosol:P    -1 ]\n",
    "            [ G6P     Variable:/cytosol:G6P  1  ]\n",
    "            [ ATP     Variable:/cytosol:ATP  0  ]\n",
    "            [ ADP     Variable:/cytosol:ADP  0  ];\n",
    "    }\n",
    "    \n",
    "    Process ExpressionFluxProcess( PGI )\n",
    "    {\n",
    "        Name    \"Glucose-6-phosphate isomerase\";\n",
    "        Vmax        339.677;\n",
    "        KmPGIG6P_2    1.4;\n",
    "        KeqPGI_2      0.314;\n",
    "        KmPGIF6P_2    0.3;\n",
    "        Expression    \"Vmax / KmPGIG6P_2 * (G6P.Value - F6P.Value / KeqPGI_2) / (1 + G6P.Value / KmPGIG6P_2 + F6P.Value / KmPGIF6P_2)\";\n",
    "        VariableReferenceList\n",
    "            [ G6P     Variable:/cytosol:G6P  -1 ]\n",
    "            [ F6P     Variable:/cytosol:F6P  1  ];\n",
    "    }\n",
    "    \n",
    "    Process ExpressionFluxProcess( vGlycogen )\n",
    "    {\n",
    "        Name    \"Glycogen synthesis\";\n",
    "        Vmax    6.0;\n",
    "        Expression    \"Vmax\";\n",
    "        VariableReferenceList\n",
    "            [ G6P      Variable:/cytosol:G6P     -1 ]\n",
    "            [ P        Variable:/cytosol:P       -1 ]\n",
    "            [ Glycogen Variable:/cytosol:Glycogen 1 ];\n",
    "    }\n",
    "    \n",
    "    Process ExpressionFluxProcess( vTrehalose )\n",
    "    {\n",
    "        Name    \"Trehalose 6-phosphate synthase\";\n",
    "        Vmax    2.4;\n",
    "        Expression    \"Vmax\";\n",
    "        VariableReferenceList\n",
    "            [ G6P       Variable:/cytosol:G6P       -2 ]\n",
    "            [ P         Variable:/cytosol:P         -1 ]\n",
    "            [ Trehalose Variable:/cytosol:Trehalose  1 ];\n",
    "    }\n",
    "    \n",
    "    Process ExpressionFluxProcess( PFK )\n",
    "    {\n",
    "        Name    Phosphofructokinase;\n",
    "        Vmax       182.903;\n",
    "        gR           5.12;\n",
    "        KmPFKF6P     0.1;\n",
    "        KmPFKATP     0.71;\n",
    "        Lzero        0.66;\n",
    "        CiPFKATP   100.0;\n",
    "        KiPFKATP     0.65;\n",
    "        CPFKAMP      0.0845;\n",
    "        KPFKAMP      0.0995;\n",
    "        CPFKF26BP    0.0174;\n",
    "        KPFKF26BP    0.000682;\n",
    "        CPFKF16BP    0.397;\n",
    "        KPFKF16BP    0.111;\n",
    "        CPFKATP      3.0;\n",
    "        Expression    \"Vmax * gR * (F6P.Value / KmPFKF6P) * (ATP.Value / KmPFKATP) * ( 1 + F6P.Value / KmPFKF6P + ATP.Value / KmPFKATP + gR * F6P.Value / KmPFKF6P * ATP.Value / KmPFKATP ) / (pow(( 1 + F6P.Value / KmPFKF6P + ATP.Value / KmPFKATP + gR * F6P.Value / KmPFKF6P * ATP.Value / KmPFKATP ), 2) + ( Lzero * pow(( 1 + CiPFKATP * ATP.Value / KiPFKATP ) / ( 1 + ATP.Value / KiPFKATP ),2) * pow(( 1 + CPFKAMP * AMP.Value / KPFKAMP ) / ( 1 + AMP.Value / KPFKAMP ),2) * pow(( 1 + CPFKF26BP * F26BP.Value / KPFKF26BP + CPFKF16BP * F16P.Value / KPFKF16BP ) / ( 1 + F26BP.Value / KPFKF26BP + F16P.Value / KPFKF16BP ),2)) * pow(( 1.0 + CPFKATP * ATP.Value / KmPFKATP ), 2))\";\n",
    "        VariableReferenceList\n",
    "            [ F6P       Variable:/cytosol:F6P   -1 ]\n",
    "            [ P         Variable:/cytosol:P     -1 ]\n",
    "            [ F16P      Variable:/cytosol:F16P  1  ]\n",
    "            [ AMP       Variable:/cytosol:AMP   0  ]\n",
    "            [ ATP       Variable:/cytosol:ATP   0  ]\n",
    "            [ F26BP     Variable:/cytosol:F26BP 0  ];\n",
    "    }\n",
    "    \n",
    "    Process ExpressionFluxProcess( ALD )\n",
    "    {\n",
    "        Name    Aldolase;\n",
    "        Vmax       322.258;\n",
    "        KmALDF16P    0.3;\n",
    "        KeqALD       0.069;\n",
    "        KmALDGAP     2.0;\n",
    "        KmALDDHAP    2.4;\n",
    "        KmALDGAPi   10.0;\n",
    "        KeqTPI       0.045;\n",
    "        Expression    \"Vmax / KmALDF16P * (F16P.Value - KeqTPI / (1 + KeqTPI) * DHAP.Value * (1 / (1 + KeqTPI)) * DHAP.Value / KeqALD) / (1 + F16P.Value / KmALDF16P + KeqTPI / (1 + KeqTPI) * DHAP.Value / KmALDGAP + 1 / (1 + KeqTPI) * DHAP.Value / KmALDDHAP + KeqTPI / (1 + KeqTPI) * DHAP.Value * (1 / (1 + KeqTPI)) * DHAP.Value / (KmALDGAP * KmALDDHAP) + F16P.Value * (KeqTPI / (1 + KeqTPI)) * DHAP.Value / (KmALDGAPi * KmALDF16P))\";\n",
    "        VariableReferenceList\n",
    "            [ F16P    Variable:/cytosol:F16P -1 ]\n",
    "            [ DHAP    Variable:/cytosol:DHAP 2  ];\n",
    "    }\n",
    "    \n",
    "    Process ExpressionFluxProcess( GAPDH )\n",
    "    {\n",
    "        Name    \"Glyceraldehyde 3-phosphate dehydrogenase\";\n",
    "        Vmax_f       1184.52;\n",
    "        KmGAPDHGAP      0.21;\n",
    "        KmGAPDHNAD      0.09;\n",
    "        Vmax_r       6549.8;\n",
    "        KmGAPDHBPG      0.0098;\n",
    "        KmGAPDHNADH     0.06;\n",
    "        KeqTPI          0.045;\n",
    "        Expression    \"(Vmax_f * (KeqTPI / (1 + KeqTPI)) * DHAP.Value * NAD.Value / (KmGAPDHGAP * KmGAPDHNAD) - Vmax_r * BPG.Value * NADH.Value / (KmGAPDHBPG * KmGAPDHNADH)) / ((1 + KeqTPI / (1 + KeqTPI) * DHAP.Value / KmGAPDHGAP + BPG.Value / KmGAPDHBPG) * (1 + NAD.Value / KmGAPDHNAD + NADH.Value / KmGAPDHNADH))\";\n",
    "        VariableReferenceList\n",
    "            [ DHAP    Variable:/cytosol:DHAP -1 ]\n",
    "            [ NAD     Variable:/cytosol:NAD  -1 ]\n",
    "            [ BPG     Variable:/cytosol:BPG  1  ]\n",
    "            [ NADH    Variable:/cytosol:NADH 1  ];\n",
    "    }\n",
    "    \n",
    "    Process ExpressionFluxProcess( PGK )\n",
    "    {\n",
    "        Name    \"Phosphoglycerate kinase\";\n",
    "        Vmax    1306.45;\n",
    "        KmPGKP3G    0.53;\n",
    "        KmPGKATP    0.3;\n",
    "        KeqPGK    3200.0;\n",
    "        KmPGKBPG    0.003;\n",
    "        KmPGKADP    0.2;\n",
    "        Expression    \"Vmax / (KmPGKP3G * KmPGKATP) * (KeqPGK * BPG.Value * ADP.Value - P3G.Value * ATP.Value) / ((1 + BPG.Value / KmPGKBPG + P3G.Value / KmPGKP3G) * (1 + ATP.Value / KmPGKATP + ADP.Value / KmPGKADP))\";\n",
    "        VariableReferenceList\n",
    "            [ BPG     Variable:/cytosol:BPG  -1 ]\n",
    "            [ P3G     Variable:/cytosol:P3G  1  ]\n",
    "            [ P       Variable:/cytosol:P    1  ]\n",
    "            [ ATP     Variable:/cytosol:ATP  0  ]\n",
    "            [ ADP     Variable:/cytosol:ADP  0  ];\n",
    "    }\n",
    "    \n",
    "    Process ExpressionFluxProcess( PGM )\n",
    "    {\n",
    "        Name    \"Phosphoglycerate mutase\";\n",
    "        Vmax    2525.81;\n",
    "        KmPGMP3G    1.2;\n",
    "        KeqPGM    0.19;\n",
    "        KmPGMP2G    0.08;\n",
    "        Expression    \"Vmax / KmPGMP3G * (P3G.Value - P2G.Value / KeqPGM) / (1 + P3G.Value / KmPGMP3G + P2G.Value / KmPGMP2G)\";\n",
    "        VariableReferenceList\n",
    "            [ P3G     Variable:/cytosol:P3G  -1 ]\n",
    "            [ P2G     Variable:/cytosol:P2G  1  ];\n",
    "    }\n",
    "    \n",
    "    Process ExpressionFluxProcess( ENO )\n",
    "    {\n",
    "        Name    Enolase;\n",
    "        Vmax    365.806;\n",
    "        KmENOP2G    0.04;\n",
    "        KeqENO    6.7;\n",
    "        KmENOPEP    0.5;\n",
    "        Expression    \"Vmax / KmENOP2G * (P2G.Value - PEP.Value / KeqENO) / (1 + P2G.Value / KmENOP2G + PEP.Value / KmENOPEP)\";\n",
    "        VariableReferenceList\n",
    "            [ P2G     Variable:/cytosol:P2G  -1 ]\n",
    "            [ PEP     Variable:/cytosol:PEP  1  ];\n",
    "    }\n",
    "    \n",
    "    Process ExpressionFluxProcess( PYK )\n",
    "    {\n",
    "        Name    \"Pyruvate kinase\";\n",
    "        Vmax    1088.71;\n",
    "        KmPYKPEP    0.14;\n",
    "        KmPYKADP    0.53;\n",
    "        KeqPYK    6500.0;\n",
    "        KmPYKPYR    21.0;\n",
    "        KmPYKATP    1.5;\n",
    "        Expression    \"Vmax / (KmPYKPEP * KmPYKADP) * (PEP.Value * ADP.Value - PYR.Value * ATP.Value / KeqPYK) / ((1 + PEP.Value / KmPYKPEP + PYR.Value / KmPYKPYR) * (1 + ATP.Value / KmPYKATP + ADP.Value / KmPYKADP))\";\n",
    "        VariableReferenceList\n",
    "            [ PEP     Variable:/cytosol:PEP  -1 ]\n",
    "            [ PYR     Variable:/cytosol:PYR  1  ]\n",
    "            [ P       Variable:/cytosol:P    1  ]\n",
    "            [ ATP     Variable:/cytosol:ATP  0  ]\n",
    "            [ ADP     Variable:/cytosol:ADP  0  ];\n",
    "    }\n",
    "    \n",
    "    Process ExpressionFluxProcess( PDC )\n",
    "    {\n",
    "        Name    \"Pyruvate decarboxylase\";\n",
    "        Vmax    174.194;\n",
    "        nPDC    1.9;\n",
    "        KmPDCPYR    4.33;\n",
    "        Expression    \"Vmax * (pow(PYR.Value, nPDC) / pow(KmPDCPYR, nPDC)) / (1 + pow(PYR.Value, nPDC) / pow(KmPDCPYR, nPDC))\";\n",
    "        VariableReferenceList\n",
    "            [ PYR     Variable:/cytosol:PYR  -1 ]\n",
    "            [ ACE     Variable:/cytosol:ACE  1  ]\n",
    "            [ CO2     Variable:/cytosol:CO2  1  ];\n",
    "    }\n",
    "    \n",
    "    Process ExpressionFluxProcess( vSuccinate )\n",
    "    {\n",
    "        Name    \"Succinate synthesis\";\n",
    "        KSUCC    21.4;\n",
    "        Expression    \"KSUCC * ACE.Value\";\n",
    "        VariableReferenceList\n",
    "            [ ACE       Variable:/cytosol:ACE      -2 ]\n",
    "            [ NAD       Variable:/cytosol:NAD      -3 ]\n",
    "            [ P         Variable:/cytosol:P        -4 ]\n",
    "            [ NADH      Variable:/cytosol:NADH      3 ]\n",
    "            [ Succinate Variable:/cytosol:Succinate 1 ];\n",
    "    }\n",
    "    \n",
    "    Process ExpressionFluxProcess( GLCtransport )\n",
    "    {\n",
    "        Name    \"Glucose transport\";\n",
    "        Vmax    97.264;\n",
    "        KmGLTGLCo    1.1918;\n",
    "        KeqGLT    1.0;\n",
    "        KmGLTGLCi    1.1918;\n",
    "        Expression    \"Vmax / KmGLTGLCo * (GLCo.Value - GLCi.Value / KeqGLT) / (1 + GLCo.Value / KmGLTGLCo + GLCi.Value / KmGLTGLCi + 0.91 * GLCo.Value * GLCi.Value / (KmGLTGLCo * KmGLTGLCi))\";\n",
    "        VariableReferenceList\n",
    "            [ GLCo Variable:/:GLCo         -1 ]\n",
    "            [ GLCi Variable:/cytosol:GLCi 1  ];\n",
    "    }\n",
    "    \n",
    "    Process ExpressionFluxProcess( ADH )\n",
    "    {\n",
    "        Name    \"Alcohol dehydrogenase\";\n",
    "        Vmax    810.0;\n",
    "        KiADHNAD    0.92;\n",
    "        KmADHETOH    17.0;\n",
    "        KeqADH    6.9e-05;\n",
    "        KmADHNAD    0.17;\n",
    "        KmADHNADH    0.11;\n",
    "        KiADHNADH    0.031;\n",
    "        KmADHACE    1.11;\n",
    "        KiADHACE    1.1;\n",
    "        KiADHETOH    90.0;\n",
    "        Expression    \"-(Vmax / (KiADHNAD * KmADHETOH) * (NAD.Value * ETOH.Value - NADH.Value * ACE.Value / KeqADH) / (1 + NAD.Value / KiADHNAD + KmADHNAD * ETOH.Value / (KiADHNAD * KmADHETOH) + KmADHNADH * ACE.Value / (KiADHNADH * KmADHACE) + NADH.Value / KiADHNADH + NAD.Value * ETOH.Value / (KiADHNAD * KmADHETOH) + KmADHNADH * NAD.Value * ACE.Value / (KiADHNAD * KiADHNADH * KmADHACE) + KmADHNAD * ETOH.Value * NADH.Value / (KiADHNAD * KmADHETOH * KiADHNADH) + NADH.Value * ACE.Value / (KiADHNADH * KmADHACE) + NAD.Value * ETOH.Value * ACE.Value / (KiADHNAD * KmADHETOH * KiADHACE) + ETOH.Value * NADH.Value * ACE.Value / (KiADHETOH * KiADHNADH * KmADHACE)))\";\n",
    "        VariableReferenceList\n",
    "            [ ACE     Variable:/cytosol:ACE    -1 ]\n",
    "            [ NADH    Variable:/cytosol:NADH   -1 ]\n",
    "            [ NAD     Variable:/cytosol:NAD     1 ]\n",
    "            [ ETOH    Variable:/cytosol:Ethanol 1 ];\n",
    "    }\n",
    "    \n",
    "    Process ExpressionFluxProcess( G3PDH )\n",
    "    {\n",
    "        Name    \"Glycerol 3-phosphate dehydrogenase\";\n",
    "        Vmax    70.15;\n",
    "        KmG3PDHDHAP    0.4;\n",
    "        KmG3PDHNADH    0.023;\n",
    "        KeqG3PDH    4300.0;\n",
    "        KmG3PDHGLY    1.0;\n",
    "        KmG3PDHNAD    0.93;\n",
    "        KeqTPI    0.045;\n",
    "        Expression    \"Vmax / (KmG3PDHDHAP * KmG3PDHNADH) * (1 / (1 + KeqTPI) * DHAP.Value * NADH.Value - GLY.Value * NAD.Value / KeqG3PDH) / ((1 + 1 / (1 + KeqTPI) * DHAP.Value / KmG3PDHDHAP + GLY.Value / KmG3PDHGLY) * (1 + NADH.Value / KmG3PDHNADH + NAD.Value / KmG3PDHNAD))\";\n",
    "        VariableReferenceList\n",
    "            [ DHAP    Variable:/cytosol:DHAP     -1 ]\n",
    "            [ NADH    Variable:/cytosol:NADH     -1 ]\n",
    "            [ NAD     Variable:/cytosol:NAD       1 ]\n",
    "            [ GLY     Variable:/cytosol:Glycerol  1 ];\n",
    "    }\n",
    "    \n",
    "    Process ExpressionFluxProcess( vATP )\n",
    "    {\n",
    "        Name    \"ATPase activity\";\n",
    "        Vmax    33.7;\n",
    "        Expression    \"Vmax * ATP.Value\";\n",
    "        VariableReferenceList\n",
    "            [ P       Variable:/cytosol:P    -1 ]\n",
    "            [ ATP     Variable:/cytosol:ATP  0  ];\n",
    "    }\n",
    "\n",
    "Process ExpressionAssignmentProcess( Assignment_ADP )\n",
    "    {\n",
    "        StepperID    PSV;\n",
    "        Name    \"Assignment rule for 'ADP'\";\n",
    "        KeqAK    0.45;\n",
    "        Expression    \"(SUM_P.Value - pow(pow(P.Value, 2) * (1 - 4 * KeqAK) + 2 * SUM_P.Value * P.Value * (4 * KeqAK - 1) + pow(SUM_P.Value, 2), 0.5)) / (1 - 4 * KeqAK)\";\n",
    "        VariableReferenceList\n",
    "            [ ADP   Variable:/cytosol:ADP   1 ]\n",
    "            [ SUM_P Variable:/cytosol:SUM_P 0 ]\n",
    "            [ P     Variable:/cytosol:P     0 ];\n",
    "    }\n",
    "    \n",
    "    Process ExpressionAssignmentProcess( Assignment_ATP )\n",
    "    {\n",
    "        StepperID    PSV;\n",
    "        Name    \"Assignment rule for 'ATP'\";\n",
    "        Expression    \"(P.Value - ADP.Value) / 2\";\n",
    "        VariableReferenceList\n",
    "            [ ATP Variable:/cytosol:ATP 1 ]\n",
    "            [ P   Variable:/cytosol:P   0 ]\n",
    "            [ ADP Variable:/cytosol:ADP 0 ];\n",
    "    }\n",
    "    \n",
    "    Process ExpressionAssignmentProcess( Assignment_AMP )\n",
    "    {\n",
    "        StepperID    PSV;\n",
    "        Name    \"Assignment rule for 'AMP'\";\n",
    "        Expression    \"SUM_P.Value - ATP.Value - ADP.Value\";\n",
    "        VariableReferenceList\n",
    "            [ AMP   Variable:/cytosol:AMP   1 ]\n",
    "            [ SUM_P Variable:/cytosol:SUM_P 0 ]\n",
    "            [ ATP   Variable:/cytosol:ATP   0 ]\n",
    "            [ ADP   Variable:/cytosol:ADP   0 ];\n",
    "    }\n",
    "    \n",
    "}\n",
    "'''"
   ]
  },
  {
   "cell_type": "markdown",
   "metadata": {},
   "source": [
    "## モデルを読み込む"
   ]
  },
  {
   "cell_type": "code",
   "execution_count": null,
   "metadata": {},
   "outputs": [],
   "source": [
    "setModel(EM, \"Teusink2000_Glycolysis\")\n",
    "\n",
    "print 't = {}'.format( getCurrentTime() )"
   ]
  },
  {
   "cell_type": "markdown",
   "metadata": {},
   "source": [
    "## モデル中のすべての `Variable` と `Process` のリスト\n",
    "- `System::/`：細胞外の空間（＝培養液）\n",
    "- `System:/:cytosol`：細胞質\n",
    "  - `Variable`：解糖系とその周辺に関係する代謝物質\n",
    "  - `Process`：解糖系とその周辺に関係する酵素反応"
   ]
  },
  {
   "cell_type": "code",
   "execution_count": null,
   "metadata": {},
   "outputs": [],
   "source": [
    "for an_E_type in ( 'Variable', 'Process' ):\n",
    "    for a_SystemPath in ( '/', '/cytosol' ):\n",
    "        for E in getEntityList( an_E_type, a_SystemPath ):\n",
    "            print( ':'.join( ( an_E_type, a_SystemPath, E )))\n",
    "        print(\"\")"
   ]
  },
  {
   "cell_type": "markdown",
   "metadata": {},
   "source": [
    "# EntityStub をつくる\n",
    "\n",
    "- モデル中の要素（`Entity`）の内容を参照するには **Stub** という仕掛けを使います。\n",
    "- 下のセルでは、`Stub_dict` という辞書に、モデル中の **すべての `Variable` と `Process`** の `Stub` を格納しています。\n",
    "  - `Stub` から知ることができるのは、`Entity` の**現在**の状況です。過去の情報は含まれていません。"
   ]
  },
  {
   "cell_type": "code",
   "execution_count": null,
   "metadata": {},
   "outputs": [],
   "source": [
    "SystemPath_list = ( '/', '/cytosol', )\n",
    "Stub_dict = {}\n",
    "\n",
    "for a_SystemPath in SystemPath_list:\n",
    "    for E_type in ('Variable', 'Process'):\n",
    "        for E in getEntityList( E_type, a_SystemPath ):\n",
    "                FullID = ':'.join( ( E_type, a_SystemPath, E ) )\n",
    "                Stub_dict[ FullID ] = createEntityStub( FullID )\n",
    "\n",
    "def get_FullPN_value( a_FullPN ):\n",
    "    a_FullPN_list = a_FullPN.split(':')\n",
    "    a_FullID = ':'.join(a_FullPN_list[:3])\n",
    "    return Stub_dict[ a_FullID ][ a_FullPN_list[3] ]\n"
   ]
  },
  {
   "cell_type": "markdown",
   "metadata": {},
   "source": [
    "# Logger をつくる\n",
    "\n",
    "- シミュレーション中に起こる、ある変数の時間変化（時系列データ）を記録する仕掛けを **Logger** といいます。\n",
    "- 下のセルでは、`Logger_dict` という辞書に、モデル中の主要な変数について、その時系列データを記録するための Logger を登録しています。\n",
    "- 明示的に Logger をつくらないと、シミュレーション中のデータはどんどん失われ、最新時点のデータしか保持されません。\n",
    "  - すべてのデータを保持していると、大規模なモデルでは あっというまにテラバイトオーダーの容量を消費してしまうためです。\n",
    "- ここでは、モデル中のすべての `Variable` の `Value` と `Velocity`、ならびにすべての `Process` の `Activity` を記録します。"
   ]
  },
  {
   "cell_type": "code",
   "execution_count": null,
   "metadata": {},
   "outputs": [],
   "source": [
    "Target_Properties = dict(\n",
    "    Variable = ['Value', 'Velocity'], \n",
    "    Process  = ['Activity'],)\n",
    "Logger_dict = {}\n",
    "\n",
    "for a_SystemPath in SystemPath_list:\n",
    "    for E_type, Properties in Target_Properties.items():\n",
    "        for E in getEntityList( E_type, a_SystemPath ):\n",
    "            for p in Properties:\n",
    "                FullPN = ':'.join( ( E_type, a_SystemPath, E, p ) )\n",
    "                Logger_dict[ FullPN ] = createLoggerStub( FullPN )\n",
    "                Logger_dict[ FullPN ].create()\n"
   ]
  },
  {
   "cell_type": "markdown",
   "metadata": {},
   "source": [
    "# 初期状態を記録する\n",
    "- E-Cell3は、１度のセッションで１回しかモデルを読み込めません。また、時刻も戻すことはできません。\n",
    "- ただし、モデルの状態については、任意の時刻でモデル内の全状態を記録しておけば、後刻、モデル内の状態を記録済みの状態に書き換えることができます。\n",
    "- 全状態とは、すべての `Variable` の `Value` です。\n",
    "- 下のセルでは、辞書 `t0` に、現在（時刻 `0`）の全状態を記録しています。"
   ]
  },
  {
   "cell_type": "code",
   "execution_count": null,
   "metadata": {},
   "outputs": [],
   "source": [
    "t0 = dict( t = getCurrentTime() )\n",
    "\n",
    "for a_FullID, a_Stub in Stub_dict.items():\n",
    "    if a_FullID.split(':')[0] == 'Variable':\n",
    "        t0[ a_FullID + ':Value' ] = a_Stub['Value']"
   ]
  },
  {
   "cell_type": "markdown",
   "metadata": {},
   "source": [
    "# シミュレーションを実行する\n",
    "\n",
    "- 関数 `run( `_`n`_` )` は、時間 _n_ だけシミュレーションを実行します。このモデルの時間単位は分なので、`run( 1.0 )` は、細胞内の１分間の解糖系代謝のシミュレーションを実行します。"
   ]
  },
  {
   "cell_type": "code",
   "execution_count": null,
   "metadata": {},
   "outputs": [],
   "source": [
    "step_width = 120.0  # min\n",
    "\n",
    "run( step_width )\n",
    "print 't = {}'.format( getCurrentTime() )"
   ]
  },
  {
   "cell_type": "code",
   "execution_count": null,
   "metadata": {},
   "outputs": [],
   "source": [
    "print( 'GLCo.Value = {}'.format(Stub_dict['Variable:/:GLCo']['Value']))\n",
    "Stub_dict['Variable:/:GLCo']['Fixed'] = 0\n",
    "Stub_dict['Variable:/:GLCo']['Value'] = 100.0\n",
    "Stub_dict['Variable:/:GLCo']['Fixed'] = 1\n",
    "print( 'GLCo.Value = {}'.format(Stub_dict['Variable:/:GLCo']['Value']))\n",
    "\n",
    "run( step_width )"
   ]
  },
  {
   "cell_type": "markdown",
   "metadata": {},
   "source": [
    "# グラフを描くためにデータを取り出す\n",
    "\n",
    "- Logger から時系列データを取り出して、辞書 `Data_dict` に格納する。\n",
    "- `Logger.getData( 0, getCurrentTime(), getCurrentTime() / 100 )` は、**関数** `Logger.getData` に、**引数** を３つ渡しています。\n",
    "  - 第１引数と第２引数は、データを取り出してくる時間帯を指定するために、最初の時刻と、最後の時刻を指定しています。\n",
    "      - ここでは **時刻 `0`** から、**時刻 `getCurrentTime()`** まで、つまり、シミュレートした全時間帯のデータを取り出すように指定しています。\n",
    "          - `getCurrentTime()` は、シミュレータ内の時刻を取得するための関数です。\n",
    "  - 第３引数は、データの間隔を示します。今回つくった `Logger` には、記録対象についてシミュレーション中の全変化が記録されていますが、グラフを描く程度であれば、一般に 100 点くらいのデータがあれば滑らかになります。そこで、データの間隔を `getCurrentTime() / 100` と指定することで、`Logger` から、100個（厳密には101個）のデータだけをとってくるように指定しています。\n",
    "      - 第３引数の刻み幅を小さくするほど、データ量は増えます。その分、処理に時間がかかるようになりますが、グラフの描画結果は正確になります。"
   ]
  },
  {
   "cell_type": "code",
   "execution_count": null,
   "metadata": {},
   "outputs": [],
   "source": [
    "Data_dict = {}\n",
    "for FullPN, Logger in Logger_dict.items():\n",
    "    Data_dict[ FullPN ] = np.array( Logger.getData( 0, getCurrentTime(),  getCurrentTime() / 100 ) )[ :, :2 ]"
   ]
  },
  {
   "cell_type": "markdown",
   "metadata": {},
   "source": [
    "# グラフにプロットする対象をリストにする\n",
    "\n",
    "- リスト `FullPNs_for_plot` の要素をグラフに描く。\n",
    "- ここでは、解糖系の中間代謝物質のうち、G6P（グルコース６リン酸）、PYR（ピルビン酸）、および代表的なエネルギー伝達分子である ATP（アデノシン３リン酸）のモル濃度（mmol/L）をプロットする。\n",
    "\n",
    "\n",
    "## グラフに描く対象を加えてみよう\n",
    "- **グラフに描きたい対象の `FullPN` を下のリストに加えることができます。**\n",
    "  - このモデルでは `NumberConc` がモル濃度（モル/リットル）を表します。"
   ]
  },
  {
   "cell_type": "code",
   "execution_count": null,
   "metadata": {},
   "outputs": [],
   "source": [
    "FullPNs_for_plot = [ \n",
    "    'Variable:/cytosol:G6P:Value',\n",
    "    'Variable:/cytosol:PYR:Value',\n",
    "    'Variable:/cytosol:ATP:Value'\n",
    "    ]"
   ]
  },
  {
   "cell_type": "markdown",
   "metadata": {},
   "source": [
    "# グラフを描く（`Variable` の `Value`）\n",
    "\n",
    "- 配列 `FullPNs_for_plot` に含まれる `FullPN` の内容をグラフに描画します。"
   ]
  },
  {
   "cell_type": "code",
   "execution_count": null,
   "metadata": {},
   "outputs": [],
   "source": [
    "plt.figure()\n",
    "for FullPN, d in Data_dict.items():\n",
    "    if FullPN in FullPNs_for_plot:\n",
    "        plt.plot( d[ :, 0 ], d[ :, 1 ], label = FullPN.split(':')[ 2 ] )\n",
    "\n",
    "plt.legend( loc = 'upper right' )"
   ]
  },
  {
   "cell_type": "markdown",
   "metadata": {},
   "source": [
    "# グラフを描く（`Variable` の `Velocity`）\n",
    "\n",
    "- 上のグラフと同じ `Variable` の `Velocity` をグラフに描いてみる。"
   ]
  },
  {
   "cell_type": "code",
   "execution_count": null,
   "metadata": {},
   "outputs": [],
   "source": [
    "FullPNs_for_plot = [ \n",
    "    'Variable:/cytosol:G6P:Velocity',\n",
    "    'Variable:/cytosol:PYR:Velocity',\n",
    "    'Variable:/cytosol:ATP:Velocity'\n",
    "    ]"
   ]
  },
  {
   "cell_type": "code",
   "execution_count": null,
   "metadata": {
    "scrolled": true
   },
   "outputs": [],
   "source": [
    "plt.figure()\n",
    "for FullPN, d in Data_dict.items():\n",
    "    if FullPN in FullPNs_for_plot:\n",
    "        plt.plot( d[ :, 0 ], d[ :, 1 ], label = FullPN.split(':')[ 2 ] )\n",
    "\n",
    "plt.legend( loc = 'upper right' )"
   ]
  },
  {
   "cell_type": "markdown",
   "metadata": {},
   "source": [
    "## ギザギザの正体を追究してみる\n",
    "- 細胞外グルコースの量を２倍にした 時刻 120 分以降、３つの `Variable` の `Verocity` （物質の**変化速度**）が乱高下しています。\n",
    "- 一方で、一つ前の `Value` （物質の**量**）は、120分以降も滑らかに推移しているように見えます。\n",
    "\n",
    "- `Value` と `Verocity` の値を比べてみます。\n",
    "  - 下のセルの `FullID` に任意の `Variable` の `FullID` を書き込んで実行すると、その `Value` と `Velocity` が表示されます。"
   ]
  },
  {
   "cell_type": "code",
   "execution_count": null,
   "metadata": {},
   "outputs": [],
   "source": [
    "FullID = 'Variable:/cytosol:G6P'   # ← ここを書き換えると別のVariableの値を確認できます。 #################\n",
    "\n",
    "print '{}\\n    Value   : {}\\n    Velocity: {}'.format( \n",
    "    FullID, Stub_dict[FullID]['Value'], Stub_dict[FullID]['Velocity'])"
   ]
  },
  {
   "cell_type": "markdown",
   "metadata": {},
   "source": [
    "- `Value` はモル濃度、`Velocity` は１分間あたりのモル濃度の変化速度（分速）の値です。`Velocity` は、激しく振動していますが、`Value` に比べて 1000分の1 から 10000分の1 程度という、非常に小さい速度であり、`Value` に明らかな変化を与えるほどではないことがわかります。\n",
    "\n",
    "- `Velocity`のグラフのギザギザは、かなり細かく、隣りあった点の間で大きく値が変化していることから、このグラフを描くのに使った 100 点では粗すぎるかもしれません（となりあった点の間でも大きく変化しているかもしれない）。\n",
    "- そこで、1000点くらいまでデータを細かくとって、グラフを書き直してみます。\n",
    "  - 具体的には `Logger.getData()` の第３引数に、より小さな値を渡します。下のセルでは、時刻 120 から 240 の区間を、0.1 分間隔でデータを取ってくるように書き直しています。"
   ]
  },
  {
   "cell_type": "code",
   "execution_count": null,
   "metadata": {},
   "outputs": [],
   "source": [
    "Data_dict = {}\n",
    "for FullPN, Logger in Logger_dict.items():\n",
    "    Data_dict[ FullPN ] = np.array( Logger.getData( 120, 240, 0.1 ) )[ :, :2 ]"
   ]
  },
  {
   "cell_type": "code",
   "execution_count": null,
   "metadata": {
    "scrolled": true
   },
   "outputs": [],
   "source": [
    "plt.figure()\n",
    "for FullPN, d in Data_dict.items():\n",
    "    if FullPN in FullPNs_for_plot:\n",
    "        plt.plot( d[ :, 0 ], d[ :, 1 ], label = FullPN.split(':')[ 2 ] )\n",
    "\n",
    "plt.legend( loc = 'upper right' )"
   ]
  },
  {
   "cell_type": "markdown",
   "metadata": {},
   "source": [
    "- 描き直したグラフから、細胞外グルコースの量を増やした直後に大きな変化が起こり、その後も微弱な増減がつづいていることがわかります。"
   ]
  },
  {
   "cell_type": "markdown",
   "metadata": {},
   "source": [
    "# モデルの数値を書き換えてみる\n",
    "\n",
    "- モデル内の変数、パラメータを書き換えてみる。\n",
    "- 書き換えたあとにシミュレーションを再開することで、その影響を計算してみる。\n",
    "- 何の数値を変えるか、自分で選んで変えてみよう。\n",
    "  - 変えたい物質の `FullPN` で指定します。変更する `Property` \n",
    "    - `Variable` であれば `Value`\n",
    "    - `Process` であれば `Velocity`\n",
    "- 現在の値を確認してから、書き換える。\n",
    "\n",
    "## 属性を書き換えるための関数 `setEntityProperty()` を用意する。\n",
    "- 書式：`setEntityProperty( `*`FullPN`*`, `*`value`*` )`\n",
    "  - 引数\n",
    "    - *`FullPN`* ：書き換えたい `Property` の `FullPN`\n",
    "    - *`value`* ：書き換える値"
   ]
  },
  {
   "cell_type": "code",
   "execution_count": null,
   "metadata": {},
   "outputs": [],
   "source": [
    "def setEntityProperty( a_FullPN, a_value ):\n",
    "    a_FullPN_list = a_FullPN.split(':')\n",
    "    a_FullID = ':'.join(a_FullPN_list[:3])\n",
    "    a_Property = a_FullPN_list[3]\n",
    "    if a_FullPN_list[0] == 'Variable':\n",
    "        if Stub_dict[a_FullID]['Fixed'] == 1:\n",
    "            Stub_dict[a_FullID]['Fixed'] = 0\n",
    "            Stub_dict[a_FullID][ a_FullPN_list[3] ] = a_value\n",
    "            Stub_dict[a_FullID]['Fixed'] = 1\n",
    "        else:\n",
    "            Stub_dict[a_FullID][ a_FullPN_list[3] ] = a_value\n",
    "    elif a_FullPN_list[0] == 'Process':\n",
    "        Stub_dict[a_FullID][ a_FullPN_list[3] ] = a_value\n",
    "\n",
    "    print( '{} = {}'.format( a_FullPN, Stub_dict[a_FullID][ a_FullPN_list[3] ] ) )\n",
    "    return"
   ]
  },
  {
   "cell_type": "markdown",
   "metadata": {},
   "source": [
    "## 関数 `setEntityProperty()` を使って、属性を書き換える\n",
    "- 下のセルの例では、ピルビン酸（`Variable:/cytosol:PYR:Value`）を 50.0 M に変更している。\n",
    "- セルを実行すると、書き換え後の値が `print` されます。"
   ]
  },
  {
   "cell_type": "code",
   "execution_count": null,
   "metadata": {},
   "outputs": [],
   "source": [
    "taeget_FullPN = 'Variable:/cytosol:PYR:Value'  # ←ここを書き換えたい FullPN に書き換える ##############\n",
    "\n",
    "setEntityProperty( taeget_FullPN, 50.0 )       # ←第２引数に書き換えたい値を設定する ##############"
   ]
  },
  {
   "cell_type": "markdown",
   "metadata": {},
   "source": [
    "# シミュレーションしてグラフを描く\n",
    "\n",
    "- 書き換え後にシミュレーションを行い、その結果をグラフに描く。\n",
    "- ほぼコピペでＯＫ。"
   ]
  },
  {
   "cell_type": "code",
   "execution_count": null,
   "metadata": {},
   "outputs": [],
   "source": [
    "run( step_width )\n",
    "print 't = {}'.format( getCurrentTime() )"
   ]
  },
  {
   "cell_type": "markdown",
   "metadata": {},
   "source": [
    "- Logger には自動的にデータが貯まりますが、`Data_dict` は手動で更新しなければなりません。\n",
    "- `getCurrentTime()` を使って、これまでのシミュレーションしたデータから、最初から最後までを、100区画に刻んだデータを取ってきます。"
   ]
  },
  {
   "cell_type": "code",
   "execution_count": null,
   "metadata": {
    "scrolled": true
   },
   "outputs": [],
   "source": [
    "for FullPN, Logger in Logger_dict.items():\n",
    "    Data_dict[ FullPN ] = np.array( Logger.getData( 0, getCurrentTime(), getCurrentTime() / 100 ) )[ :, :2 ]\n",
    "\n",
    "plt.figure()\n",
    "plt.plot( Data_dict[ taeget_FullPN ][ :, 0 ], Data_dict[ taeget_FullPN ][ :, 1 ], label = taeget_FullPN.split(':')[ 2 ] )\n",
    "plt.legend( loc = 'upper right' )"
   ]
  },
  {
   "cell_type": "markdown",
   "metadata": {},
   "source": [
    "# 他の `Variable` もグラフに描いてみる\n",
    "\n",
    "- 配列 `FullPNs_for_plot` に含まれる `FullPN` の内容をグラフに描画します。"
   ]
  },
  {
   "cell_type": "code",
   "execution_count": null,
   "metadata": {
    "scrolled": true
   },
   "outputs": [],
   "source": [
    "FullPNs_for_plot = [ \n",
    "    'Variable:/cytosol:G6P:Value',\n",
    "    'Variable:/cytosol:PYR:Value',\n",
    "    'Variable:/cytosol:ATP:Value'\n",
    "    ]\n",
    "\n",
    "plt.figure()\n",
    "for FullPN, d in Data_dict.items():\n",
    "    if FullPN in FullPNs_for_plot:\n",
    "        plt.plot( d[ :, 0 ], d[ :, 1 ], label = FullPN.split(':')[ 2 ] )\n",
    "\n",
    "plt.legend( loc = 'upper right' )"
   ]
  },
  {
   "cell_type": "markdown",
   "metadata": {},
   "source": [
    "# モデルを時刻０の状態にリセットする\n",
    "- モデルを読み込んだ際に、全状態を記録した辞書 `t0` を利用して、モデルの状態を時刻０の状態に戻す。"
   ]
  },
  {
   "cell_type": "code",
   "execution_count": null,
   "metadata": {
    "scrolled": false
   },
   "outputs": [],
   "source": [
    "for a_FullPN, a_value in t0.items():\n",
    "    if a_FullPN != 't':\n",
    "        setEntityProperty( a_FullPN, a_value )"
   ]
  },
  {
   "cell_type": "markdown",
   "metadata": {},
   "source": [
    "# シミュレーションしてリセットされたことを確認する"
   ]
  },
  {
   "cell_type": "code",
   "execution_count": null,
   "metadata": {},
   "outputs": [],
   "source": [
    "run( step_width )\n",
    "\n",
    "for FullPN, Logger in Logger_dict.items():\n",
    "    Data_dict[ FullPN ] = np.array( Logger.getData( 0, getCurrentTime(), getCurrentTime() / 100 ) )[ :, :2 ]\n",
    "\n",
    "FullPNs_for_plot = [ \n",
    "    'Variable:/cytosol:G6P:Value',\n",
    "    'Variable:/cytosol:ATP:Value'\n",
    "    ]\n",
    "\n",
    "plt.figure()\n",
    "for FullPN, d in Data_dict.items():\n",
    "    if FullPN in FullPNs_for_plot:\n",
    "        plt.plot( d[ :, 0 ], d[ :, 1 ], label = FullPN.split(':')[ 2 ] )\n",
    "\n",
    "plt.legend( loc = 'upper right' )"
   ]
  },
  {
   "cell_type": "markdown",
   "metadata": {},
   "source": [
    "- グラフを見るかぎり、リセットできている様子。"
   ]
  },
  {
   "cell_type": "markdown",
   "metadata": {},
   "source": [
    "# 辺縁（ボーダー）にある要素の状況を確認する\n",
    "- 物質量（`Value`）をグラフ化してみる。"
   ]
  },
  {
   "cell_type": "code",
   "execution_count": null,
   "metadata": {
    "scrolled": true
   },
   "outputs": [],
   "source": [
    "FullPNs_for_plot = [ \n",
    "    'Variable:/:GLCo:Value',\n",
    "    'Variable:/cytosol:Glycogen:Value',\n",
    "    'Variable:/cytosol:Trehalose:Value',\n",
    "    'Variable:/cytosol:Glycerol:Value',\n",
    "    'Variable:/cytosol:Succinate:Value',\n",
    "    'Variable:/cytosol:Ethanol:Value',\n",
    "    ]\n",
    "\n",
    "plt.figure()\n",
    "for FullPN, d in Data_dict.items():\n",
    "    if FullPN in FullPNs_for_plot:\n",
    "        plt.plot( d[ :, 0 ], d[ :, 1 ], label = FullPN.split(':')[ 2 ] )\n",
    "\n",
    "plt.legend( loc = 'upper right' )"
   ]
  },
  {
   "cell_type": "markdown",
   "metadata": {},
   "source": [
    "- 細胞外グルコースは２倍に書き換えたために、矩形状に増減しているが、他の物質は、**固定されているため**一切変化していない。"
   ]
  },
  {
   "cell_type": "markdown",
   "metadata": {},
   "source": [
    "## 辺縁にある要素の変化速度を確認する\n",
    "- 変化速度（`Velocity`）をグラフ化してみる。\n",
    "- 辺縁にある物質は、下のセルにある６つ。"
   ]
  },
  {
   "cell_type": "code",
   "execution_count": null,
   "metadata": {
    "scrolled": true
   },
   "outputs": [],
   "source": [
    "FullPNs_for_plot = [ \n",
    "    'Variable:/:GLCo:Velocity',\n",
    "    'Variable:/cytosol:Glycogen:Velocity',\n",
    "    'Variable:/cytosol:Trehalose:Velocity',\n",
    "    'Variable:/cytosol:Glycerol:Velocity',\n",
    "    'Variable:/cytosol:Succinate:Velocity',\n",
    "    'Variable:/cytosol:Ethanol:Velocity',\n",
    "    ]\n",
    "\n",
    "plt.figure()\n",
    "for FullPN, d in Data_dict.items():\n",
    "    if FullPN in FullPNs_for_plot:\n",
    "        plt.plot( d[ :, 0 ], d[ :, 1 ], label = FullPN.split(':')[ 2 ] )\n",
    "\n",
    "plt.legend( loc = 'upper right' )"
   ]
  },
  {
   "cell_type": "markdown",
   "metadata": {},
   "source": [
    "- 物質の変化速度（`Velocity`）は、細胞外グルコースの量の変化の影響を受けている。"
   ]
  },
  {
   "cell_type": "markdown",
   "metadata": {},
   "source": [
    "# 演習\n",
    "- モデル中のさまざまな要素の属性の値を書き換えて、その結果を観察してみよう。\n",
    "- 属性の値を書き換えた結果は、いくつかに分類できます。どのような変化の種類があり、それらを分けている原因は何なのか、考えてみましょう。"
   ]
  },
  {
   "cell_type": "code",
   "execution_count": null,
   "metadata": {},
   "outputs": [],
   "source": []
  }
 ],
 "metadata": {
  "kernelspec": {
   "display_name": "Python 2",
   "language": "python",
   "name": "python2"
  },
  "language_info": {
   "codemirror_mode": {
    "name": "ipython",
    "version": 2
   },
   "file_extension": ".py",
   "mimetype": "text/x-python",
   "name": "python",
   "nbconvert_exporter": "python",
   "pygments_lexer": "ipython2",
   "version": "2.7.16"
  }
 },
 "nbformat": 4,
 "nbformat_minor": 1
}
